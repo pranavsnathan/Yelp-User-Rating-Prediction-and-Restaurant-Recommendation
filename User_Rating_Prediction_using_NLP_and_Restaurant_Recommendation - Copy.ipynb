{
 "cells": [
  {
   "cell_type": "markdown",
   "metadata": {
    "colab_type": "text",
    "id": "2Qwl5BSlm4tN"
   },
   "source": [
    "# USER RATING PREDICTION USING NLP AND RESTAURANT RECOMMENDATION"
   ]
  },
  {
   "cell_type": "markdown",
   "metadata": {
    "colab_type": "text",
    "id": "fuaXjyVvnBPD"
   },
   "source": [
    "## 1. INTRODUCTION"
   ]
  },
  {
   "cell_type": "markdown",
   "metadata": {
    "colab_type": "text",
    "id": "SdOCeMajnKzk"
   },
   "source": [
    "This dataset is a subset of Yelp’s businesses, reviews, and user data. It was originally put together for the Yelp Dataset Challenge which is a chance for students to conduct research or analysis on Yelp’s data and share their discoveries. In the dataset you’ll find information about businesses across 11 metropolitan areas in four countries.\n",
    "\n",
    "Before we do any analysis, we have to understand :\n",
    "1) what information the data has \n",
    "2) what relationship exists overall \n",
    "3) what can be done with different features. \n",
    "\n",
    "We have the following information for Yelp :\n",
    "\n",
    "- Business - Contains business data including location data, and categories.  \n",
    "- Attributes - Contains different business attributes\n",
    "- Reviews - Contains full review text data including the user_id that wrote the review and the business_id the review is written for.  \n",
    "- User - Conatins user data including the user's friend mapping and all the metadata associated with the user.  \n",
    "- Checkin - Checkins on a business.  \n",
    "- Tips - Contains tips written by a user on a business. Tips are shorter than reviews and tend to convey quick suggestions.  \n",
    "- Photos - Contains photo identification related information\n",
    "\n",
    "In our notebook, we are mainly going to use busniess, user and review data. We are going to deep dive into the reviews of a user, perform text analysis, create a baseline model to predict the sentiment from the review and then compare it with another model where all the text pre-processing is done including removal of stopwords, punctuations and lemmatiation techniques to reflect if there is any significant change iin the sentiment prediction.\n",
    "\n",
    "Also, we are then going to perform various types of recommendations based on the user ratings. We will first create a BaselineOnly model and then move ahead with various other modelling techniques for recommendations."
   ]
  },
  {
   "cell_type": "markdown",
   "metadata": {
    "colab_type": "text",
    "id": "jIO22uNAqkQ1"
   },
   "source": [
    "## 2. DATA PREPARATION - PACKAGE INSTALLATIONS, GOOGLE AUTHENTICATION, IMPORTING AND LOADING LIBRARIES AND DATA "
   ]
  },
  {
   "cell_type": "code",
   "execution_count": 0,
   "metadata": {
    "colab": {
     "base_uri": "https://localhost:8080/",
     "height": 207
    },
    "colab_type": "code",
    "id": "MW-ZZL0Pmgpo",
    "outputId": "d81357b3-ad08-455c-a72f-4208d38924a7"
   },
   "outputs": [
    {
     "name": "stdout",
     "output_type": "stream",
     "text": [
      "Requirement already satisfied: PyDrive in /usr/local/lib/python3.6/dist-packages (1.3.1)\n",
      "Requirement already satisfied: oauth2client>=4.0.0 in /usr/local/lib/python3.6/dist-packages (from PyDrive) (4.1.3)\n",
      "Requirement already satisfied: google-api-python-client>=1.2 in /usr/local/lib/python3.6/dist-packages (from PyDrive) (1.6.7)\n",
      "Requirement already satisfied: PyYAML>=3.0 in /usr/local/lib/python3.6/dist-packages (from PyDrive) (3.13)\n",
      "Requirement already satisfied: pyasn1-modules>=0.0.5 in /usr/local/lib/python3.6/dist-packages (from oauth2client>=4.0.0->PyDrive) (0.2.2)\n",
      "Requirement already satisfied: rsa>=3.1.4 in /usr/local/lib/python3.6/dist-packages (from oauth2client>=4.0.0->PyDrive) (4.0)\n",
      "Requirement already satisfied: pyasn1>=0.1.7 in /usr/local/lib/python3.6/dist-packages (from oauth2client>=4.0.0->PyDrive) (0.4.4)\n",
      "Requirement already satisfied: six>=1.6.1 in /usr/local/lib/python3.6/dist-packages (from oauth2client>=4.0.0->PyDrive) (1.11.0)\n",
      "Requirement already satisfied: httplib2>=0.9.1 in /usr/local/lib/python3.6/dist-packages (from oauth2client>=4.0.0->PyDrive) (0.11.3)\n",
      "Requirement already satisfied: uritemplate<4dev,>=3.0.0 in /usr/local/lib/python3.6/dist-packages (from google-api-python-client>=1.2->PyDrive) (3.0.0)\n"
     ]
    }
   ],
   "source": [
    "!pip install PyDrive"
   ]
  },
  {
   "cell_type": "code",
   "execution_count": 0,
   "metadata": {
    "colab": {
     "base_uri": "https://localhost:8080/",
     "height": 85
    },
    "colab_type": "code",
    "id": "7W2G5GBeaUKA",
    "outputId": "7ad01dc4-b9cb-4465-faa3-1cff06814aba"
   },
   "outputs": [
    {
     "name": "stdout",
     "output_type": "stream",
     "text": [
      "Requirement already satisfied: wordcloud in /usr/local/lib/python3.6/dist-packages (1.5.0)\n",
      "Requirement already satisfied: numpy>=1.6.1 in /usr/local/lib/python3.6/dist-packages (from wordcloud) (1.14.6)\n",
      "Requirement already satisfied: pillow in /usr/local/lib/python3.6/dist-packages (from wordcloud) (4.0.0)\n",
      "Requirement already satisfied: olefile in /usr/local/lib/python3.6/dist-packages (from pillow->wordcloud) (0.46)\n"
     ]
    }
   ],
   "source": [
    "!pip install wordcloud"
   ]
  },
  {
   "cell_type": "code",
   "execution_count": 0,
   "metadata": {
    "colab": {
     "base_uri": "https://localhost:8080/",
     "height": 119
    },
    "colab_type": "code",
    "id": "m5jhEr2oDeZ6",
    "outputId": "75d96c9e-1915-44c2-948b-689b66b28868"
   },
   "outputs": [
    {
     "name": "stdout",
     "output_type": "stream",
     "text": [
      "Requirement already satisfied: surprise in /usr/local/lib/python3.6/dist-packages (0.1)\n",
      "Requirement already satisfied: scikit-surprise in /usr/local/lib/python3.6/dist-packages (from surprise) (1.0.6)\n",
      "Requirement already satisfied: scipy>=1.0.0 in /usr/local/lib/python3.6/dist-packages (from scikit-surprise->surprise) (1.1.0)\n",
      "Requirement already satisfied: six>=1.10.0 in /usr/local/lib/python3.6/dist-packages (from scikit-surprise->surprise) (1.11.0)\n",
      "Requirement already satisfied: joblib>=0.11 in /usr/local/lib/python3.6/dist-packages (from scikit-surprise->surprise) (0.13.0)\n",
      "Requirement already satisfied: numpy>=1.11.2 in /usr/local/lib/python3.6/dist-packages (from scikit-surprise->surprise) (1.14.6)\n"
     ]
    }
   ],
   "source": [
    "!pip install surprise"
   ]
  },
  {
   "cell_type": "code",
   "execution_count": 0,
   "metadata": {
    "colab": {},
    "colab_type": "code",
    "id": "Ipn2c0kV9114"
   },
   "outputs": [],
   "source": [
    "import os\n",
    "from pydrive.auth import GoogleAuth\n",
    "from pydrive.drive import GoogleDrive\n",
    "from google.colab import auth\n",
    "from oauth2client.client import GoogleCredentials\n",
    "import time\n",
    "import nltk"
   ]
  },
  {
   "cell_type": "code",
   "execution_count": 0,
   "metadata": {
    "colab": {
     "base_uri": "https://localhost:8080/",
     "height": 3791
    },
    "colab_type": "code",
    "id": "q8B41kmFrQjg",
    "outputId": "006f1374-b199-4a23-b352-0b98c18769ad"
   },
   "outputs": [
    {
     "name": "stdout",
     "output_type": "stream",
     "text": [
      "NLTK Downloader\n",
      "---------------------------------------------------------------------------\n",
      "    d) Download   l) List    u) Update   c) Config   h) Help   q) Quit\n",
      "---------------------------------------------------------------------------\n",
      "Downloader> D\n",
      "\n",
      "Download which package (l=list; x=cancel)?\n",
      "  Identifier> all\n",
      "    Downloading collection 'all'\n",
      "       | \n",
      "       | Downloading package abc to /root/nltk_data...\n",
      "       |   Unzipping corpora/abc.zip.\n",
      "       | Downloading package alpino to /root/nltk_data...\n",
      "       |   Unzipping corpora/alpino.zip.\n",
      "       | Downloading package biocreative_ppi to /root/nltk_data...\n",
      "       |   Unzipping corpora/biocreative_ppi.zip.\n",
      "       | Downloading package brown to /root/nltk_data...\n",
      "       |   Unzipping corpora/brown.zip.\n",
      "       | Downloading package brown_tei to /root/nltk_data...\n",
      "       |   Unzipping corpora/brown_tei.zip.\n",
      "       | Downloading package cess_cat to /root/nltk_data...\n",
      "       |   Unzipping corpora/cess_cat.zip.\n",
      "       | Downloading package cess_esp to /root/nltk_data...\n",
      "       |   Unzipping corpora/cess_esp.zip.\n",
      "       | Downloading package chat80 to /root/nltk_data...\n",
      "       |   Unzipping corpora/chat80.zip.\n",
      "       | Downloading package city_database to /root/nltk_data...\n",
      "       |   Unzipping corpora/city_database.zip.\n",
      "       | Downloading package cmudict to /root/nltk_data...\n",
      "       |   Unzipping corpora/cmudict.zip.\n",
      "       | Downloading package comparative_sentences to\n",
      "       |     /root/nltk_data...\n",
      "       |   Unzipping corpora/comparative_sentences.zip.\n",
      "       | Downloading package comtrans to /root/nltk_data...\n",
      "       | Downloading package conll2000 to /root/nltk_data...\n",
      "       |   Unzipping corpora/conll2000.zip.\n",
      "       | Downloading package conll2002 to /root/nltk_data...\n",
      "       |   Unzipping corpora/conll2002.zip.\n",
      "       | Downloading package conll2007 to /root/nltk_data...\n",
      "       | Downloading package crubadan to /root/nltk_data...\n",
      "       |   Unzipping corpora/crubadan.zip.\n",
      "       | Downloading package dependency_treebank to /root/nltk_data...\n",
      "       |   Unzipping corpora/dependency_treebank.zip.\n",
      "       | Downloading package dolch to /root/nltk_data...\n",
      "       |   Unzipping corpora/dolch.zip.\n",
      "       | Downloading package europarl_raw to /root/nltk_data...\n",
      "       |   Unzipping corpora/europarl_raw.zip.\n",
      "       | Downloading package floresta to /root/nltk_data...\n",
      "       |   Unzipping corpora/floresta.zip.\n",
      "       | Downloading package framenet_v15 to /root/nltk_data...\n",
      "       |   Unzipping corpora/framenet_v15.zip.\n",
      "       | Downloading package framenet_v17 to /root/nltk_data...\n",
      "       |   Unzipping corpora/framenet_v17.zip.\n",
      "       | Downloading package gazetteers to /root/nltk_data...\n",
      "       |   Unzipping corpora/gazetteers.zip.\n",
      "       | Downloading package genesis to /root/nltk_data...\n",
      "       |   Unzipping corpora/genesis.zip.\n",
      "       | Downloading package gutenberg to /root/nltk_data...\n",
      "       |   Unzipping corpora/gutenberg.zip.\n",
      "       | Downloading package ieer to /root/nltk_data...\n",
      "       |   Unzipping corpora/ieer.zip.\n",
      "       | Downloading package inaugural to /root/nltk_data...\n",
      "       |   Unzipping corpora/inaugural.zip.\n",
      "       | Downloading package indian to /root/nltk_data...\n",
      "       |   Unzipping corpora/indian.zip.\n",
      "       | Downloading package jeita to /root/nltk_data...\n",
      "       | Downloading package kimmo to /root/nltk_data...\n",
      "       |   Unzipping corpora/kimmo.zip.\n",
      "       | Downloading package knbc to /root/nltk_data...\n",
      "       | Downloading package lin_thesaurus to /root/nltk_data...\n",
      "       |   Unzipping corpora/lin_thesaurus.zip.\n",
      "       | Downloading package mac_morpho to /root/nltk_data...\n",
      "       |   Unzipping corpora/mac_morpho.zip.\n",
      "       | Downloading package machado to /root/nltk_data...\n",
      "       | Downloading package masc_tagged to /root/nltk_data...\n",
      "       | Downloading package moses_sample to /root/nltk_data...\n",
      "       |   Unzipping models/moses_sample.zip.\n",
      "       | Downloading package movie_reviews to /root/nltk_data...\n",
      "       |   Unzipping corpora/movie_reviews.zip.\n",
      "       | Downloading package names to /root/nltk_data...\n",
      "       |   Unzipping corpora/names.zip.\n",
      "       | Downloading package nombank.1.0 to /root/nltk_data...\n",
      "       | Downloading package nps_chat to /root/nltk_data...\n",
      "       |   Unzipping corpora/nps_chat.zip.\n",
      "       | Downloading package omw to /root/nltk_data...\n",
      "       |   Unzipping corpora/omw.zip.\n",
      "       | Downloading package opinion_lexicon to /root/nltk_data...\n",
      "       |   Unzipping corpora/opinion_lexicon.zip.\n",
      "       | Downloading package paradigms to /root/nltk_data...\n",
      "       |   Unzipping corpora/paradigms.zip.\n",
      "       | Downloading package pil to /root/nltk_data...\n",
      "       |   Unzipping corpora/pil.zip.\n",
      "       | Downloading package pl196x to /root/nltk_data...\n",
      "       |   Unzipping corpora/pl196x.zip.\n",
      "       | Downloading package ppattach to /root/nltk_data...\n",
      "       |   Unzipping corpora/ppattach.zip.\n",
      "       | Downloading package problem_reports to /root/nltk_data...\n",
      "       |   Unzipping corpora/problem_reports.zip.\n",
      "       | Downloading package propbank to /root/nltk_data...\n",
      "       | Downloading package ptb to /root/nltk_data...\n",
      "       |   Unzipping corpora/ptb.zip.\n",
      "       | Downloading package product_reviews_1 to /root/nltk_data...\n",
      "       |   Unzipping corpora/product_reviews_1.zip.\n",
      "       | Downloading package product_reviews_2 to /root/nltk_data...\n",
      "       |   Unzipping corpora/product_reviews_2.zip.\n",
      "       | Downloading package pros_cons to /root/nltk_data...\n",
      "       |   Unzipping corpora/pros_cons.zip.\n",
      "       | Downloading package qc to /root/nltk_data...\n",
      "       |   Unzipping corpora/qc.zip.\n",
      "       | Downloading package reuters to /root/nltk_data...\n",
      "       | Downloading package rte to /root/nltk_data...\n",
      "       |   Unzipping corpora/rte.zip.\n",
      "       | Downloading package semcor to /root/nltk_data...\n",
      "       | Downloading package senseval to /root/nltk_data...\n",
      "       |   Unzipping corpora/senseval.zip.\n",
      "       | Downloading package sentiwordnet to /root/nltk_data...\n",
      "       |   Unzipping corpora/sentiwordnet.zip.\n",
      "       | Downloading package sentence_polarity to /root/nltk_data...\n",
      "       |   Unzipping corpora/sentence_polarity.zip.\n",
      "       | Downloading package shakespeare to /root/nltk_data...\n",
      "       |   Unzipping corpora/shakespeare.zip.\n",
      "       | Downloading package sinica_treebank to /root/nltk_data...\n",
      "       |   Unzipping corpora/sinica_treebank.zip.\n",
      "       | Downloading package smultron to /root/nltk_data...\n",
      "       |   Unzipping corpora/smultron.zip.\n",
      "       | Downloading package state_union to /root/nltk_data...\n",
      "       |   Unzipping corpora/state_union.zip.\n",
      "       | Downloading package stopwords to /root/nltk_data...\n",
      "       |   Unzipping corpora/stopwords.zip.\n",
      "       | Downloading package subjectivity to /root/nltk_data...\n",
      "       |   Unzipping corpora/subjectivity.zip.\n",
      "       | Downloading package swadesh to /root/nltk_data...\n",
      "       |   Unzipping corpora/swadesh.zip.\n",
      "       | Downloading package switchboard to /root/nltk_data...\n",
      "       |   Unzipping corpora/switchboard.zip.\n",
      "       | Downloading package timit to /root/nltk_data...\n",
      "       |   Unzipping corpora/timit.zip.\n",
      "       | Downloading package toolbox to /root/nltk_data...\n",
      "       |   Unzipping corpora/toolbox.zip.\n",
      "       | Downloading package treebank to /root/nltk_data...\n",
      "       |   Unzipping corpora/treebank.zip.\n",
      "       | Downloading package twitter_samples to /root/nltk_data...\n",
      "       |   Unzipping corpora/twitter_samples.zip.\n",
      "       | Downloading package udhr to /root/nltk_data...\n",
      "       |   Unzipping corpora/udhr.zip.\n",
      "       | Downloading package udhr2 to /root/nltk_data...\n",
      "       |   Unzipping corpora/udhr2.zip.\n",
      "       | Downloading package unicode_samples to /root/nltk_data...\n",
      "       |   Unzipping corpora/unicode_samples.zip.\n",
      "       | Downloading package universal_treebanks_v20 to\n",
      "       |     /root/nltk_data...\n",
      "       | Downloading package verbnet to /root/nltk_data...\n",
      "       |   Unzipping corpora/verbnet.zip.\n",
      "       | Downloading package verbnet3 to /root/nltk_data...\n",
      "       |   Unzipping corpora/verbnet3.zip.\n",
      "       | Downloading package webtext to /root/nltk_data...\n",
      "       |   Unzipping corpora/webtext.zip.\n",
      "       | Downloading package wordnet to /root/nltk_data...\n",
      "       |   Unzipping corpora/wordnet.zip.\n",
      "       | Downloading package wordnet_ic to /root/nltk_data...\n",
      "       |   Unzipping corpora/wordnet_ic.zip.\n",
      "       | Downloading package words to /root/nltk_data...\n",
      "       |   Unzipping corpora/words.zip.\n",
      "       | Downloading package ycoe to /root/nltk_data...\n",
      "       |   Unzipping corpora/ycoe.zip.\n",
      "       | Downloading package rslp to /root/nltk_data...\n",
      "       |   Unzipping stemmers/rslp.zip.\n",
      "       | Downloading package maxent_treebank_pos_tagger to\n",
      "       |     /root/nltk_data...\n",
      "       |   Unzipping taggers/maxent_treebank_pos_tagger.zip.\n",
      "       | Downloading package universal_tagset to /root/nltk_data...\n",
      "       |   Unzipping taggers/universal_tagset.zip.\n",
      "       | Downloading package maxent_ne_chunker to /root/nltk_data...\n",
      "       |   Unzipping chunkers/maxent_ne_chunker.zip.\n",
      "       | Downloading package punkt to /root/nltk_data...\n",
      "       |   Unzipping tokenizers/punkt.zip.\n",
      "       | Downloading package book_grammars to /root/nltk_data...\n",
      "       |   Unzipping grammars/book_grammars.zip.\n",
      "       | Downloading package sample_grammars to /root/nltk_data...\n",
      "       |   Unzipping grammars/sample_grammars.zip.\n",
      "       | Downloading package spanish_grammars to /root/nltk_data...\n",
      "       |   Unzipping grammars/spanish_grammars.zip.\n",
      "       | Downloading package basque_grammars to /root/nltk_data...\n",
      "       |   Unzipping grammars/basque_grammars.zip.\n",
      "       | Downloading package large_grammars to /root/nltk_data...\n",
      "       |   Unzipping grammars/large_grammars.zip.\n",
      "       | Downloading package tagsets to /root/nltk_data...\n",
      "       |   Unzipping help/tagsets.zip.\n",
      "       | Downloading package snowball_data to /root/nltk_data...\n",
      "       | Downloading package bllip_wsj_no_aux to /root/nltk_data...\n",
      "       |   Unzipping models/bllip_wsj_no_aux.zip.\n",
      "       | Downloading package word2vec_sample to /root/nltk_data...\n",
      "       |   Unzipping models/word2vec_sample.zip.\n",
      "       | Downloading package panlex_swadesh to /root/nltk_data...\n",
      "       | Downloading package mte_teip5 to /root/nltk_data...\n",
      "       |   Unzipping corpora/mte_teip5.zip.\n",
      "       | Downloading package averaged_perceptron_tagger to\n",
      "       |     /root/nltk_data...\n",
      "       |   Unzipping taggers/averaged_perceptron_tagger.zip.\n",
      "       | Downloading package averaged_perceptron_tagger_ru to\n",
      "       |     /root/nltk_data...\n",
      "       |   Unzipping taggers/averaged_perceptron_tagger_ru.zip.\n",
      "       | Downloading package perluniprops to /root/nltk_data...\n",
      "       |   Unzipping misc/perluniprops.zip.\n",
      "       | Downloading package nonbreaking_prefixes to\n",
      "       |     /root/nltk_data...\n",
      "       |   Unzipping corpora/nonbreaking_prefixes.zip.\n",
      "       | Downloading package vader_lexicon to /root/nltk_data...\n",
      "       | Downloading package porter_test to /root/nltk_data...\n",
      "       |   Unzipping stemmers/porter_test.zip.\n",
      "       | Downloading package wmt15_eval to /root/nltk_data...\n",
      "       |   Unzipping models/wmt15_eval.zip.\n",
      "       | Downloading package mwa_ppdb to /root/nltk_data...\n",
      "       |   Unzipping misc/mwa_ppdb.zip.\n",
      "       | \n",
      "     Done downloading collection all\n",
      "\n",
      "---------------------------------------------------------------------------\n",
      "    d) Download   l) List    u) Update   c) Config   h) Help   q) Quit\n",
      "---------------------------------------------------------------------------\n",
      "Downloader> q\n"
     ]
    },
    {
     "data": {
      "text/plain": [
       "True"
      ]
     },
     "execution_count": 6,
     "metadata": {
      "tags": []
     },
     "output_type": "execute_result"
    }
   ],
   "source": [
    "nltk.download()"
   ]
  },
  {
   "cell_type": "code",
   "execution_count": 0,
   "metadata": {
    "colab": {},
    "colab_type": "code",
    "id": "GovXP35S95Sf"
   },
   "outputs": [],
   "source": [
    "auth.authenticate_user()\n",
    "gauth = GoogleAuth()\n",
    "gauth.credentials = GoogleCredentials.get_application_default()\n",
    "drive = GoogleDrive(gauth)"
   ]
  },
  {
   "cell_type": "code",
   "execution_count": 0,
   "metadata": {
    "colab": {
     "base_uri": "https://localhost:8080/",
     "height": 51
    },
    "colab_type": "code",
    "id": "O3epGaGY98F_",
    "outputId": "746f081f-a438-476e-fb15-9e02d96df791"
   },
   "outputs": [
    {
     "name": "stdout",
     "output_type": "stream",
     "text": [
      "CPU times: user 6.77 s, sys: 14.9 s, total: 21.7 s\n",
      "Wall time: 36.7 s\n"
     ]
    }
   ],
   "source": [
    "%%time\n",
    "download = drive.CreateFile({'id': '1kU2JyKj_oLg1X_dGH-K3pTOQ_p-Dankx'})\n",
    "download.GetContentFile('yelp.tar')"
   ]
  },
  {
   "cell_type": "code",
   "execution_count": 0,
   "metadata": {
    "colab": {
     "base_uri": "https://localhost:8080/",
     "height": 34
    },
    "colab_type": "code",
    "id": "cs2N2Hz6-g9a",
    "outputId": "5e3e1885-3537-4a70-d15f-2cc51c4395d7"
   },
   "outputs": [
    {
     "name": "stdout",
     "output_type": "stream",
     "text": [
      "business.csv  checkin.csv  photos.csv  review.csv  tip.csv  user.csv  yelp.tar\n"
     ]
    }
   ],
   "source": [
    "ls"
   ]
  },
  {
   "cell_type": "code",
   "execution_count": 0,
   "metadata": {
    "colab": {
     "base_uri": "https://localhost:8080/",
     "height": 68
    },
    "colab_type": "code",
    "id": "K_unzx3RAjNl",
    "outputId": "a03ce0c0-b4c4-4e20-f05c-8c3526aca561"
   },
   "outputs": [
    {
     "name": "stdout",
     "output_type": "stream",
     "text": [
      "extracting zip file\n",
      "CPU times: user 48.5 s, sys: 8.77 s, total: 57.3 s\n",
      "Wall time: 1min 8s\n"
     ]
    }
   ],
   "source": [
    "%%time\n",
    "import zipfile\n",
    "with zipfile.ZipFile(\"yelp.tar\",\"r\") as zip_ref:\n",
    "  print('extracting zip file')\n",
    "  zip_ref.extractall(\"targetdir\")"
   ]
  },
  {
   "cell_type": "code",
   "execution_count": 0,
   "metadata": {
    "colab": {
     "base_uri": "https://localhost:8080/",
     "height": 51
    },
    "colab_type": "code",
    "id": "iHOOU8q_Dlpt",
    "outputId": "7b7522a7-6553-459c-8dfb-b664159084e3"
   },
   "outputs": [
    {
     "name": "stdout",
     "output_type": "stream",
     "text": [
      "business.csv  photos.csv  \u001b[0m\u001b[01;34mtargetdir\u001b[0m/  user.csv\n",
      "checkin.csv   review.csv  tip.csv     yelp.tar\n"
     ]
    }
   ],
   "source": [
    "ls"
   ]
  },
  {
   "cell_type": "code",
   "execution_count": 0,
   "metadata": {
    "colab": {
     "base_uri": "https://localhost:8080/",
     "height": 34
    },
    "colab_type": "code",
    "id": "qkY_3AOfFBAW",
    "outputId": "37c63031-d35b-4596-9400-9fcdadb44ad3"
   },
   "outputs": [
    {
     "name": "stdout",
     "output_type": "stream",
     "text": [
      "/content/targetdir/targetdir\n"
     ]
    }
   ],
   "source": [
    "cd targetdir"
   ]
  },
  {
   "cell_type": "code",
   "execution_count": 0,
   "metadata": {
    "colab": {
     "base_uri": "https://localhost:8080/",
     "height": 34
    },
    "colab_type": "code",
    "id": "UJ3h4eaCFDQA",
    "outputId": "f1e3a69d-9aa6-4b64-cbbe-62aebaaf4d03"
   },
   "outputs": [
    {
     "name": "stdout",
     "output_type": "stream",
     "text": [
      "business.csv  checkin.csv  photos.csv  review.csv  tip.csv  user.csv\n"
     ]
    }
   ],
   "source": [
    "ls"
   ]
  },
  {
   "cell_type": "code",
   "execution_count": 2,
   "metadata": {
    "colab": {
     "base_uri": "https://localhost:8080/",
     "height": 51
    },
    "colab_type": "code",
    "id": "RqlfurBxFEfv",
    "outputId": "282424f0-16d9-43e1-ef03-4b75b4aae622"
   },
   "outputs": [
    {
     "name": "stdout",
     "output_type": "stream",
     "text": [
      "Wall time: 1min 54s\n"
     ]
    }
   ],
   "source": [
    "%%time\n",
    "# basic imports\n",
    "import pandas as pd\n",
    "import os, sys\n",
    "import math\n",
    "import itertools\n",
    "import datetime\n",
    "import time\n",
    "import gc\n",
    "import numpy as np\n",
    "from math import sqrt\n",
    "import string\n",
    "import warnings\n",
    "warnings.filterwarnings('ignore')\n",
    "\n",
    "#imports for visualisations\n",
    "import matplotlib.pyplot as plt\n",
    "import seaborn as sns\n",
    "from plotly.offline import plot, iplot, init_notebook_mode\n",
    "import networkx as nx\n",
    "from wordcloud import WordCloud\n",
    "\n",
    "# importing libraries for NLP\n",
    "import nltk\n",
    "from nltk.corpus import stopwords, wordnet\n",
    "from sklearn.feature_extraction.text import TfidfVectorizer, CountVectorizer\n",
    "from textblob import TextBlob, Word\n",
    "from nltk.stem.wordnet import WordNetLemmatizer\n",
    "from collections import Counter\n",
    "\n",
    "#importing libraries for modelling\n",
    "import sklearn.metrics as metrics\n",
    "from sklearn.metrics.pairwise import linear_kernel, cosine_similarity\n",
    "from sklearn.metrics import mean_squared_error\n",
    "from sklearn.naive_bayes import MultinomialNB\n",
    "from sklearn.model_selection import train_test_split, GridSearchCV\n",
    "from sklearn.metrics import confusion_matrix, classification_report\n",
    "from sklearn.neighbors import NearestNeighbors\n",
    "from scipy.spatial.distance import correlation, cosine\n",
    "\n",
    "#importing libraries for recommendations\n",
    "from surprise import SVD, SVDpp, Dataset, accuracy, Reader, BaselineOnly, KNNBaseline, print_perf, evaluate\n",
    "from surprise.model_selection import train_test_split, GridSearchCV, cross_validate\n",
    "\n",
    "#importing pickle library\n",
    "import pickle\n"
   ]
  },
  {
   "cell_type": "code",
   "execution_count": 3,
   "metadata": {
    "colab": {
     "base_uri": "https://localhost:8080/",
     "height": 51
    },
    "colab_type": "code",
    "id": "Td1Ok1lYe_EF",
    "outputId": "92c44cfe-1840-4721-ead0-fd6e54a07ebe"
   },
   "outputs": [],
   "source": [
    "# reading only 1,00,000 rows of all csv files due to limited GPU\n",
    "#%%time\n",
    "user = pd.read_csv('yelp_data\\\\user_reduced.csv')\n",
    "business = pd.read_csv('yelp_data\\\\business_reduced.csv')\n",
    "checkin = pd.read_csv('yelp_data\\\\checkin_reduced.csv')\n",
    "tip = pd.read_csv('yelp_data\\\\tip_reduced.csv')\n",
    "review = pd.read_csv('yelp_data\\\\review_reduced.csv')"
   ]
  },
  {
   "cell_type": "markdown",
   "metadata": {
    "colab_type": "text",
    "id": "TABoxcQ73hqL"
   },
   "source": [
    "## 4. SENTIMENT ANALYSIS AND PREDICTION USING NAIVE BIAS ALGORITHM"
   ]
  },
  {
   "cell_type": "markdown",
   "metadata": {
    "colab_type": "text",
    "id": "IMEtuwjXLbIS"
   },
   "source": [
    "The idea is to create a **baseline model** where we just pick the review text and remove the punctuations only and try to predict the rating on the review by using Naive Bias Algorithm. We then do all the text-preprocessing which involves removal of stopwords, applying lemmatization and bagOfWords technique to the reviews and then try to predict the rating again. The **aim is to compare and analyse** whether doing all the text preprocessing has an impact on the prediction or not. If so, how significant is the imapct on the reveiws. This is been **evaluated by** looking at the **confusion matrix** and **classification report consisting of precision, recall and f1-score**."
   ]
  },
  {
   "cell_type": "markdown",
   "metadata": {
    "colab_type": "text",
    "id": "WLW2wqBdOOd4"
   },
   "source": [
    "### 4.1 TEXT ANALYSIS OF REVIEW TEXT"
   ]
  },
  {
   "cell_type": "code",
   "execution_count": 0,
   "metadata": {
    "colab": {
     "base_uri": "https://localhost:8080/",
     "height": 204
    },
    "colab_type": "code",
    "id": "Bngz-XlTbzOo",
    "outputId": "b56f03ba-b357-43ec-eed7-f75cda4eefac",
    "scrolled": true
   },
   "outputs": [
    {
     "data": {
      "text/html": [
       "<div>\n",
       "<style scoped>\n",
       "    .dataframe tbody tr th:only-of-type {\n",
       "        vertical-align: middle;\n",
       "    }\n",
       "\n",
       "    .dataframe tbody tr th {\n",
       "        vertical-align: top;\n",
       "    }\n",
       "\n",
       "    .dataframe thead th {\n",
       "        text-align: right;\n",
       "    }\n",
       "</style>\n",
       "<table border=\"1\" class=\"dataframe\">\n",
       "  <thead>\n",
       "    <tr style=\"text-align: right;\">\n",
       "      <th></th>\n",
       "      <th>text</th>\n",
       "      <th>word_count</th>\n",
       "    </tr>\n",
       "  </thead>\n",
       "  <tbody>\n",
       "    <tr>\n",
       "      <th>0</th>\n",
       "      <td>Love the staff, love the meat, love the place....</td>\n",
       "      <td>56</td>\n",
       "    </tr>\n",
       "    <tr>\n",
       "      <th>1</th>\n",
       "      <td>Super simple place but amazing nonetheless. It...</td>\n",
       "      <td>35</td>\n",
       "    </tr>\n",
       "    <tr>\n",
       "      <th>2</th>\n",
       "      <td>Small unassuming place that changes their menu...</td>\n",
       "      <td>91</td>\n",
       "    </tr>\n",
       "    <tr>\n",
       "      <th>3</th>\n",
       "      <td>Lester's is located in a beautiful neighborhoo...</td>\n",
       "      <td>67</td>\n",
       "    </tr>\n",
       "    <tr>\n",
       "      <th>4</th>\n",
       "      <td>Love coming here. Yes the place always needs t...</td>\n",
       "      <td>102</td>\n",
       "    </tr>\n",
       "  </tbody>\n",
       "</table>\n",
       "</div>"
      ],
      "text/plain": [
       "                                                text  word_count\n",
       "0  Love the staff, love the meat, love the place....          56\n",
       "1  Super simple place but amazing nonetheless. It...          35\n",
       "2  Small unassuming place that changes their menu...          91\n",
       "3  Lester's is located in a beautiful neighborhoo...          67\n",
       "4  Love coming here. Yes the place always needs t...         102"
      ]
     },
     "execution_count": 97,
     "metadata": {
      "tags": []
     },
     "output_type": "execute_result"
    }
   ],
   "source": [
    "# Let us look at the word count in the review text\n",
    "review['word_count'] = review['text'].apply(lambda x: len(str(x).split(\" \")))\n",
    "review[['text','word_count']].head()"
   ]
  },
  {
   "cell_type": "code",
   "execution_count": 0,
   "metadata": {
    "colab": {
     "base_uri": "https://localhost:8080/",
     "height": 204
    },
    "colab_type": "code",
    "id": "YezEJsk7cMqv",
    "outputId": "679ea7fa-d9bf-4b7b-9452-173437855b4f"
   },
   "outputs": [
    {
     "data": {
      "text/html": [
       "<div>\n",
       "<style scoped>\n",
       "    .dataframe tbody tr th:only-of-type {\n",
       "        vertical-align: middle;\n",
       "    }\n",
       "\n",
       "    .dataframe tbody tr th {\n",
       "        vertical-align: top;\n",
       "    }\n",
       "\n",
       "    .dataframe thead th {\n",
       "        text-align: right;\n",
       "    }\n",
       "</style>\n",
       "<table border=\"1\" class=\"dataframe\">\n",
       "  <thead>\n",
       "    <tr style=\"text-align: right;\">\n",
       "      <th></th>\n",
       "      <th>text</th>\n",
       "      <th>char_count</th>\n",
       "    </tr>\n",
       "  </thead>\n",
       "  <tbody>\n",
       "    <tr>\n",
       "      <th>0</th>\n",
       "      <td>Love the staff, love the meat, love the place....</td>\n",
       "      <td>289</td>\n",
       "    </tr>\n",
       "    <tr>\n",
       "      <th>1</th>\n",
       "      <td>Super simple place but amazing nonetheless. It...</td>\n",
       "      <td>213</td>\n",
       "    </tr>\n",
       "    <tr>\n",
       "      <th>2</th>\n",
       "      <td>Small unassuming place that changes their menu...</td>\n",
       "      <td>502</td>\n",
       "    </tr>\n",
       "    <tr>\n",
       "      <th>3</th>\n",
       "      <td>Lester's is located in a beautiful neighborhoo...</td>\n",
       "      <td>373</td>\n",
       "    </tr>\n",
       "    <tr>\n",
       "      <th>4</th>\n",
       "      <td>Love coming here. Yes the place always needs t...</td>\n",
       "      <td>523</td>\n",
       "    </tr>\n",
       "  </tbody>\n",
       "</table>\n",
       "</div>"
      ],
      "text/plain": [
       "                                                text  char_count\n",
       "0  Love the staff, love the meat, love the place....         289\n",
       "1  Super simple place but amazing nonetheless. It...         213\n",
       "2  Small unassuming place that changes their menu...         502\n",
       "3  Lester's is located in a beautiful neighborhoo...         373\n",
       "4  Love coming here. Yes the place always needs t...         523"
      ]
     },
     "execution_count": 98,
     "metadata": {
      "tags": []
     },
     "output_type": "execute_result"
    }
   ],
   "source": [
    "# Let us look at the character count in the review text\n",
    "review['char_count'] = review['text'].str.len() ## this also includes spaces\n",
    "review[['text','char_count']].head()"
   ]
  },
  {
   "cell_type": "code",
   "execution_count": 124,
   "metadata": {
    "colab": {
     "base_uri": "https://localhost:8080/",
     "height": 204
    },
    "colab_type": "code",
    "id": "F5DgxMp1cV63",
    "outputId": "caf31462-8e12-4e05-e1a7-287edef03ed5"
   },
   "outputs": [
    {
     "data": {
      "text/plain": [
       "\"Super simple place but amazing nonetheless. It's been around since the 30's and they still serve the same thing they started with: a bologna and salami sandwich with mustard. \\n\\nStaff was very helpful and friendly.\""
      ]
     },
     "execution_count": 124,
     "metadata": {},
     "output_type": "execute_result"
    }
   ],
   "source": [
    "# Let us look at the average word length in the review text sentence\n",
    "def avg_word(sentence):\n",
    "  words = sentence.split()\n",
    "  return (sum(len(word) for word in words)/len(words))\n",
    "\n",
    "review['avg_word'] = review['text'].apply(lambda x: avg_word(x))\n",
    "review[['text','avg_word']].head()\n",
    "review['text'][1]"
   ]
  },
  {
   "cell_type": "code",
   "execution_count": 0,
   "metadata": {
    "colab": {
     "base_uri": "https://localhost:8080/",
     "height": 204
    },
    "colab_type": "code",
    "id": "el2rklAre7Us",
    "outputId": "a79c5de0-8e96-4cb4-ba8b-a1020f182f4f"
   },
   "outputs": [
    {
     "data": {
      "text/html": [
       "<div>\n",
       "<style scoped>\n",
       "    .dataframe tbody tr th:only-of-type {\n",
       "        vertical-align: middle;\n",
       "    }\n",
       "\n",
       "    .dataframe tbody tr th {\n",
       "        vertical-align: top;\n",
       "    }\n",
       "\n",
       "    .dataframe thead th {\n",
       "        text-align: right;\n",
       "    }\n",
       "</style>\n",
       "<table border=\"1\" class=\"dataframe\">\n",
       "  <thead>\n",
       "    <tr style=\"text-align: right;\">\n",
       "      <th></th>\n",
       "      <th>text</th>\n",
       "      <th>hashtags</th>\n",
       "    </tr>\n",
       "  </thead>\n",
       "  <tbody>\n",
       "    <tr>\n",
       "      <th>0</th>\n",
       "      <td>Love the staff, love the meat, love the place....</td>\n",
       "      <td>0</td>\n",
       "    </tr>\n",
       "    <tr>\n",
       "      <th>1</th>\n",
       "      <td>Super simple place but amazing nonetheless. It...</td>\n",
       "      <td>0</td>\n",
       "    </tr>\n",
       "    <tr>\n",
       "      <th>2</th>\n",
       "      <td>Small unassuming place that changes their menu...</td>\n",
       "      <td>0</td>\n",
       "    </tr>\n",
       "    <tr>\n",
       "      <th>3</th>\n",
       "      <td>Lester's is located in a beautiful neighborhoo...</td>\n",
       "      <td>0</td>\n",
       "    </tr>\n",
       "    <tr>\n",
       "      <th>4</th>\n",
       "      <td>Love coming here. Yes the place always needs t...</td>\n",
       "      <td>0</td>\n",
       "    </tr>\n",
       "  </tbody>\n",
       "</table>\n",
       "</div>"
      ],
      "text/plain": [
       "                                                text  hashtags\n",
       "0  Love the staff, love the meat, love the place....         0\n",
       "1  Super simple place but amazing nonetheless. It...         0\n",
       "2  Small unassuming place that changes their menu...         0\n",
       "3  Lester's is located in a beautiful neighborhoo...         0\n",
       "4  Love coming here. Yes the place always needs t...         0"
      ]
     },
     "execution_count": 101,
     "metadata": {
      "tags": []
     },
     "output_type": "execute_result"
    }
   ],
   "source": [
    "# Let us look if there is any text that starts with hashtags\n",
    "review['hashtags'] = review['text'].apply(lambda x: len([x for x in x.split() if x.startswith('#')]))\n",
    "review[['text','hashtags']].head()"
   ]
  },
  {
   "cell_type": "code",
   "execution_count": 0,
   "metadata": {
    "colab": {
     "base_uri": "https://localhost:8080/",
     "height": 204
    },
    "colab_type": "code",
    "id": "9rRJZdxAcgvn",
    "outputId": "9392fc3d-5e9d-4494-9a5f-276c5c5a0348"
   },
   "outputs": [
    {
     "data": {
      "text/html": [
       "<div>\n",
       "<style scoped>\n",
       "    .dataframe tbody tr th:only-of-type {\n",
       "        vertical-align: middle;\n",
       "    }\n",
       "\n",
       "    .dataframe tbody tr th {\n",
       "        vertical-align: top;\n",
       "    }\n",
       "\n",
       "    .dataframe thead th {\n",
       "        text-align: right;\n",
       "    }\n",
       "</style>\n",
       "<table border=\"1\" class=\"dataframe\">\n",
       "  <thead>\n",
       "    <tr style=\"text-align: right;\">\n",
       "      <th></th>\n",
       "      <th>text</th>\n",
       "      <th>stopwords</th>\n",
       "    </tr>\n",
       "  </thead>\n",
       "  <tbody>\n",
       "    <tr>\n",
       "      <th>0</th>\n",
       "      <td>Love the staff, love the meat, love the place....</td>\n",
       "      <td>18</td>\n",
       "    </tr>\n",
       "    <tr>\n",
       "      <th>1</th>\n",
       "      <td>Super simple place but amazing nonetheless. It...</td>\n",
       "      <td>14</td>\n",
       "    </tr>\n",
       "    <tr>\n",
       "      <th>2</th>\n",
       "      <td>Small unassuming place that changes their menu...</td>\n",
       "      <td>37</td>\n",
       "    </tr>\n",
       "    <tr>\n",
       "      <th>3</th>\n",
       "      <td>Lester's is located in a beautiful neighborhoo...</td>\n",
       "      <td>31</td>\n",
       "    </tr>\n",
       "    <tr>\n",
       "      <th>4</th>\n",
       "      <td>Love coming here. Yes the place always needs t...</td>\n",
       "      <td>45</td>\n",
       "    </tr>\n",
       "  </tbody>\n",
       "</table>\n",
       "</div>"
      ],
      "text/plain": [
       "                                                text  stopwords\n",
       "0  Love the staff, love the meat, love the place....         18\n",
       "1  Super simple place but amazing nonetheless. It...         14\n",
       "2  Small unassuming place that changes their menu...         37\n",
       "3  Lester's is located in a beautiful neighborhoo...         31\n",
       "4  Love coming here. Yes the place always needs t...         45"
      ]
     },
     "execution_count": 102,
     "metadata": {
      "tags": []
     },
     "output_type": "execute_result"
    }
   ],
   "source": [
    "# Let us look at the count of stopwords present in the review text\n",
    "stop = stopwords.words('english')\n",
    "\n",
    "review['stopwords'] = review['text'].apply(lambda x: len([x for x in x.split() if x in stop]))\n",
    "review[['text','stopwords']].head()"
   ]
  },
  {
   "cell_type": "code",
   "execution_count": 0,
   "metadata": {
    "colab": {
     "base_uri": "https://localhost:8080/",
     "height": 204
    },
    "colab_type": "code",
    "id": "4ZOGeEkccoUm",
    "outputId": "fad854a9-b46c-44cd-ca5f-698089330253"
   },
   "outputs": [
    {
     "data": {
      "text/html": [
       "<div>\n",
       "<style scoped>\n",
       "    .dataframe tbody tr th:only-of-type {\n",
       "        vertical-align: middle;\n",
       "    }\n",
       "\n",
       "    .dataframe tbody tr th {\n",
       "        vertical-align: top;\n",
       "    }\n",
       "\n",
       "    .dataframe thead th {\n",
       "        text-align: right;\n",
       "    }\n",
       "</style>\n",
       "<table border=\"1\" class=\"dataframe\">\n",
       "  <thead>\n",
       "    <tr style=\"text-align: right;\">\n",
       "      <th></th>\n",
       "      <th>text</th>\n",
       "      <th>numerics</th>\n",
       "    </tr>\n",
       "  </thead>\n",
       "  <tbody>\n",
       "    <tr>\n",
       "      <th>0</th>\n",
       "      <td>Love the staff, love the meat, love the place....</td>\n",
       "      <td>0</td>\n",
       "    </tr>\n",
       "    <tr>\n",
       "      <th>1</th>\n",
       "      <td>Super simple place but amazing nonetheless. It...</td>\n",
       "      <td>0</td>\n",
       "    </tr>\n",
       "    <tr>\n",
       "      <th>2</th>\n",
       "      <td>Small unassuming place that changes their menu...</td>\n",
       "      <td>2</td>\n",
       "    </tr>\n",
       "    <tr>\n",
       "      <th>3</th>\n",
       "      <td>Lester's is located in a beautiful neighborhoo...</td>\n",
       "      <td>1</td>\n",
       "    </tr>\n",
       "    <tr>\n",
       "      <th>4</th>\n",
       "      <td>Love coming here. Yes the place always needs t...</td>\n",
       "      <td>2</td>\n",
       "    </tr>\n",
       "  </tbody>\n",
       "</table>\n",
       "</div>"
      ],
      "text/plain": [
       "                                                text  numerics\n",
       "0  Love the staff, love the meat, love the place....         0\n",
       "1  Super simple place but amazing nonetheless. It...         0\n",
       "2  Small unassuming place that changes their menu...         2\n",
       "3  Lester's is located in a beautiful neighborhoo...         1\n",
       "4  Love coming here. Yes the place always needs t...         2"
      ]
     },
     "execution_count": 103,
     "metadata": {
      "tags": []
     },
     "output_type": "execute_result"
    }
   ],
   "source": [
    "# Let us look at the count of numerics present in the review text\n",
    "review['numerics'] = review['text'].apply(lambda x: len([x for x in x.split() if x.isdigit()]))\n",
    "review[['text','numerics']].head()"
   ]
  },
  {
   "cell_type": "code",
   "execution_count": 0,
   "metadata": {
    "colab": {
     "base_uri": "https://localhost:8080/",
     "height": 204
    },
    "colab_type": "code",
    "id": "1LsnEuDHgETt",
    "outputId": "99f25ab5-840e-4c4a-c8b2-c1d8daa7426c"
   },
   "outputs": [
    {
     "data": {
      "text/plain": [
       "the    457755\n",
       "and    374596\n",
       "I      290940\n",
       "a      278603\n",
       "to     267429\n",
       "was    192743\n",
       "of     160037\n",
       "is     134417\n",
       "for    126008\n",
       "in     116542\n",
       "dtype: int64"
      ]
     },
     "execution_count": 106,
     "metadata": {
      "tags": []
     },
     "output_type": "execute_result"
    }
   ],
   "source": [
    "# Let us look at the top 10 frequent words\n",
    "freq_top = pd.Series(' '.join(review['text']).split()).value_counts()[:10]\n",
    "freq_top"
   ]
  },
  {
   "cell_type": "code",
   "execution_count": 0,
   "metadata": {
    "colab": {
     "base_uri": "https://localhost:8080/",
     "height": 204
    },
    "colab_type": "code",
    "id": "vxc7c7MBgW3z",
    "outputId": "6e9459a2-e35a-41f7-d905-b6c3ae5c83b4"
   },
   "outputs": [
    {
     "data": {
      "text/plain": [
       "run\"),         1\n",
       "(range         1\n",
       "Portugal       1\n",
       "boba/soda      1\n",
       "est.           1\n",
       "Eeesh.         1\n",
       "company....    1\n",
       "Iived          1\n",
       "burata,        1\n",
       "font)          1\n",
       "dtype: int64"
      ]
     },
     "execution_count": 107,
     "metadata": {
      "tags": []
     },
     "output_type": "execute_result"
    }
   ],
   "source": [
    "# Let us look at the least 10 frequent words\n",
    "freq_least = pd.Series(' '.join(review['text']).split()).value_counts()[-10:]\n",
    "freq_least"
   ]
  },
  {
   "cell_type": "code",
   "execution_count": 0,
   "metadata": {
    "colab": {
     "base_uri": "https://localhost:8080/",
     "height": 530
    },
    "colab_type": "code",
    "id": "FxfNdo1SxmWB",
    "outputId": "bbbd15c9-9ab3-4eef-ce26-517125378a93"
   },
   "outputs": [
    {
     "data": {
      "text/html": [
       "<div>\n",
       "<style scoped>\n",
       "    .dataframe tbody tr th:only-of-type {\n",
       "        vertical-align: middle;\n",
       "    }\n",
       "\n",
       "    .dataframe tbody tr th {\n",
       "        vertical-align: top;\n",
       "    }\n",
       "\n",
       "    .dataframe thead th {\n",
       "        text-align: right;\n",
       "    }\n",
       "</style>\n",
       "<table border=\"1\" class=\"dataframe\">\n",
       "  <thead>\n",
       "    <tr style=\"text-align: right;\">\n",
       "      <th></th>\n",
       "      <th>funny</th>\n",
       "      <th>user_id</th>\n",
       "      <th>review_id</th>\n",
       "      <th>text</th>\n",
       "      <th>business_id</th>\n",
       "      <th>stars</th>\n",
       "      <th>date</th>\n",
       "      <th>useful</th>\n",
       "      <th>cool</th>\n",
       "      <th>year</th>\n",
       "      <th>month</th>\n",
       "      <th>word_count</th>\n",
       "      <th>char_count</th>\n",
       "      <th>avg_word</th>\n",
       "      <th>hashtags</th>\n",
       "      <th>stopwords</th>\n",
       "      <th>numerics</th>\n",
       "      <th>text length</th>\n",
       "    </tr>\n",
       "  </thead>\n",
       "  <tbody>\n",
       "    <tr>\n",
       "      <th>0</th>\n",
       "      <td>0</td>\n",
       "      <td>bv2nCi5Qv5vroFiqKGopiw</td>\n",
       "      <td>v0i_UHJMo_hPBq9bxWvW4w</td>\n",
       "      <td>Love the staff, love the meat, love the place....</td>\n",
       "      <td>0W4lkclzZThpx3V65bVgig</td>\n",
       "      <td>5</td>\n",
       "      <td>2016-05-28</td>\n",
       "      <td>0</td>\n",
       "      <td>0</td>\n",
       "      <td>2016</td>\n",
       "      <td>5</td>\n",
       "      <td>56</td>\n",
       "      <td>289</td>\n",
       "      <td>4.107143</td>\n",
       "      <td>0</td>\n",
       "      <td>18</td>\n",
       "      <td>0</td>\n",
       "      <td>289</td>\n",
       "    </tr>\n",
       "    <tr>\n",
       "      <th>1</th>\n",
       "      <td>0</td>\n",
       "      <td>bv2nCi5Qv5vroFiqKGopiw</td>\n",
       "      <td>vkVSCC7xljjrAI4UGfnKEQ</td>\n",
       "      <td>Super simple place but amazing nonetheless. It...</td>\n",
       "      <td>AEx2SYEUJmTxVVB18LlCwA</td>\n",
       "      <td>5</td>\n",
       "      <td>2016-05-28</td>\n",
       "      <td>0</td>\n",
       "      <td>0</td>\n",
       "      <td>2016</td>\n",
       "      <td>5</td>\n",
       "      <td>35</td>\n",
       "      <td>213</td>\n",
       "      <td>5.057143</td>\n",
       "      <td>0</td>\n",
       "      <td>14</td>\n",
       "      <td>0</td>\n",
       "      <td>213</td>\n",
       "    </tr>\n",
       "    <tr>\n",
       "      <th>2</th>\n",
       "      <td>0</td>\n",
       "      <td>bv2nCi5Qv5vroFiqKGopiw</td>\n",
       "      <td>n6QzIUObkYshz4dz2QRJTw</td>\n",
       "      <td>Small unassuming place that changes their menu...</td>\n",
       "      <td>VR6GpWIda3SfvPC-lg9H3w</td>\n",
       "      <td>5</td>\n",
       "      <td>2016-05-28</td>\n",
       "      <td>0</td>\n",
       "      <td>0</td>\n",
       "      <td>2016</td>\n",
       "      <td>5</td>\n",
       "      <td>91</td>\n",
       "      <td>502</td>\n",
       "      <td>4.483516</td>\n",
       "      <td>0</td>\n",
       "      <td>37</td>\n",
       "      <td>2</td>\n",
       "      <td>502</td>\n",
       "    </tr>\n",
       "    <tr>\n",
       "      <th>3</th>\n",
       "      <td>0</td>\n",
       "      <td>bv2nCi5Qv5vroFiqKGopiw</td>\n",
       "      <td>MV3CcKScW05u5LVfF6ok0g</td>\n",
       "      <td>Lester's is located in a beautiful neighborhoo...</td>\n",
       "      <td>CKC0-MOWMqoeWf6s-szl8g</td>\n",
       "      <td>5</td>\n",
       "      <td>2016-05-28</td>\n",
       "      <td>0</td>\n",
       "      <td>0</td>\n",
       "      <td>2016</td>\n",
       "      <td>5</td>\n",
       "      <td>67</td>\n",
       "      <td>373</td>\n",
       "      <td>4.552239</td>\n",
       "      <td>0</td>\n",
       "      <td>31</td>\n",
       "      <td>1</td>\n",
       "      <td>373</td>\n",
       "    </tr>\n",
       "    <tr>\n",
       "      <th>4</th>\n",
       "      <td>0</td>\n",
       "      <td>bv2nCi5Qv5vroFiqKGopiw</td>\n",
       "      <td>IXvOzsEMYtiJI0CARmj77Q</td>\n",
       "      <td>Love coming here. Yes the place always needs t...</td>\n",
       "      <td>ACFtxLv8pGrrxMm6EgjreA</td>\n",
       "      <td>4</td>\n",
       "      <td>2016-05-28</td>\n",
       "      <td>0</td>\n",
       "      <td>0</td>\n",
       "      <td>2016</td>\n",
       "      <td>5</td>\n",
       "      <td>102</td>\n",
       "      <td>523</td>\n",
       "      <td>4.138614</td>\n",
       "      <td>0</td>\n",
       "      <td>45</td>\n",
       "      <td>2</td>\n",
       "      <td>523</td>\n",
       "    </tr>\n",
       "  </tbody>\n",
       "</table>\n",
       "</div>"
      ],
      "text/plain": [
       "   funny                 user_id               review_id  \\\n",
       "0      0  bv2nCi5Qv5vroFiqKGopiw  v0i_UHJMo_hPBq9bxWvW4w   \n",
       "1      0  bv2nCi5Qv5vroFiqKGopiw  vkVSCC7xljjrAI4UGfnKEQ   \n",
       "2      0  bv2nCi5Qv5vroFiqKGopiw  n6QzIUObkYshz4dz2QRJTw   \n",
       "3      0  bv2nCi5Qv5vroFiqKGopiw  MV3CcKScW05u5LVfF6ok0g   \n",
       "4      0  bv2nCi5Qv5vroFiqKGopiw  IXvOzsEMYtiJI0CARmj77Q   \n",
       "\n",
       "                                                text             business_id  \\\n",
       "0  Love the staff, love the meat, love the place....  0W4lkclzZThpx3V65bVgig   \n",
       "1  Super simple place but amazing nonetheless. It...  AEx2SYEUJmTxVVB18LlCwA   \n",
       "2  Small unassuming place that changes their menu...  VR6GpWIda3SfvPC-lg9H3w   \n",
       "3  Lester's is located in a beautiful neighborhoo...  CKC0-MOWMqoeWf6s-szl8g   \n",
       "4  Love coming here. Yes the place always needs t...  ACFtxLv8pGrrxMm6EgjreA   \n",
       "\n",
       "   stars       date  useful  cool  year  month  word_count  char_count  \\\n",
       "0      5 2016-05-28       0     0  2016      5          56         289   \n",
       "1      5 2016-05-28       0     0  2016      5          35         213   \n",
       "2      5 2016-05-28       0     0  2016      5          91         502   \n",
       "3      5 2016-05-28       0     0  2016      5          67         373   \n",
       "4      4 2016-05-28       0     0  2016      5         102         523   \n",
       "\n",
       "   avg_word  hashtags  stopwords  numerics  text length  \n",
       "0  4.107143         0         18         0          289  \n",
       "1  5.057143         0         14         0          213  \n",
       "2  4.483516         0         37         2          502  \n",
       "3  4.552239         0         31         1          373  \n",
       "4  4.138614         0         45         2          523  "
      ]
     },
     "execution_count": 109,
     "metadata": {
      "tags": []
     },
     "output_type": "execute_result"
    }
   ],
   "source": [
    "# Let us include the text length column in review dataset\n",
    "review['text length'] = review['text'].apply(len)\n",
    "review.head()"
   ]
  },
  {
   "cell_type": "code",
   "execution_count": 0,
   "metadata": {
    "colab": {
     "base_uri": "https://localhost:8080/",
     "height": 238
    },
    "colab_type": "code",
    "id": "kN9U-elfxmnO",
    "outputId": "7b2b9c7c-ae07-44d0-ae8f-dbf4428e3d66"
   },
   "outputs": [
    {
     "data": {
      "text/plain": [
       "<seaborn.axisgrid.FacetGrid at 0x7f2ea87ec8d0>"
      ]
     },
     "execution_count": 111,
     "metadata": {
      "tags": []
     },
     "output_type": "execute_result"
    },
    {
     "data": {
      "image/png": "[encoded data removed]",
      "text/plain": [
       "<matplotlib.figure.Figure at 0x7f2ea87ecac8>"
      ]
     },
     "metadata": {
      "tags": []
     },
     "output_type": "display_data"
    }
   ],
   "source": [
    "# Lets visualise the review text and stars for a business\n",
    "g = sns.FacetGrid(data=review, col='stars')\n",
    "g.map(plt.hist, 'text length', bins=50)"
   ]
  },
  {
   "cell_type": "markdown",
   "metadata": {
    "colab_type": "text",
    "id": "hFe_5FRCyDsX"
   },
   "source": [
    "### 4.2 BASELINE MODEL AND PREDICTION USING NAIVE BIAS ALGORITHM"
   ]
  },
  {
   "cell_type": "markdown",
   "metadata": {
    "colab_type": "text",
    "id": "rzIYI2w0B1_U"
   },
   "source": [
    "In this model, we take into consideration the review text where we only remove the punctuations in the text and perform text analysis to predict the user ratings on the basis of review text using Naive Bias algorithm. The result is evaluated by the confusion matrix and classification report consisting of recall, precision and f1-score."
   ]
  },
  {
   "cell_type": "code",
   "execution_count": 5,
   "metadata": {
    "colab": {},
    "colab_type": "code",
    "id": "p6jtiEBMU9p4"
   },
   "outputs": [],
   "source": [
    "# separating our features and target\n",
    "X = review['text']\n",
    "y = review['stars']"
   ]
  },
  {
   "cell_type": "code",
   "execution_count": 6,
   "metadata": {
    "colab": {},
    "colab_type": "code",
    "id": "KW0rz3TBxoV2"
   },
   "outputs": [],
   "source": [
    "# function to remove only punctuations from the review text\n",
    "def text_process(text):\n",
    "\n",
    "    '''\n",
    "    Takes in a string of text, then performs the following:\n",
    "    1. Removes all punctuation\n",
    "    2. Return the text as a list of words\n",
    "    '''\n",
    "\n",
    "    nopunc = [char for char in text if char not in string.punctuation]\n",
    "\n",
    "    nopunc = ''.join(nopunc)\n",
    "    \n",
    "    return [word for word in nopunc.split()]"
   ]
  },
  {
   "cell_type": "code",
   "execution_count": 7,
   "metadata": {
    "colab": {
     "base_uri": "https://localhost:8080/",
     "height": 34
    },
    "colab_type": "code",
    "id": "PS8ADNLqxo2T",
    "outputId": "f8754cff-8bb1-4509-8a25-3929b355a8a6"
   },
   "outputs": [
    {
     "name": "stdout",
     "output_type": "stream",
     "text": [
      "['Hey', 'there', 'This', 'is', 'a', 'sample', 'review', 'which', 'happens', 'to', 'contain', 'punctuations']\n"
     ]
    }
   ],
   "source": [
    "# Let us test if the above function worked correctly!\n",
    "sample_text = \"Hey there! This is a sample review, which happens to contain punctuations.\"\n",
    "\n",
    "print(text_process(sample_text))"
   ]
  },
  {
   "cell_type": "code",
   "execution_count": 9,
   "metadata": {
    "colab": {},
    "colab_type": "code",
    "id": "qCv3vrJ2xpOF"
   },
   "outputs": [],
   "source": [
    "# creating a bag of words which consist of entire text without punctuations and fiting it\n",
    "bow_transformer = CountVectorizer().fit(X)"
   ]
  },
  {
   "cell_type": "code",
   "execution_count": 10,
   "metadata": {
    "colab": {
     "base_uri": "https://localhost:8080/",
     "height": 34
    },
    "colab_type": "code",
    "id": "ZiExPqJkxpbk",
    "outputId": "fb8db488-e0e4-41f0-918a-1514b50e751a"
   },
   "outputs": [
    {
     "data": {
      "text/plain": [
       "88257"
      ]
     },
     "execution_count": 10,
     "metadata": {},
     "output_type": "execute_result"
    }
   ],
   "source": [
    "# Looking for the count of features\n",
    "len(bow_transformer.vocabulary_)"
   ]
  },
  {
   "cell_type": "code",
   "execution_count": 12,
   "metadata": {
    "colab": {
     "base_uri": "https://localhost:8080/",
     "height": 51
    },
    "colab_type": "code",
    "id": "_ZbIoqSZxnao",
    "outputId": "9c39cdd0-93d1-4edd-ccb8-a94bcac7e706"
   },
   "outputs": [],
   "source": [
    "# Let us now transform our review text\n",
    "#%%time\n",
    "X = bow_transformer.transform(X)"
   ]
  },
  {
   "cell_type": "code",
   "execution_count": 13,
   "metadata": {
    "colab": {
     "base_uri": "https://localhost:8080/",
     "height": 68
    },
    "colab_type": "code",
    "id": "t-6bjsK0xnTF",
    "outputId": "e612dac8-0977-4b38-9ac4-5f439e3c1d46",
    "scrolled": true
   },
   "outputs": [
    {
     "name": "stdout",
     "output_type": "stream",
     "text": [
      "Shape of Sparse Matrix:  (100000, 88257)\n",
      "Amount of Non-Zero occurrences:  7216964\n",
      "Density: 0.08177214271955766\n"
     ]
    }
   ],
   "source": [
    "print('Shape of Sparse Matrix: ', X.shape)\n",
    "print('Amount of Non-Zero occurrences: ', X.nnz)\n",
    "\n",
    "# Percentage of non-zero values\n",
    "density = (100.0 * X.nnz / (X.shape[0] * X.shape[1]))\n",
    "print('Density: {}'.format((density)))"
   ]
  },
  {
   "cell_type": "code",
   "execution_count": 14,
   "metadata": {},
   "outputs": [
    {
     "name": "stdout",
     "output_type": "stream",
     "text": [
      "Number transactions X_train dataset:  (70000, 88257)\n",
      "Number transactions y_train dataset:  (70000,)\n",
      "Number transactions X_test dataset:  (30000, 88257)\n",
      "Number transactions y_test dataset:  (30000,)\n"
     ]
    }
   ],
   "source": [
    "from imblearn.over_sampling import SMOTE\n",
    "from sklearn.model_selection import train_test_split\n",
    "\n",
    "X_train, X_test, y_train, y_test = train_test_split(X, y, test_size=0.3, random_state=101)\n",
    "print(\"Number transactions X_train dataset: \", X_train.shape)\n",
    "print(\"Number transactions y_train dataset: \", y_train.shape)\n",
    "print(\"Number transactions X_test dataset: \", X_test.shape)\n",
    "print(\"Number transactions y_test dataset: \", y_test.shape)"
   ]
  },
  {
   "cell_type": "code",
   "execution_count": 15,
   "metadata": {},
   "outputs": [
    {
     "name": "stdout",
     "output_type": "stream",
     "text": [
      "Before OverSampling, counts of label '1': 9326\n",
      "Before OverSampling, counts of label '2': 5811\n",
      "Before OverSampling, counts of label '3': 8262\n",
      "Before OverSampling, counts of label '4': 16765\n",
      "Before OverSampling, counts of label '5': 29836 \n",
      "\n",
      "After OverSampling, the shape of train_X: (149180, 88257)\n",
      "After OverSampling, the shape of train_y: (149180,) \n",
      "\n",
      "After OverSampling, counts of label '1': 29836\n",
      "After OverSampling, counts of label '2': 29836\n",
      "After OverSampling, counts of label '3': 29836\n",
      "After OverSampling, counts of label '4': 29836\n",
      "After OverSampling, counts of label '5': 29836\n"
     ]
    }
   ],
   "source": [
    "print(\"Before OverSampling, counts of label '1': {}\".format(sum(y_train==1)))\n",
    "print(\"Before OverSampling, counts of label '2': {}\".format(sum(y_train==2)))\n",
    "print(\"Before OverSampling, counts of label '3': {}\".format(sum(y_train==3)))\n",
    "print(\"Before OverSampling, counts of label '4': {}\".format(sum(y_train==4)))\n",
    "print(\"Before OverSampling, counts of label '5': {} \\n\".format(sum(y_train==5)))\n",
    "\n",
    "sm = SMOTE(random_state=2)\n",
    "X_train_res, y_train_res = sm.fit_sample(X_train, y_train.ravel())\n",
    "\n",
    "print('After OverSampling, the shape of train_X: {}'.format(X_train_res.shape))\n",
    "print('After OverSampling, the shape of train_y: {} \\n'.format(y_train_res.shape))\n",
    "\n",
    "print(\"After OverSampling, counts of label '1': {}\".format(sum(y_train_res==1)))\n",
    "print(\"After OverSampling, counts of label '2': {}\".format(sum(y_train_res==2)))\n",
    "print(\"After OverSampling, counts of label '3': {}\".format(sum(y_train_res==3)))\n",
    "print(\"After OverSampling, counts of label '4': {}\".format(sum(y_train_res==4)))\n",
    "print(\"After OverSampling, counts of label '5': {}\".format(sum(y_train_res==5)))"
   ]
  },
  {
   "cell_type": "code",
   "execution_count": 16,
   "metadata": {
    "colab": {
     "base_uri": "https://localhost:8080/",
     "height": 34
    },
    "colab_type": "code",
    "id": "Wq2kklB5xnEV",
    "outputId": "58bb7833-d78d-4d58-dc0b-595a39d3846c"
   },
   "outputs": [
    {
     "data": {
      "text/plain": [
       "MultinomialNB(alpha=1.0, class_prior=None, fit_prior=True)"
      ]
     },
     "execution_count": 16,
     "metadata": {},
     "output_type": "execute_result"
    }
   ],
   "source": [
    "# Let us now train the model using Multinomial Naive Bais Algorithm\n",
    "from sklearn.naive_bayes import MultinomialNB\n",
    "\n",
    "nb = MultinomialNB()\n",
    "nb.fit(X_train, y_train)"
   ]
  },
  {
   "cell_type": "code",
   "execution_count": 121,
   "metadata": {},
   "outputs": [],
   "source": [
    "finalized_model = open(\"Finalized_Model_NB.pkl\", \"wb\")\n",
    "pickle.dump(nb, finalized_model)"
   ]
  },
  {
   "cell_type": "code",
   "execution_count": 17,
   "metadata": {
    "colab": {},
    "colab_type": "code",
    "id": "73a2gUOoxm9g"
   },
   "outputs": [],
   "source": [
    "# Let us now predict on the test set\n",
    "preds = nb.predict(X_test)"
   ]
  },
  {
   "cell_type": "code",
   "execution_count": 18,
   "metadata": {
    "colab": {
     "base_uri": "https://localhost:8080/",
     "height": 340
    },
    "colab_type": "code",
    "id": "yhgUzNJvxm2h",
    "outputId": "85cba219-84e4-4ea1-be98-657670030c33"
   },
   "outputs": [
    {
     "name": "stdout",
     "output_type": "stream",
     "text": [
      "[[2941  478  234  167  121]\n",
      " [ 693  493  701  486  125]\n",
      " [ 342  196  865 1842  300]\n",
      " [ 239  100  352 4560 1881]\n",
      " [ 538   84  106 3199 8957]]\n",
      "\n",
      "\n",
      "              precision    recall  f1-score   support\n",
      "\n",
      "           1       0.62      0.75      0.68      3941\n",
      "           2       0.36      0.20      0.26      2498\n",
      "           3       0.38      0.24      0.30      3545\n",
      "           4       0.44      0.64      0.52      7132\n",
      "           5       0.79      0.70      0.74     12884\n",
      "\n",
      "   micro avg       0.59      0.59      0.59     30000\n",
      "   macro avg       0.52      0.50      0.50     30000\n",
      "weighted avg       0.60      0.59      0.59     30000\n",
      "\n",
      "0.5938666666666667\n"
     ]
    }
   ],
   "source": [
    "# Let us now evaluate our model using confusion matrix and classification report\n",
    "print(confusion_matrix(y_test, preds))\n",
    "print('\\n')\n",
    "print(classification_report(y_test, preds))\n",
    "print(metrics.accuracy_score(y_test, preds))"
   ]
  },
  {
   "cell_type": "markdown",
   "metadata": {
    "colab_type": "text",
    "id": "MZo0nbWMeqXa"
   },
   "source": [
    "**Observation :**\n",
    "\n",
    "1. From above, we observe that the misclassification rate is quite high for each of the ratings. It is still better for 1 star and 5 star ratings.\n",
    "\n",
    "2. 2 star rating has a higher misclassified rating as compared to its true positives where it wrongly predicts it as a 1 star rating majority of the times.\n",
    "\n",
    "3. 3 star rating also has high misclassification rate where there is almost equal number of chances that it wrongly predicts the rating as a 2 star rating.\n",
    "\n",
    "4. Looking at the precision and recall for each of the ratings, we see that it is least for 2 star rating. The values for 3 star and 4 star ratings are also not very good which signifies that the model is not good and there is a higher probablity that it will wrongly predict the ratings.\n",
    "\n",
    "Let us look at some of the examples below -"
   ]
  },
  {
   "cell_type": "markdown",
   "metadata": {
    "colab_type": "text",
    "id": "1DvDC2S1y8fs"
   },
   "source": [
    "#### Predicting positive reviews :"
   ]
  },
  {
   "cell_type": "code",
   "execution_count": 19,
   "metadata": {
    "colab": {
     "base_uri": "https://localhost:8080/",
     "height": 598
    },
    "colab_type": "code",
    "id": "rFr5eoNJllNw",
    "outputId": "f26ab866-507c-428e-d336-fe36c9b01d78",
    "scrolled": false
   },
   "outputs": [
    {
     "data": {
      "text/html": [
       "<div>\n",
       "<style scoped>\n",
       "    .dataframe tbody tr th:only-of-type {\n",
       "        vertical-align: middle;\n",
       "    }\n",
       "\n",
       "    .dataframe tbody tr th {\n",
       "        vertical-align: top;\n",
       "    }\n",
       "\n",
       "    .dataframe thead th {\n",
       "        text-align: right;\n",
       "    }\n",
       "</style>\n",
       "<table border=\"1\" class=\"dataframe\">\n",
       "  <thead>\n",
       "    <tr style=\"text-align: right;\">\n",
       "      <th></th>\n",
       "      <th>funny</th>\n",
       "      <th>user_id</th>\n",
       "      <th>review_id</th>\n",
       "      <th>text</th>\n",
       "      <th>business_id</th>\n",
       "      <th>stars</th>\n",
       "      <th>date</th>\n",
       "      <th>useful</th>\n",
       "      <th>cool</th>\n",
       "    </tr>\n",
       "  </thead>\n",
       "  <tbody>\n",
       "    <tr>\n",
       "      <th>99995</th>\n",
       "      <td>1</td>\n",
       "      <td>CKRfBUqQGaVCYTKN5kDrzw</td>\n",
       "      <td>RpT1GVVIYC5NZQmsCnUS8Q</td>\n",
       "      <td>Amazing warm waffles at a very reasonable pric...</td>\n",
       "      <td>SThmy10YhS13oFgT990Xhw</td>\n",
       "      <td>5</td>\n",
       "      <td>2013-12-28</td>\n",
       "      <td>2</td>\n",
       "      <td>2</td>\n",
       "    </tr>\n",
       "    <tr>\n",
       "      <th>99996</th>\n",
       "      <td>0</td>\n",
       "      <td>CKRfBUqQGaVCYTKN5kDrzw</td>\n",
       "      <td>piG9b34Bk0ptQduZ12LB5g</td>\n",
       "      <td>Cool boutique with clever gifts from local ven...</td>\n",
       "      <td>jAzhMXlm1lg388k-xlANKA</td>\n",
       "      <td>4</td>\n",
       "      <td>2016-11-12</td>\n",
       "      <td>0</td>\n",
       "      <td>0</td>\n",
       "    </tr>\n",
       "    <tr>\n",
       "      <th>99997</th>\n",
       "      <td>0</td>\n",
       "      <td>CKRfBUqQGaVCYTKN5kDrzw</td>\n",
       "      <td>UM9Xf3ExrVIfK0a4DbtSVA</td>\n",
       "      <td>Loved the Korean BBQ special sandwich with cil...</td>\n",
       "      <td>dHUb949NckE2GqtlSVlWQg</td>\n",
       "      <td>5</td>\n",
       "      <td>2013-03-04</td>\n",
       "      <td>1</td>\n",
       "      <td>1</td>\n",
       "    </tr>\n",
       "    <tr>\n",
       "      <th>99998</th>\n",
       "      <td>0</td>\n",
       "      <td>CKRfBUqQGaVCYTKN5kDrzw</td>\n",
       "      <td>LsGy4-yDOfxJJuvkoIaNkA</td>\n",
       "      <td>Fabulous pub style food and tasty cocktails!\\n...</td>\n",
       "      <td>bcTwvbD5wfMSgSO-YczLYw</td>\n",
       "      <td>5</td>\n",
       "      <td>2015-08-11</td>\n",
       "      <td>0</td>\n",
       "      <td>1</td>\n",
       "    </tr>\n",
       "    <tr>\n",
       "      <th>99999</th>\n",
       "      <td>0</td>\n",
       "      <td>CKRfBUqQGaVCYTKN5kDrzw</td>\n",
       "      <td>JMHSEhNN42SiM3mVhUzc9A</td>\n",
       "      <td>I had the Santorini breakfast crepe with olive...</td>\n",
       "      <td>zr8Ojsm-yNhvfTzBzcKU9w</td>\n",
       "      <td>3</td>\n",
       "      <td>2016-02-27</td>\n",
       "      <td>0</td>\n",
       "      <td>0</td>\n",
       "    </tr>\n",
       "  </tbody>\n",
       "</table>\n",
       "</div>"
      ],
      "text/plain": [
       "       funny                 user_id               review_id  \\\n",
       "99995      1  CKRfBUqQGaVCYTKN5kDrzw  RpT1GVVIYC5NZQmsCnUS8Q   \n",
       "99996      0  CKRfBUqQGaVCYTKN5kDrzw  piG9b34Bk0ptQduZ12LB5g   \n",
       "99997      0  CKRfBUqQGaVCYTKN5kDrzw  UM9Xf3ExrVIfK0a4DbtSVA   \n",
       "99998      0  CKRfBUqQGaVCYTKN5kDrzw  LsGy4-yDOfxJJuvkoIaNkA   \n",
       "99999      0  CKRfBUqQGaVCYTKN5kDrzw  JMHSEhNN42SiM3mVhUzc9A   \n",
       "\n",
       "                                                    text  \\\n",
       "99995  Amazing warm waffles at a very reasonable pric...   \n",
       "99996  Cool boutique with clever gifts from local ven...   \n",
       "99997  Loved the Korean BBQ special sandwich with cil...   \n",
       "99998  Fabulous pub style food and tasty cocktails!\\n...   \n",
       "99999  I had the Santorini breakfast crepe with olive...   \n",
       "\n",
       "                  business_id  stars        date  useful  cool  \n",
       "99995  SThmy10YhS13oFgT990Xhw      5  2013-12-28       2     2  \n",
       "99996  jAzhMXlm1lg388k-xlANKA      4  2016-11-12       0     0  \n",
       "99997  dHUb949NckE2GqtlSVlWQg      5  2013-03-04       1     1  \n",
       "99998  bcTwvbD5wfMSgSO-YczLYw      5  2015-08-11       0     1  \n",
       "99999  zr8Ojsm-yNhvfTzBzcKU9w      3  2016-02-27       0     0  "
      ]
     },
     "execution_count": 19,
     "metadata": {},
     "output_type": "execute_result"
    }
   ],
   "source": [
    "review.tail()"
   ]
  },
  {
   "cell_type": "code",
   "execution_count": 52,
   "metadata": {},
   "outputs": [],
   "source": [
    "from random import randint\n",
    "def predict_review(n,bow_transformer,nb,review):\n",
    "    value = randint(0,n)\n",
    "    print('The row that has been selected is', value)\n",
    "    review_verdict = review['text'][value]\n",
    "    review_verdict_transformed = bow_transformer.transform([review_verdict])\n",
    "    predicted_rating = nb.predict(review_verdict_transformed)[0]\n",
    "    check_df = pd.DataFrame(columns=review.columns)\n",
    "    check_df.loc[0] = review.iloc[value]\n",
    "    check_df['Predicted'] = predicted_rating\n",
    "    return check_df"
   ]
  },
  {
   "cell_type": "code",
   "execution_count": 56,
   "metadata": {},
   "outputs": [
    {
     "name": "stdout",
     "output_type": "stream",
     "text": [
      "The row that has been selected is 36\n"
     ]
    },
    {
     "data": {
      "text/html": [
       "<div>\n",
       "<style scoped>\n",
       "    .dataframe tbody tr th:only-of-type {\n",
       "        vertical-align: middle;\n",
       "    }\n",
       "\n",
       "    .dataframe tbody tr th {\n",
       "        vertical-align: top;\n",
       "    }\n",
       "\n",
       "    .dataframe thead th {\n",
       "        text-align: right;\n",
       "    }\n",
       "</style>\n",
       "<table border=\"1\" class=\"dataframe\">\n",
       "  <thead>\n",
       "    <tr style=\"text-align: right;\">\n",
       "      <th></th>\n",
       "      <th>funny</th>\n",
       "      <th>user_id</th>\n",
       "      <th>review_id</th>\n",
       "      <th>text</th>\n",
       "      <th>business_id</th>\n",
       "      <th>stars</th>\n",
       "      <th>date</th>\n",
       "      <th>useful</th>\n",
       "      <th>cool</th>\n",
       "      <th>Predicted</th>\n",
       "    </tr>\n",
       "  </thead>\n",
       "  <tbody>\n",
       "    <tr>\n",
       "      <th>0</th>\n",
       "      <td>0</td>\n",
       "      <td>u0LXt3Uea_GidxRW1xcsfg</td>\n",
       "      <td>b1Volwlw8gt_IGh9PhRQmw</td>\n",
       "      <td>This review is mainly for the pool only.\\n\\nLo...</td>\n",
       "      <td>N-11FCEppz5NVYZVM2G5yA</td>\n",
       "      <td>5</td>\n",
       "      <td>2016-02-08</td>\n",
       "      <td>0</td>\n",
       "      <td>0</td>\n",
       "      <td>5</td>\n",
       "    </tr>\n",
       "  </tbody>\n",
       "</table>\n",
       "</div>"
      ],
      "text/plain": [
       "  funny                 user_id               review_id  \\\n",
       "0     0  u0LXt3Uea_GidxRW1xcsfg  b1Volwlw8gt_IGh9PhRQmw   \n",
       "\n",
       "                                                text             business_id  \\\n",
       "0  This review is mainly for the pool only.\\n\\nLo...  N-11FCEppz5NVYZVM2G5yA   \n",
       "\n",
       "  stars        date useful cool  Predicted  \n",
       "0     5  2016-02-08      0    0          5  "
      ]
     },
     "execution_count": 56,
     "metadata": {},
     "output_type": "execute_result"
    }
   ],
   "source": [
    "predict_review(55,bow_transformer,nb,review)"
   ]
  },
  {
   "cell_type": "markdown",
   "metadata": {
    "colab_type": "text",
    "id": "zRHPegTzmJ8_"
   },
   "source": [
    "Thus, we see that the actual rating was 5 for the reveiw and our model very well predicted that rating. Let us now test for another positive reveiw."
   ]
  },
  {
   "cell_type": "markdown",
   "metadata": {
    "colab_type": "text",
    "id": "GNdanM8AnuFT"
   },
   "source": [
    "Now, let us now try to create another model where we remove all the stopwords and perform lemmatisation and other text processing. We will then try to predict the ratings using Naive Baised Model and test for our predictions."
   ]
  },
  {
   "cell_type": "markdown",
   "metadata": {
    "colab_type": "text",
    "id": "4uCnoVZpzT5i"
   },
   "source": [
    "### 4.3 ADVANCE MODEL AFTER REMOVAL OF STOPWORDS AND OTHER PRE-PROCESSING TECHNIQUE TO PREDICT RATINGS USING NAIVE BIAS AND LOGISTIC REGRESSION ALGORITHM"
   ]
  },
  {
   "cell_type": "code",
   "execution_count": 57,
   "metadata": {
    "colab": {},
    "colab_type": "code",
    "id": "TJma6eDPpMF9"
   },
   "outputs": [],
   "source": [
    "# function to segregate the Part Of Speech in the review text\n",
    "# n - noun, v - verb, a - adverb, r - adverb\n",
    "from nltk.corpus import wordnet\n",
    "from collections import Counter\n",
    "def get_pos( word ):\n",
    "    w_synsets = wordnet.synsets(word)\n",
    "\n",
    "    pos_counts = Counter()\n",
    "    pos_counts[\"n\"] = len(  [ item for item in w_synsets if item.pos()==\"n\"]  )\n",
    "    pos_counts[\"v\"] = len(  [ item for item in w_synsets if item.pos()==\"v\"]  )\n",
    "    pos_counts[\"a\"] = len(  [ item for item in w_synsets if item.pos()==\"a\"]  )\n",
    "    pos_counts[\"r\"] = len(  [ item for item in w_synsets if item.pos()==\"r\"]  )\n",
    "    \n",
    "    most_common_pos_list = pos_counts.most_common(4)\n",
    "    return most_common_pos_list[0][0]"
   ]
  },
  {
   "cell_type": "code",
   "execution_count": 58,
   "metadata": {
    "colab": {},
    "colab_type": "code",
    "id": "mIfYO50BTFAw"
   },
   "outputs": [],
   "source": [
    "# function to perform text preprocessing on the review text\n",
    "def preprocessing(text):\n",
    "    \n",
    "    # tokenize into words\n",
    "    tokens = [word for sent in nltk.sent_tokenize(text) for word in nltk.word_tokenize(sent)]\n",
    "\n",
    "    # lower capitalization\n",
    "    tokens = [word.lower() for word in tokens]\n",
    "    \n",
    "    # remove stopwords\n",
    "    stop = stopwords.words('english')\n",
    "    tokens = [token for token in tokens if token not in stop]\n",
    "    \n",
    "    # remove punctuations\n",
    "    tokens = [char for char in tokens if char not in string.punctuation]\n",
    "\n",
    "    # lemmatize\n",
    "    lmtzr = WordNetLemmatizer()\n",
    "    tokens = [lmtzr.lemmatize(x, get_pos(x)) for x in tokens]\n",
    "    #tokens = [lmtzr.lemmatize(word, pos='v') for word in tokens]\n",
    "    preprocessed_text= ' '.join(tokens)\n",
    "\n",
    "    return preprocessed_text"
   ]
  },
  {
   "cell_type": "code",
   "execution_count": 61,
   "metadata": {
    "colab": {
     "base_uri": "https://localhost:8080/",
     "height": 34
    },
    "colab_type": "code",
    "id": "crEpzST0Tb2_",
    "outputId": "c04f2fbc-3d01-43c0-84b0-a8980f6c1ec9"
   },
   "outputs": [
    {
     "name": "stdout",
     "output_type": "stream",
     "text": [
      "hey many cat run like cat sample review happen contain punctuation\n"
     ]
    }
   ],
   "source": [
    "# sample text to check if the above function worked\n",
    "sample_text = \"Hey there! There are many cats running but I like just I cat!! This is a sample reviews, which happens to contain punctuations.\"\n",
    "\n",
    "print(preprocessing(sample_text))"
   ]
  },
  {
   "cell_type": "code",
   "execution_count": 0,
   "metadata": {
    "colab": {},
    "colab_type": "code",
    "id": "_7Ij0hQo12vF"
   },
   "outputs": [],
   "source": [
    "#text = \"Hey there There are many cats running but I like just I cat!! This is a sample reviews which happens to contain punctuations\"\n",
    "#txt = nltk.word_tokenize(text)\n",
    "#nopunc_pos = nltk.pos_tag(txt,tagset='universal')\n",
    "#print(nopunc_pos)\n",
    "#nopunc = [lmtzr.lemmatize(x[0], x[1][0].lower()) for x in nopunc_pos]\n",
    "#nopunc"
   ]
  },
  {
   "cell_type": "code",
   "execution_count": 62,
   "metadata": {
    "colab": {},
    "colab_type": "code",
    "id": "lvALlI_t1lvb"
   },
   "outputs": [],
   "source": [
    "# separating our features and target \n",
    "X = review['text']\n",
    "y = review['stars']"
   ]
  },
  {
   "cell_type": "code",
   "execution_count": 63,
   "metadata": {
    "colab": {
     "base_uri": "https://localhost:8080/",
     "height": 51
    },
    "colab_type": "code",
    "id": "ipCvjsNnwW77",
    "outputId": "33520899-66f5-4b75-d5de-958fc399b9c4"
   },
   "outputs": [],
   "source": [
    "# creating a bag of words which consist of entire preprocessed review text and fiting it\n",
    "#%%time\n",
    "from sklearn.feature_extraction.text import CountVectorizer\n",
    "bow_transformer = CountVectorizer(analyzer=preprocessing).fit(X)"
   ]
  },
  {
   "cell_type": "code",
   "execution_count": 64,
   "metadata": {
    "colab": {
     "base_uri": "https://localhost:8080/",
     "height": 34
    },
    "colab_type": "code",
    "id": "P9Ja4YXcwpG0",
    "outputId": "effc6023-b09c-486b-ace1-a8b0334467cc"
   },
   "outputs": [
    {
     "data": {
      "text/plain": [
       "865"
      ]
     },
     "execution_count": 64,
     "metadata": {},
     "output_type": "execute_result"
    }
   ],
   "source": [
    "# Looking at the count of features in the model\n",
    "len(bow_transformer.vocabulary_)"
   ]
  },
  {
   "cell_type": "code",
   "execution_count": 65,
   "metadata": {
    "colab": {
     "base_uri": "https://localhost:8080/",
     "height": 51
    },
    "colab_type": "code",
    "id": "rohFQhIawo7D",
    "outputId": "e044fc21-d860-4437-f66c-6ab5d26279c8"
   },
   "outputs": [],
   "source": [
    "# Transforming our features in the model\n",
    "#%%time\n",
    "X = bow_transformer.transform(X)"
   ]
  },
  {
   "cell_type": "code",
   "execution_count": 66,
   "metadata": {
    "colab": {
     "base_uri": "https://localhost:8080/",
     "height": 68
    },
    "colab_type": "code",
    "id": "ulVQwhdJwo3k",
    "outputId": "b5d23c2f-69b2-46ad-ea12-411786f1b2c5"
   },
   "outputs": [
    {
     "name": "stdout",
     "output_type": "stream",
     "text": [
      "Shape of Sparse Matrix:  (100000, 865)\n",
      "Amount of Non-Zero occurrences:  2656591\n",
      "Density: 3.0712034682080924\n"
     ]
    }
   ],
   "source": [
    "print('Shape of Sparse Matrix: ', X.shape)\n",
    "print('Amount of Non-Zero occurrences: ', X.nnz)\n",
    "\n",
    "# Percentage of non-zero values\n",
    "density = (100.0 * X.nnz / (X.shape[0] * X.shape[1]))\n",
    "print('Density: {}'.format((density)))"
   ]
  },
  {
   "cell_type": "code",
   "execution_count": 67,
   "metadata": {},
   "outputs": [
    {
     "name": "stdout",
     "output_type": "stream",
     "text": [
      "Number transactions X_train dataset:  (70000, 865)\n",
      "Number transactions y_train dataset:  (70000,)\n",
      "Number transactions X_test dataset:  (30000, 865)\n",
      "Number transactions y_test dataset:  (30000,)\n"
     ]
    }
   ],
   "source": [
    "from imblearn.over_sampling import SMOTE\n",
    "from sklearn.model_selection import train_test_split\n",
    "\n",
    "X_train, X_test, y_train, y_test = train_test_split(X, y, test_size=0.3, random_state=101)\n",
    "print(\"Number transactions X_train dataset: \", X_train.shape)\n",
    "print(\"Number transactions y_train dataset: \", y_train.shape)\n",
    "print(\"Number transactions X_test dataset: \", X_test.shape)\n",
    "print(\"Number transactions y_test dataset: \", y_test.shape)"
   ]
  },
  {
   "cell_type": "code",
   "execution_count": 68,
   "metadata": {},
   "outputs": [
    {
     "name": "stdout",
     "output_type": "stream",
     "text": [
      "Before OverSampling, counts of label '1': 9326\n",
      "Before OverSampling, counts of label '2': 5811\n",
      "Before OverSampling, counts of label '3': 8262\n",
      "Before OverSampling, counts of label '4': 16765\n",
      "Before OverSampling, counts of label '5': 29836 \n",
      "\n",
      "After OverSampling, the shape of train_X: (149180, 865)\n",
      "After OverSampling, the shape of train_y: (149180,) \n",
      "\n",
      "After OverSampling, counts of label '1': 29836\n",
      "After OverSampling, counts of label '2': 29836\n",
      "After OverSampling, counts of label '3': 29836\n",
      "After OverSampling, counts of label '4': 29836\n",
      "After OverSampling, counts of label '5': 29836\n"
     ]
    }
   ],
   "source": [
    "print(\"Before OverSampling, counts of label '1': {}\".format(sum(y_train==1)))\n",
    "print(\"Before OverSampling, counts of label '2': {}\".format(sum(y_train==2)))\n",
    "print(\"Before OverSampling, counts of label '3': {}\".format(sum(y_train==3)))\n",
    "print(\"Before OverSampling, counts of label '4': {}\".format(sum(y_train==4)))\n",
    "print(\"Before OverSampling, counts of label '5': {} \\n\".format(sum(y_train==5)))\n",
    "\n",
    "sm = SMOTE(random_state=2)\n",
    "X_train_res, y_train_res = sm.fit_sample(X_train, y_train.ravel())\n",
    "\n",
    "print('After OverSampling, the shape of train_X: {}'.format(X_train_res.shape))\n",
    "print('After OverSampling, the shape of train_y: {} \\n'.format(y_train_res.shape))\n",
    "\n",
    "print(\"After OverSampling, counts of label '1': {}\".format(sum(y_train_res==1)))\n",
    "print(\"After OverSampling, counts of label '2': {}\".format(sum(y_train_res==2)))\n",
    "print(\"After OverSampling, counts of label '3': {}\".format(sum(y_train_res==3)))\n",
    "print(\"After OverSampling, counts of label '4': {}\".format(sum(y_train_res==4)))\n",
    "print(\"After OverSampling, counts of label '5': {}\".format(sum(y_train_res==5)))"
   ]
  },
  {
   "cell_type": "code",
   "execution_count": 69,
   "metadata": {
    "colab": {
     "base_uri": "https://localhost:8080/",
     "height": 34
    },
    "colab_type": "code",
    "id": "YxA78lRo0B5T",
    "outputId": "8792c8b8-3603-4c45-8009-9f42510f0df4"
   },
   "outputs": [
    {
     "data": {
      "text/plain": [
       "MultinomialNB(alpha=1.0, class_prior=None, fit_prior=True)"
      ]
     },
     "execution_count": 69,
     "metadata": {},
     "output_type": "execute_result"
    }
   ],
   "source": [
    "# Let us now train our model using Multinomial Naive Bais Algorithm\n",
    "from sklearn.naive_bayes import MultinomialNB\n",
    "\n",
    "nb = MultinomialNB()\n",
    "nb.fit(X_train, y_train)"
   ]
  },
  {
   "cell_type": "code",
   "execution_count": 70,
   "metadata": {
    "colab": {},
    "colab_type": "code",
    "id": "_2lQNivEwo0O"
   },
   "outputs": [],
   "source": [
    "# Predict on the test set\n",
    "preds = nb.predict(X_test)"
   ]
  },
  {
   "cell_type": "code",
   "execution_count": 71,
   "metadata": {
    "colab": {
     "base_uri": "https://localhost:8080/",
     "height": 340
    },
    "colab_type": "code",
    "id": "V4rDheJw0PVj",
    "outputId": "3c34ef1b-9c01-4517-a6e5-08fe5859d2f6",
    "scrolled": true
   },
   "outputs": [
    {
     "name": "stdout",
     "output_type": "stream",
     "text": [
      "[[ 1544   194    46   234  1923]\n",
      " [  628   169    58   300  1343]\n",
      " [  578   215   141   588  2023]\n",
      " [  723   273   163  1109  4864]\n",
      " [ 1108   310   116   907 10443]]\n",
      "\n",
      "\n",
      "              precision    recall  f1-score   support\n",
      "\n",
      "           1       0.34      0.39      0.36      3941\n",
      "           2       0.15      0.07      0.09      2498\n",
      "           3       0.27      0.04      0.07      3545\n",
      "           4       0.35      0.16      0.22      7132\n",
      "           5       0.51      0.81      0.62     12884\n",
      "\n",
      "   micro avg       0.45      0.45      0.45     30000\n",
      "   macro avg       0.32      0.29      0.27     30000\n",
      "weighted avg       0.39      0.45      0.38     30000\n",
      "\n",
      "0.4468666666666667\n"
     ]
    }
   ],
   "source": [
    "# Performance evaluation by confusion matrix and classification report\n",
    "from sklearn.metrics import confusion_matrix, classification_report\n",
    "\n",
    "print(confusion_matrix(y_test, preds))\n",
    "print('\\n')\n",
    "print(classification_report(y_test, preds))\n",
    "print(metrics.accuracy_score(y_test, preds))"
   ]
  },
  {
   "cell_type": "markdown",
   "metadata": {
    "colab_type": "text",
    "id": "f2ZD4LRiHIrB"
   },
   "source": [
    "Observation :\n",
    "\n",
    "From above, we observe that the misclassification rate is still high for each of the ratings. 2 star rating is poorly predicted whereas a 5 star rating as much better prediction results compared to other ratings. \n",
    "\n",
    "2 star rating has a higher misclassified rating as compared to its true positives where it wrongly predicts it as a 5 star rating majority of the times.\n",
    "\n",
    "3 star rating also has high misclassification rate where there is almost equal number of chances that it wrongly predicts the rating as a 5 star rating.\n",
    "\n",
    "Looking at the precision, recall and f1-score for each of the ratings, we see that it is least for 3 star rating. The values for 2 star and 4 star ratings are also not very good which signifies that the model is not good and there is a higher probablity that it will wrongly predict the ratings.\n",
    "\n",
    "Also, in comparison to the baseline model we observe that this model under-performed after performing text preprocessing. The reason behind high misclassification rate while our modelling is due to the biased nature of reveiws and stars given by the users. As we had seen above while performing the exploratory data analysis, majority of the users have given more than 3 star rating to the business which is why our model turned bias towards positive reviews and predicts ratings which is more than 3 for most of the scenarios.\n",
    "\n",
    "Let us look at some of the examples below -"
   ]
  },
  {
   "cell_type": "markdown",
   "metadata": {
    "colab_type": "text",
    "id": "p401InJG4Hbx"
   },
   "source": [
    "#### Predicting positive reviews"
   ]
  },
  {
   "cell_type": "code",
   "execution_count": 72,
   "metadata": {
    "colab": {
     "base_uri": "https://localhost:8080/",
     "height": 34
    },
    "colab_type": "code",
    "id": "QC8iQGIpLU-S",
    "outputId": "fe57200e-fc32-4edf-c31f-99ade494a9c3",
    "scrolled": true
   },
   "outputs": [],
   "source": [
    "from random import randint\n",
    "def predict_review(n,bow_transformer,nb,review):\n",
    "    value = randint(0,n)\n",
    "    print('The row that has been selected is', value)\n",
    "    review_verdict = review['text'][value]\n",
    "    review_verdict_transformed = bow_transformer.transform([review_verdict])\n",
    "    predicted_rating = nb.predict(review_verdict_transformed)[0]\n",
    "    check_df = pd.DataFrame(columns=review.columns)\n",
    "    check_df.loc[0] = review.iloc[value]\n",
    "    check_df['Predicted'] = predicted_rating\n",
    "    return check_df"
   ]
  },
  {
   "cell_type": "code",
   "execution_count": 73,
   "metadata": {},
   "outputs": [
    {
     "name": "stdout",
     "output_type": "stream",
     "text": [
      "The row that has been selected is 57\n"
     ]
    },
    {
     "data": {
      "text/html": [
       "<div>\n",
       "<style scoped>\n",
       "    .dataframe tbody tr th:only-of-type {\n",
       "        vertical-align: middle;\n",
       "    }\n",
       "\n",
       "    .dataframe tbody tr th {\n",
       "        vertical-align: top;\n",
       "    }\n",
       "\n",
       "    .dataframe thead th {\n",
       "        text-align: right;\n",
       "    }\n",
       "</style>\n",
       "<table border=\"1\" class=\"dataframe\">\n",
       "  <thead>\n",
       "    <tr style=\"text-align: right;\">\n",
       "      <th></th>\n",
       "      <th>funny</th>\n",
       "      <th>user_id</th>\n",
       "      <th>review_id</th>\n",
       "      <th>text</th>\n",
       "      <th>business_id</th>\n",
       "      <th>stars</th>\n",
       "      <th>date</th>\n",
       "      <th>useful</th>\n",
       "      <th>cool</th>\n",
       "      <th>Predicted</th>\n",
       "    </tr>\n",
       "  </thead>\n",
       "  <tbody>\n",
       "    <tr>\n",
       "      <th>0</th>\n",
       "      <td>0</td>\n",
       "      <td>u0LXt3Uea_GidxRW1xcsfg</td>\n",
       "      <td>6HHuaN9i-MEYRz4sPRcZEw</td>\n",
       "      <td>Long line ups for Sunday brunch - but so worth...</td>\n",
       "      <td>SCklYa_jhihWAcfIn-_chg</td>\n",
       "      <td>4</td>\n",
       "      <td>2010-03-31</td>\n",
       "      <td>0</td>\n",
       "      <td>0</td>\n",
       "      <td>5</td>\n",
       "    </tr>\n",
       "  </tbody>\n",
       "</table>\n",
       "</div>"
      ],
      "text/plain": [
       "  funny                 user_id               review_id  \\\n",
       "0     0  u0LXt3Uea_GidxRW1xcsfg  6HHuaN9i-MEYRz4sPRcZEw   \n",
       "\n",
       "                                                text             business_id  \\\n",
       "0  Long line ups for Sunday brunch - but so worth...  SCklYa_jhihWAcfIn-_chg   \n",
       "\n",
       "  stars        date useful cool  Predicted  \n",
       "0     4  2010-03-31      0    0          5  "
      ]
     },
     "execution_count": 73,
     "metadata": {},
     "output_type": "execute_result"
    }
   ],
   "source": [
    "predict_review(100,bow_transformer,nb,review)"
   ]
  },
  {
   "cell_type": "markdown",
   "metadata": {
    "colab_type": "text",
    "id": "xzrXwIIKLWYF"
   },
   "source": [
    "From above we see that the actual rating was 2 and our model misclassified it as a 5 star rating for the business. "
   ]
  },
  {
   "cell_type": "markdown",
   "metadata": {
    "colab_type": "text",
    "id": "C9kHtW0EbqSS"
   },
   "source": [
    "Let us now try it out by using Logistic Regression Model and look if we get better results."
   ]
  },
  {
   "cell_type": "markdown",
   "metadata": {
    "colab_type": "text",
    "id": "-07OpBClb0c9"
   },
   "source": [
    "### LOGISTIC REGRESSION TECHNIQUE FOR USER RATING PREDICTION"
   ]
  },
  {
   "cell_type": "code",
   "execution_count": 74,
   "metadata": {
    "colab": {
     "base_uri": "https://localhost:8080/",
     "height": 34
    },
    "colab_type": "code",
    "id": "7EV0jMOo0i6M",
    "outputId": "60541489-9572-4509-df1b-0ae9f3031f95"
   },
   "outputs": [
    {
     "name": "stdout",
     "output_type": "stream",
     "text": [
      "Accuracy: 0.44813333333333333\n"
     ]
    },
    {
     "name": "stderr",
     "output_type": "stream",
     "text": [
      "C:\\Users\\chels\\Anaconda3\\lib\\site-packages\\sklearn\\svm\\base.py:922: ConvergenceWarning:\n",
      "\n",
      "Liblinear failed to converge, increase the number of iterations.\n",
      "\n"
     ]
    }
   ],
   "source": [
    "from sklearn.linear_model import LogisticRegression\n",
    "model = LogisticRegression(C=0.2, dual=True)\n",
    "model = model.fit(X_train, y_train)\n",
    "preds = model.predict(X_test)\n",
    "acc = (preds==y_test).mean()\n",
    "print(f'Accuracy: {acc}')"
   ]
  },
  {
   "cell_type": "code",
   "execution_count": 75,
   "metadata": {
    "colab": {},
    "colab_type": "code",
    "id": "Gjhcvk4Y0i1r"
   },
   "outputs": [],
   "source": [
    "def plot_confusion_matrix(cm, classes, normalize=False, title='Confusion matrix', cmap=plt.cm.Blues):\n",
    "    if normalize:\n",
    "        cm = cm.astype('float') / cm.sum(axis=1)[:, np.newaxis]\n",
    "\n",
    "    plt.figure(figsize=(8, 8))\n",
    "    plt.imshow(cm, interpolation='nearest', cmap=cmap)\n",
    "    plt.title(title)\n",
    "    plt.colorbar()\n",
    "    tick_marks = np.arange(len(classes))\n",
    "    plt.xticks(tick_marks, classes, rotation=45)\n",
    "    plt.yticks(tick_marks, classes)\n",
    "\n",
    "    fmt = '.2f' if normalize else 'd'\n",
    "    thresh = cm.max() / 2.\n",
    "    for i, j in itertools.product(range(cm.shape[0]), range(cm.shape[1])):\n",
    "        plt.text(j, i, format(cm[i, j], fmt),\n",
    "                 horizontalalignment=\"center\",\n",
    "                 color=\"white\" if cm[i, j] > thresh else \"black\")\n",
    "\n",
    "    plt.tight_layout()\n",
    "    plt.ylabel('True label')\n",
    "    plt.xlabel('Predicted label')"
   ]
  },
  {
   "cell_type": "code",
   "execution_count": 76,
   "metadata": {
    "colab": {
     "base_uri": "https://localhost:8080/",
     "height": 581
    },
    "colab_type": "code",
    "id": "VuC5_su903tS",
    "outputId": "5a47b815-008a-4fd9-8dfa-b921930f5a0b"
   },
   "outputs": [
    {
     "data": {
      "image/png": "[encoded data removed]",
      "text/plain": [
       "<Figure size 576x576 with 2 Axes>"
      ]
     },
     "metadata": {},
     "output_type": "display_data"
    }
   ],
   "source": [
    "plot_confusion_matrix(confusion_matrix(y_test, preds.T), classes=['1', '2','3','4','5'], title='Confusion matrix')"
   ]
  },
  {
   "cell_type": "code",
   "execution_count": 77,
   "metadata": {
    "colab": {
     "base_uri": "https://localhost:8080/",
     "height": 221
    },
    "colab_type": "code",
    "id": "QOI_zp7l5q_p",
    "outputId": "3b291520-7fd7-4749-fd00-8d737baab9d2"
   },
   "outputs": [
    {
     "name": "stdout",
     "output_type": "stream",
     "text": [
      "              precision    recall  f1-score   support\n",
      "\n",
      "           1       0.27      0.58      0.37      3941\n",
      "           2       0.00      0.00      0.00      2498\n",
      "           3       0.34      0.01      0.01      3545\n",
      "           4       0.38      0.16      0.23      7132\n",
      "           5       0.54      0.77      0.64     12884\n",
      "\n",
      "   micro avg       0.45      0.45      0.45     30000\n",
      "   macro avg       0.31      0.30      0.25     30000\n",
      "weighted avg       0.40      0.45      0.38     30000\n",
      "\n"
     ]
    },
    {
     "name": "stderr",
     "output_type": "stream",
     "text": [
      "C:\\Users\\chels\\Anaconda3\\lib\\site-packages\\sklearn\\metrics\\classification.py:1143: UndefinedMetricWarning:\n",
      "\n",
      "Precision and F-score are ill-defined and being set to 0.0 in labels with no predicted samples.\n",
      "\n",
      "C:\\Users\\chels\\Anaconda3\\lib\\site-packages\\sklearn\\metrics\\classification.py:1143: UndefinedMetricWarning:\n",
      "\n",
      "Precision and F-score are ill-defined and being set to 0.0 in labels with no predicted samples.\n",
      "\n",
      "C:\\Users\\chels\\Anaconda3\\lib\\site-packages\\sklearn\\metrics\\classification.py:1143: UndefinedMetricWarning:\n",
      "\n",
      "Precision and F-score are ill-defined and being set to 0.0 in labels with no predicted samples.\n",
      "\n"
     ]
    }
   ],
   "source": [
    "y_true, y_pred = y_test, model.predict(X_test)\n",
    "print(classification_report(y_true, y_pred))"
   ]
  },
  {
   "cell_type": "markdown",
   "metadata": {
    "colab_type": "text",
    "id": "VYjYLX3idH5G"
   },
   "source": [
    "From above, we see that the f1-score for 1, 4 and 5 star rating improved slightly as compared to the Naive Bias Model but decreased for 2 and 3 star ratings."
   ]
  },
  {
   "cell_type": "markdown",
   "metadata": {
    "colab_type": "text",
    "id": "dyGyTlBhEJlQ"
   },
   "source": [
    "## 5. RECOMENDATION SYSTEM BASED ON USER RATING PREDICTION FOR DIFFERENT MODELS"
   ]
  },
  {
   "cell_type": "markdown",
   "metadata": {
    "colab_type": "text",
    "id": "o-DFiD4MeQHZ"
   },
   "source": [
    "Here we take into consideration only food related businesses for implementing recommendation systems in order to predict the user ratings."
   ]
  },
  {
   "cell_type": "code",
   "execution_count": 78,
   "metadata": {
    "colab": {},
    "colab_type": "code",
    "id": "57oIYk2kEHaL"
   },
   "outputs": [],
   "source": [
    "# taking only those businesses which contain 'Food' as a category \n",
    "# And then merging it with review on business_id and user dataset on user_id\n",
    "business['categories'] = business['categories'].astype(str)\n",
    "restaurant_df = business[business['categories'].str.contains('Food')==True]\n",
    "complete_df = restaurant_df.merge(review,on='business_id').merge(user,on='user_id')"
   ]
  },
  {
   "cell_type": "code",
   "execution_count": 0,
   "metadata": {
    "colab": {
     "base_uri": "https://localhost:8080/",
     "height": 338
    },
    "colab_type": "code",
    "id": "fDOjAXUfe-ZK",
    "outputId": "da48ca72-e0d3-49ee-ac65-bff9a4d39730"
   },
   "outputs": [
    {
     "data": {
      "text/html": [
       "<div>\n",
       "<style scoped>\n",
       "    .dataframe tbody tr th:only-of-type {\n",
       "        vertical-align: middle;\n",
       "    }\n",
       "\n",
       "    .dataframe tbody tr th {\n",
       "        vertical-align: top;\n",
       "    }\n",
       "\n",
       "    .dataframe thead th {\n",
       "        text-align: right;\n",
       "    }\n",
       "</style>\n",
       "<table border=\"1\" class=\"dataframe\">\n",
       "  <thead>\n",
       "    <tr style=\"text-align: right;\">\n",
       "      <th></th>\n",
       "      <th>attributes.Ambience.divey</th>\n",
       "      <th>attributes.RestaurantsDelivery</th>\n",
       "      <th>attributes.DogsAllowed</th>\n",
       "      <th>postal_code</th>\n",
       "      <th>hours.Thursday</th>\n",
       "      <th>attributes.HairSpecializesIn.coloring</th>\n",
       "      <th>attributes.BestNights.sunday</th>\n",
       "      <th>attributes.BYOB</th>\n",
       "      <th>attributes.AgesAllowed</th>\n",
       "      <th>hours.Friday</th>\n",
       "      <th>...</th>\n",
       "      <th>compliment_writer</th>\n",
       "      <th>compliment_cute</th>\n",
       "      <th>average_stars</th>\n",
       "      <th>compliment_more</th>\n",
       "      <th>friends</th>\n",
       "      <th>compliment_hot</th>\n",
       "      <th>cool_y</th>\n",
       "      <th>name_y</th>\n",
       "      <th>compliment_profile</th>\n",
       "      <th>compliment_cool</th>\n",
       "    </tr>\n",
       "  </thead>\n",
       "  <tbody>\n",
       "    <tr>\n",
       "      <th>0</th>\n",
       "      <td>NaN</td>\n",
       "      <td>False</td>\n",
       "      <td>NaN</td>\n",
       "      <td>L4C 9V4</td>\n",
       "      <td>11:30-22:00</td>\n",
       "      <td>NaN</td>\n",
       "      <td>NaN</td>\n",
       "      <td>NaN</td>\n",
       "      <td>NaN</td>\n",
       "      <td>11:30-23:00</td>\n",
       "      <td>...</td>\n",
       "      <td>0</td>\n",
       "      <td>0</td>\n",
       "      <td>3.00</td>\n",
       "      <td>0</td>\n",
       "      <td>[u'P29oqHWxMa9qMT25z2hDig', u'QZOlthTiwV2SO79f...</td>\n",
       "      <td>1</td>\n",
       "      <td>0</td>\n",
       "      <td>Kay</td>\n",
       "      <td>0</td>\n",
       "      <td>1</td>\n",
       "    </tr>\n",
       "    <tr>\n",
       "      <th>1</th>\n",
       "      <td>NaN</td>\n",
       "      <td>False</td>\n",
       "      <td>False</td>\n",
       "      <td>L3T 0A2</td>\n",
       "      <td>11:00-1:00</td>\n",
       "      <td>NaN</td>\n",
       "      <td>NaN</td>\n",
       "      <td>NaN</td>\n",
       "      <td>NaN</td>\n",
       "      <td>11:00-3:00</td>\n",
       "      <td>...</td>\n",
       "      <td>0</td>\n",
       "      <td>0</td>\n",
       "      <td>3.00</td>\n",
       "      <td>0</td>\n",
       "      <td>[u'P29oqHWxMa9qMT25z2hDig', u'QZOlthTiwV2SO79f...</td>\n",
       "      <td>1</td>\n",
       "      <td>0</td>\n",
       "      <td>Kay</td>\n",
       "      <td>0</td>\n",
       "      <td>1</td>\n",
       "    </tr>\n",
       "    <tr>\n",
       "      <th>2</th>\n",
       "      <td>NaN</td>\n",
       "      <td>False</td>\n",
       "      <td>NaN</td>\n",
       "      <td>L4C 9V4</td>\n",
       "      <td>11:30-22:00</td>\n",
       "      <td>NaN</td>\n",
       "      <td>NaN</td>\n",
       "      <td>NaN</td>\n",
       "      <td>NaN</td>\n",
       "      <td>11:30-23:00</td>\n",
       "      <td>...</td>\n",
       "      <td>9</td>\n",
       "      <td>1</td>\n",
       "      <td>3.76</td>\n",
       "      <td>2</td>\n",
       "      <td>[u'JesJ-LaNfr3pKhL7gWhDrw', u'xttaWX-oTAK3fMoT...</td>\n",
       "      <td>6</td>\n",
       "      <td>11</td>\n",
       "      <td>Andrea</td>\n",
       "      <td>0</td>\n",
       "      <td>7</td>\n",
       "    </tr>\n",
       "    <tr>\n",
       "      <th>3</th>\n",
       "      <td>NaN</td>\n",
       "      <td>False</td>\n",
       "      <td>NaN</td>\n",
       "      <td>L3T 7Y3</td>\n",
       "      <td>10:00-19:00</td>\n",
       "      <td>NaN</td>\n",
       "      <td>NaN</td>\n",
       "      <td>NaN</td>\n",
       "      <td>NaN</td>\n",
       "      <td>10:00-19:00</td>\n",
       "      <td>...</td>\n",
       "      <td>9</td>\n",
       "      <td>1</td>\n",
       "      <td>3.76</td>\n",
       "      <td>2</td>\n",
       "      <td>[u'JesJ-LaNfr3pKhL7gWhDrw', u'xttaWX-oTAK3fMoT...</td>\n",
       "      <td>6</td>\n",
       "      <td>11</td>\n",
       "      <td>Andrea</td>\n",
       "      <td>0</td>\n",
       "      <td>7</td>\n",
       "    </tr>\n",
       "    <tr>\n",
       "      <th>4</th>\n",
       "      <td>NaN</td>\n",
       "      <td>False</td>\n",
       "      <td>NaN</td>\n",
       "      <td>M5G 1M5</td>\n",
       "      <td>8:00-23:00</td>\n",
       "      <td>NaN</td>\n",
       "      <td>NaN</td>\n",
       "      <td>NaN</td>\n",
       "      <td>NaN</td>\n",
       "      <td>8:00-23:00</td>\n",
       "      <td>...</td>\n",
       "      <td>9</td>\n",
       "      <td>1</td>\n",
       "      <td>3.76</td>\n",
       "      <td>2</td>\n",
       "      <td>[u'JesJ-LaNfr3pKhL7gWhDrw', u'xttaWX-oTAK3fMoT...</td>\n",
       "      <td>6</td>\n",
       "      <td>11</td>\n",
       "      <td>Andrea</td>\n",
       "      <td>0</td>\n",
       "      <td>7</td>\n",
       "    </tr>\n",
       "  </tbody>\n",
       "</table>\n",
       "<p>5 rows × 130 columns</p>\n",
       "</div>"
      ],
      "text/plain": [
       "  attributes.Ambience.divey attributes.RestaurantsDelivery  \\\n",
       "0                       NaN                          False   \n",
       "1                       NaN                          False   \n",
       "2                       NaN                          False   \n",
       "3                       NaN                          False   \n",
       "4                       NaN                          False   \n",
       "\n",
       "  attributes.DogsAllowed postal_code hours.Thursday  \\\n",
       "0                    NaN     L4C 9V4    11:30-22:00   \n",
       "1                  False     L3T 0A2     11:00-1:00   \n",
       "2                    NaN     L4C 9V4    11:30-22:00   \n",
       "3                    NaN     L3T 7Y3    10:00-19:00   \n",
       "4                    NaN     M5G 1M5     8:00-23:00   \n",
       "\n",
       "  attributes.HairSpecializesIn.coloring attributes.BestNights.sunday  \\\n",
       "0                                   NaN                          NaN   \n",
       "1                                   NaN                          NaN   \n",
       "2                                   NaN                          NaN   \n",
       "3                                   NaN                          NaN   \n",
       "4                                   NaN                          NaN   \n",
       "\n",
       "  attributes.BYOB attributes.AgesAllowed hours.Friday       ...        \\\n",
       "0             NaN                    NaN  11:30-23:00       ...         \n",
       "1             NaN                    NaN   11:00-3:00       ...         \n",
       "2             NaN                    NaN  11:30-23:00       ...         \n",
       "3             NaN                    NaN  10:00-19:00       ...         \n",
       "4             NaN                    NaN   8:00-23:00       ...         \n",
       "\n",
       "   compliment_writer compliment_cute average_stars compliment_more  \\\n",
       "0                  0               0          3.00               0   \n",
       "1                  0               0          3.00               0   \n",
       "2                  9               1          3.76               2   \n",
       "3                  9               1          3.76               2   \n",
       "4                  9               1          3.76               2   \n",
       "\n",
       "                                             friends compliment_hot cool_y  \\\n",
       "0  [u'P29oqHWxMa9qMT25z2hDig', u'QZOlthTiwV2SO79f...              1      0   \n",
       "1  [u'P29oqHWxMa9qMT25z2hDig', u'QZOlthTiwV2SO79f...              1      0   \n",
       "2  [u'JesJ-LaNfr3pKhL7gWhDrw', u'xttaWX-oTAK3fMoT...              6     11   \n",
       "3  [u'JesJ-LaNfr3pKhL7gWhDrw', u'xttaWX-oTAK3fMoT...              6     11   \n",
       "4  [u'JesJ-LaNfr3pKhL7gWhDrw', u'xttaWX-oTAK3fMoT...              6     11   \n",
       "\n",
       "   name_y compliment_profile compliment_cool  \n",
       "0     Kay                  0               1  \n",
       "1     Kay                  0               1  \n",
       "2  Andrea                  0               7  \n",
       "3  Andrea                  0               7  \n",
       "4  Andrea                  0               7  \n",
       "\n",
       "[5 rows x 130 columns]"
      ]
     },
     "execution_count": 67,
     "metadata": {
      "tags": []
     },
     "output_type": "execute_result"
    }
   ],
   "source": [
    "# let us look into the complete_df\n",
    "complete_df.head()"
   ]
  },
  {
   "cell_type": "code",
   "execution_count": 0,
   "metadata": {
    "colab": {
     "base_uri": "https://localhost:8080/",
     "height": 364
    },
    "colab_type": "code",
    "id": "zmofebjBUaT-",
    "outputId": "4d84c6bc-a3d8-4ce5-dca6-dcd83213633b"
   },
   "outputs": [
    {
     "data": {
      "image/png": "[encoded data removed]",
      "text/plain": [
       "<matplotlib.figure.Figure at 0x7f2e82945240>"
      ]
     },
     "metadata": {
      "tags": []
     },
     "output_type": "display_data"
    }
   ],
   "source": [
    "# Distribution count of the restaurent rating !!\n",
    "fig, ax = plt.subplots(nrows=1, ncols=1, figsize=(15, 5))\n",
    "\n",
    "sns.distplot(restaurant_df.stars,kde=False,color = 'b',ax =ax,bins=20);\n",
    "ax.axvline(restaurant_df.stars.mean(), 0, 1, color='r', label='Mean')\n",
    "ax.legend();\n",
    "ax.set_ylabel('Count',size=20)\n",
    "ax.set_xlabel('Stars',size=20)\n",
    "ax.set_title('Distribution(count) of Restaurant rating',size=20);"
   ]
  },
  {
   "cell_type": "markdown",
   "metadata": {
    "colab_type": "text",
    "id": "8YImvvhYVFf7"
   },
   "source": [
    "From above we see that most of the businesses have got 4 star ratinga nd an average of over 3.5 rating."
   ]
  },
  {
   "cell_type": "code",
   "execution_count": 0,
   "metadata": {
    "colab": {
     "base_uri": "https://localhost:8080/",
     "height": 381
    },
    "colab_type": "code",
    "id": "SNtp8OjaU3Hq",
    "outputId": "8f243117-acb4-4e86-9354-aae10ec87350"
   },
   "outputs": [
    {
     "data": {
      "text/plain": [
       "Text(0.5,1,'Distribution(count) of different Reviews rating')"
      ]
     },
     "execution_count": 28,
     "metadata": {
      "tags": []
     },
     "output_type": "execute_result"
    },
    {
     "data": {
      "image/png": "[encoded data removed]",
      "text/plain": [
       "<matplotlib.figure.Figure at 0x7f2e829d14e0>"
      ]
     },
     "metadata": {
      "tags": []
     },
     "output_type": "display_data"
    }
   ],
   "source": [
    "# Distribution count of review ratings !!\n",
    "#review just for business which are restautrant\n",
    "review_df_filter_df = review.merge(restaurant_df,how='inner',on='business_id')\n",
    "\n",
    "fig, ax = plt.subplots(nrows=1, ncols=1, figsize=(15, 5))\n",
    "sns.distplot(review_df_filter_df.stars_x,kde=False,color = 'b',ax =ax,bins=20);\n",
    "ax.axvline(review_df_filter_df.stars_x.mean(), 0, 1, color='r', label='Mean')\n",
    "ax.legend();\n",
    "ax.set_ylabel('Count',size=20)\n",
    "ax.set_xlabel('Stars',size=20)\n",
    "ax.set_title('Distribution(count) of different Reviews rating',size=20)"
   ]
  },
  {
   "cell_type": "markdown",
   "metadata": {
    "colab_type": "text",
    "id": "2WrWRdfSVPSE"
   },
   "source": [
    "From above  we see that most of the reviews have got 5 star rating and and average of about 3.8 rating."
   ]
  },
  {
   "cell_type": "code",
   "execution_count": 0,
   "metadata": {
    "colab": {
     "base_uri": "https://localhost:8080/",
     "height": 381
    },
    "colab_type": "code",
    "id": "tkRS2HYAVZDS",
    "outputId": "f371e740-56a5-4371-f3f4-034f3e8629d1"
   },
   "outputs": [
    {
     "data": {
      "text/plain": [
       "Text(0.5,1,'Distribution(count) of User given rating')"
      ]
     },
     "execution_count": 29,
     "metadata": {
      "tags": []
     },
     "output_type": "execute_result"
    },
    {
     "data": {
      "image/png": "[encoded data removed]",
      "text/plain": [
       "<matplotlib.figure.Figure at 0x7f2e827d5240>"
      ]
     },
     "metadata": {
      "tags": []
     },
     "output_type": "display_data"
    }
   ],
   "source": [
    "# Distribution count of user ratings just for the business which are restaurent !!\n",
    "user_df_filter_df = complete_df.groupby(['user_id'],as_index=False).mean()\n",
    "\n",
    "fig, ax = plt.subplots(nrows=1, ncols=1, figsize=(15, 5))\n",
    "sns.distplot(user_df_filter_df.average_stars,kde=False,color = 'b',ax =ax,bins=20);\n",
    "ax.axvline(user_df_filter_df.average_stars.mean(), 0, 1, color='r', label='Mean')\n",
    "ax.legend();\n",
    "ax.set_ylabel('Count',size=20)\n",
    "ax.set_xlabel('Stars',size=20)\n",
    "ax.set_title('Distribution(count) of User given rating',size=20)"
   ]
  },
  {
   "cell_type": "markdown",
   "metadata": {
    "colab_type": "text",
    "id": "HzCMmdCHVyIV"
   },
   "source": [
    "From above we see that the average user ratings for a restaurent is around 3.7"
   ]
  },
  {
   "cell_type": "markdown",
   "metadata": {
    "colab_type": "text",
    "id": "OdRzRtbYZQ4M"
   },
   "source": [
    "#### DATA SELECTION FOR USER RATING PREDICTION"
   ]
  },
  {
   "cell_type": "code",
   "execution_count": 0,
   "metadata": {
    "colab": {},
    "colab_type": "code",
    "id": "sE2qglVREHTe"
   },
   "outputs": [],
   "source": [
    "# taking only required parameters for baselienonly model where we need to predict the user rating for business\n",
    "baseline_df = complete_df[['user_id','business_id','stars_y']]"
   ]
  },
  {
   "cell_type": "code",
   "execution_count": 0,
   "metadata": {
    "colab": {
     "base_uri": "https://localhost:8080/",
     "height": 204
    },
    "colab_type": "code",
    "id": "esqnCu3yfDHC",
    "outputId": "59a1521c-59ff-4fd8-dadf-6f3284f9d4b9"
   },
   "outputs": [
    {
     "data": {
      "text/html": [
       "<div>\n",
       "<style scoped>\n",
       "    .dataframe tbody tr th:only-of-type {\n",
       "        vertical-align: middle;\n",
       "    }\n",
       "\n",
       "    .dataframe tbody tr th {\n",
       "        vertical-align: top;\n",
       "    }\n",
       "\n",
       "    .dataframe thead th {\n",
       "        text-align: right;\n",
       "    }\n",
       "</style>\n",
       "<table border=\"1\" class=\"dataframe\">\n",
       "  <thead>\n",
       "    <tr style=\"text-align: right;\">\n",
       "      <th></th>\n",
       "      <th>user_id</th>\n",
       "      <th>business_id</th>\n",
       "      <th>stars_y</th>\n",
       "    </tr>\n",
       "  </thead>\n",
       "  <tbody>\n",
       "    <tr>\n",
       "      <th>0</th>\n",
       "      <td>xDRfjhGLulshRgsdzNpPXw</td>\n",
       "      <td>Gu-xs3NIQTj3Mj2xYoN2aw</td>\n",
       "      <td>3</td>\n",
       "    </tr>\n",
       "    <tr>\n",
       "      <th>1</th>\n",
       "      <td>xDRfjhGLulshRgsdzNpPXw</td>\n",
       "      <td>NF6di6YcQxN0rDAleE7SyQ</td>\n",
       "      <td>3</td>\n",
       "    </tr>\n",
       "    <tr>\n",
       "      <th>2</th>\n",
       "      <td>AVVEFYHmFUa9oUhy2DIQFA</td>\n",
       "      <td>Gu-xs3NIQTj3Mj2xYoN2aw</td>\n",
       "      <td>3</td>\n",
       "    </tr>\n",
       "    <tr>\n",
       "      <th>3</th>\n",
       "      <td>AVVEFYHmFUa9oUhy2DIQFA</td>\n",
       "      <td>2_8_ipfxCRtpXesLdBCqig</td>\n",
       "      <td>4</td>\n",
       "    </tr>\n",
       "    <tr>\n",
       "      <th>4</th>\n",
       "      <td>AVVEFYHmFUa9oUhy2DIQFA</td>\n",
       "      <td>RwRNR4z3kY-4OsFqigY5sw</td>\n",
       "      <td>4</td>\n",
       "    </tr>\n",
       "  </tbody>\n",
       "</table>\n",
       "</div>"
      ],
      "text/plain": [
       "                  user_id             business_id  stars_y\n",
       "0  xDRfjhGLulshRgsdzNpPXw  Gu-xs3NIQTj3Mj2xYoN2aw        3\n",
       "1  xDRfjhGLulshRgsdzNpPXw  NF6di6YcQxN0rDAleE7SyQ        3\n",
       "2  AVVEFYHmFUa9oUhy2DIQFA  Gu-xs3NIQTj3Mj2xYoN2aw        3\n",
       "3  AVVEFYHmFUa9oUhy2DIQFA  2_8_ipfxCRtpXesLdBCqig        4\n",
       "4  AVVEFYHmFUa9oUhy2DIQFA  RwRNR4z3kY-4OsFqigY5sw        4"
      ]
     },
     "execution_count": 17,
     "metadata": {
      "tags": []
     },
     "output_type": "execute_result"
    }
   ],
   "source": [
    "# let us look at the baseline_df\n",
    "baseline_df.head()"
   ]
  },
  {
   "cell_type": "code",
   "execution_count": 0,
   "metadata": {
    "colab": {},
    "colab_type": "code",
    "id": "qVvo4NY0EHMT"
   },
   "outputs": [],
   "source": [
    "# creating a reader object to parse the dataframe which has rating_scale of 1-5\n",
    "reader = Reader(rating_scale=(1, 5))\n",
    "# Load the dataset and split it into 3 folds for cross-validation\n",
    "data = Dataset.load_from_df(baseline_df,reader)\n",
    "data.split(n_folds=3)"
   ]
  },
  {
   "cell_type": "markdown",
   "metadata": {
    "colab_type": "text",
    "id": "Ed4emQ4meicM"
   },
   "source": [
    "### 5.1 BASELINEONLY MODELLING FOR USER RATING PREDICTION"
   ]
  },
  {
   "cell_type": "markdown",
   "metadata": {
    "colab_type": "text",
    "id": "KWSyBN0seoRe"
   },
   "source": [
    "BaselineOnly is an algorithm predicting the baseline estimate for given user and item Ym = μ + su + sm where the unknown parameters su and sm indicate the deviations, or biases, of user u and item m respectively from some intercept parameter. It is one of the built-in algorithm which focus on user rating prediction for a particular business."
   ]
  },
  {
   "cell_type": "code",
   "execution_count": 0,
   "metadata": {
    "colab": {
     "base_uri": "https://localhost:8080/",
     "height": 459
    },
    "colab_type": "code",
    "id": "DRQk6PtGEHFa",
    "outputId": "b867db12-7d1a-4f15-ec52-7e050b76c09e"
   },
   "outputs": [
    {
     "name": "stdout",
     "output_type": "stream",
     "text": [
      "Evaluating RMSE, MAE of algorithm BaselineOnly.\n",
      "\n",
      "------------\n",
      "Fold 1\n",
      "Estimating biases using als...\n",
      "RMSE: 1.3049\n",
      "MAE:  1.0607\n",
      "------------\n",
      "Fold 2\n",
      "Estimating biases using als...\n",
      "RMSE: 1.3075\n",
      "MAE:  1.0632\n",
      "------------\n",
      "Fold 3\n",
      "Estimating biases using als...\n",
      "RMSE: 1.2979\n",
      "MAE:  1.0607\n",
      "------------\n",
      "------------\n",
      "Mean RMSE: 1.3035\n",
      "Mean MAE : 1.0616\n",
      "------------\n",
      "------------\n",
      "        Fold 1  Fold 2  Fold 3  Mean    \n",
      "RMSE    1.3049  1.3075  1.2979  1.3035  \n",
      "MAE     1.0607  1.0632  1.0607  1.0616  \n"
     ]
    }
   ],
   "source": [
    "# Baselineonly model\n",
    "algo = BaselineOnly()\n",
    "# Performance evaluation on the basis of RMSE and MAE metric where we pass the object of BaselineOnly model\n",
    "perf_baseline = evaluate(algo, data, measures=['RMSE', 'MAE'])\n",
    "print_perf(perf_baseline)"
   ]
  },
  {
   "cell_type": "code",
   "execution_count": 0,
   "metadata": {
    "colab": {
     "base_uri": "https://localhost:8080/",
     "height": 54
    },
    "colab_type": "code",
    "id": "_zNAUThJEG-b",
    "outputId": "958fa60b-84dd-452c-c77f-e27ca5510ccd"
   },
   "outputs": [
    {
     "name": "stdout",
     "output_type": "stream",
     "text": [
      "user: AVVEFYHmFUa9oUhy2DIQFA item: Gu-xs3NIQTj3Mj2xYoN2aw r_ui = 3.00   est = 3.63   {'was_impossible': False}\n"
     ]
    }
   ],
   "source": [
    "# predict the user ratings for business id : Gu-xs3NIQTj3Mj2xYoN2aw\n",
    "pred = algo.predict(str('AVVEFYHmFUa9oUhy2DIQFA'),str('Gu-xs3NIQTj3Mj2xYoN2aw'),r_ui=3,verbose=True)"
   ]
  },
  {
   "cell_type": "markdown",
   "metadata": {
    "colab_type": "text",
    "id": "v5Rnwg1xj1yU"
   },
   "source": [
    "Using this algorithm, we thus trained our model with 3 fold cross validation in order to predict the rating of the user for a particular business and evaluated the performance by calculating the RMSE and MAE for each of the folds and averaging it out.\n",
    "\n",
    "From above, we get the mean RMSE as 1.30 and mean MAE as 1.06 which is not that bad score. This basically evaluates the distance between the actual and the predicted rating in order to give us an estimate of our prediction whether it is good or bad.\n",
    "\n",
    "As from the example above, we can see that the actual rating and predicted rating were quite similar. Let us now try it out on other user and business and look at the predicted rating."
   ]
  },
  {
   "cell_type": "code",
   "execution_count": 0,
   "metadata": {
    "colab": {
     "base_uri": "https://localhost:8080/",
     "height": 54
    },
    "colab_type": "code",
    "id": "ZJCVhrvZl5qq",
    "outputId": "e519391a-de9d-4133-d779-40781f8de049"
   },
   "outputs": [
    {
     "name": "stdout",
     "output_type": "stream",
     "text": [
      "user: AVVEFYHmFUa9oUhy2DIQFA item: RwRNR4z3kY-4OsFqigY5sw r_ui = 4.00   est = 3.80   {'was_impossible': False}\n"
     ]
    }
   ],
   "source": [
    "# predict the user ratings for business id : RwRNR4z3kY-4OsFqigY5sw\n",
    "pred = algo.predict(str('AVVEFYHmFUa9oUhy2DIQFA'),str('RwRNR4z3kY-4OsFqigY5sw'),r_ui=4,verbose=True)"
   ]
  },
  {
   "cell_type": "markdown",
   "metadata": {
    "colab_type": "text",
    "id": "MqXuTgh6mPDr"
   },
   "source": [
    "Here again, we see that theactual rating was 4 by a given user and the predicted rating is 3.8 which means our model worked pretty well in order to predict the user ratings."
   ]
  },
  {
   "cell_type": "markdown",
   "metadata": {
    "colab_type": "text",
    "id": "dSLNa6axgjZ6"
   },
   "source": [
    "### 5.2.1 KNNBaseline MODEL FOR USER RATING PREDICTION USING PEARSON_BASELINE SIMILARITY"
   ]
  },
  {
   "cell_type": "markdown",
   "metadata": {
    "colab_type": "text",
    "id": "BJtFllF9g-ue"
   },
   "source": [
    "This algorithm is directly derived from the basic nearest neighbors approach. A basic collaborative filtering algorithm taking into account a baseline rating."
   ]
  },
  {
   "cell_type": "code",
   "execution_count": 0,
   "metadata": {
    "colab": {
     "base_uri": "https://localhost:8080/",
     "height": 561
    },
    "colab_type": "code",
    "id": "sZWNz-gsgrpa",
    "outputId": "086e9432-47f7-47f4-9cf1-44f1da7d6351"
   },
   "outputs": [
    {
     "name": "stdout",
     "output_type": "stream",
     "text": [
      "Evaluating RMSE, MAE of algorithm KNNBaseline.\n",
      "\n",
      "------------\n",
      "Fold 1\n",
      "Estimating biases using als...\n",
      "Computing the pearson_baseline similarity matrix...\n",
      "Done computing similarity matrix.\n",
      "RMSE: 1.3062\n",
      "MAE:  1.0617\n",
      "------------\n",
      "Fold 2\n",
      "Estimating biases using als...\n",
      "Computing the pearson_baseline similarity matrix...\n",
      "Done computing similarity matrix.\n",
      "RMSE: 1.3105\n",
      "MAE:  1.0643\n",
      "------------\n",
      "Fold 3\n",
      "Estimating biases using als...\n",
      "Computing the pearson_baseline similarity matrix...\n",
      "Done computing similarity matrix.\n",
      "RMSE: 1.3017\n",
      "MAE:  1.0641\n",
      "------------\n",
      "------------\n",
      "Mean RMSE: 1.3061\n",
      "Mean MAE : 1.0633\n",
      "------------\n",
      "------------\n",
      "        Fold 1  Fold 2  Fold 3  Mean    \n",
      "RMSE    1.3062  1.3105  1.3017  1.3061  \n",
      "MAE     1.0617  1.0643  1.0641  1.0633  \n"
     ]
    }
   ],
   "source": [
    "# KNNBaseline model with pearson_baseline similarity metric\n",
    "sim_options = {'name': 'pearson_baseline',\n",
    "               'shrinkage': 0  # no shrinkage\n",
    "               }\n",
    "algo = KNNBaseline(k=40, verbose= True, sim_options = sim_options) #default values passed to KNNBaseline\n",
    "\n",
    "# Performance evaluation by calculating RMSE and MAE\n",
    "perf_knn_baseline = evaluate(algo, data, measures=['RMSE', 'MAE'])\n",
    "print_perf(perf_knn_baseline)"
   ]
  },
  {
   "cell_type": "code",
   "execution_count": 0,
   "metadata": {
    "colab": {
     "base_uri": "https://localhost:8080/",
     "height": 54
    },
    "colab_type": "code",
    "id": "TjgJ8RpGgrkM",
    "outputId": "17665962-e253-43d4-cfa9-928c4be927ff"
   },
   "outputs": [
    {
     "name": "stdout",
     "output_type": "stream",
     "text": [
      "user: AVVEFYHmFUa9oUhy2DIQFA item: Gu-xs3NIQTj3Mj2xYoN2aw r_ui = 3.00   est = 3.00   {'actual_k': 1, 'was_impossible': False}\n"
     ]
    }
   ],
   "source": [
    "# predict the user ratings for business id : Gu-xs3NIQTj3Mj2xYoN2aw\n",
    "knn_pred = algo.predict(str('AVVEFYHmFUa9oUhy2DIQFA'),str('Gu-xs3NIQTj3Mj2xYoN2aw'),r_ui=3,verbose=True)"
   ]
  },
  {
   "cell_type": "markdown",
   "metadata": {
    "colab_type": "text",
    "id": "kIGRPX8UmmO-"
   },
   "source": [
    "Using this algorithm, we thus trained our model with 3 fold cross validation in order to predict the rating of the user for a particular business and evaluated the performance by calculating the RMSE and MAE for each of the folds and averaging it out.\n",
    "\n",
    "From above, we get the mean RMSE as 1.30 and mean MAE as 1.06 which is not that bad score. This basically evaluates the distance between the actual and the predicted rating in order to give us an estimate of our prediction whether it is good or bad.\n",
    "\n",
    "As from the example above, we can see that the actual rating and predicted rating were exactly similar which means our models did great!! Let us now try it out on other user and business and look at the predicted rating."
   ]
  },
  {
   "cell_type": "code",
   "execution_count": 0,
   "metadata": {
    "colab": {
     "base_uri": "https://localhost:8080/",
     "height": 54
    },
    "colab_type": "code",
    "id": "ChoRf6jEgrf5",
    "outputId": "cc6c0e1a-1489-4d70-ea10-0a3d97200beb"
   },
   "outputs": [
    {
     "name": "stdout",
     "output_type": "stream",
     "text": [
      "user: AVVEFYHmFUa9oUhy2DIQFA item: RwRNR4z3kY-4OsFqigY5sw r_ui = 4.00   est = 3.96   {'actual_k': 2, 'was_impossible': False}\n"
     ]
    }
   ],
   "source": [
    "# predict the user ratings for business id : RwRNR4z3kY-4OsFqigY5sw\n",
    "knn_pred_2 = algo.predict(str('AVVEFYHmFUa9oUhy2DIQFA'),str('RwRNR4z3kY-4OsFqigY5sw'),r_ui=4,verbose=True)"
   ]
  },
  {
   "cell_type": "markdown",
   "metadata": {
    "colab_type": "text",
    "id": "1_6e4X05m99A"
   },
   "source": [
    "From above example, we see that the actual and predicted rating are quite similar although not exactly the same. Thus, this is another technique in order to predict the suer ratings for a business. Let us now try to predict the ratings using cosine similarity score and find out the difference if any."
   ]
  },
  {
   "cell_type": "markdown",
   "metadata": {
    "colab_type": "text",
    "id": "R8JE1XLbnZCk"
   },
   "source": [
    "### 5.2.2 KNNBaseline MODEL FOR USER RATING PREDICTION USING COSINE SIMILARITY"
   ]
  },
  {
   "cell_type": "code",
   "execution_count": 0,
   "metadata": {
    "colab": {
     "base_uri": "https://localhost:8080/",
     "height": 561
    },
    "colab_type": "code",
    "id": "VfjzYQ3dgrb5",
    "outputId": "732e6bfa-9c93-41a1-d1d0-c754af6118d5"
   },
   "outputs": [
    {
     "name": "stdout",
     "output_type": "stream",
     "text": [
      "Evaluating RMSE, MAE of algorithm KNNBaseline.\n",
      "\n",
      "------------\n",
      "Fold 1\n",
      "Estimating biases using als...\n",
      "Computing the cosine similarity matrix...\n",
      "Done computing similarity matrix.\n",
      "RMSE: 1.3253\n",
      "MAE:  1.0739\n",
      "------------\n",
      "Fold 2\n",
      "Estimating biases using als...\n",
      "Computing the cosine similarity matrix...\n",
      "Done computing similarity matrix.\n",
      "RMSE: 1.3295\n",
      "MAE:  1.0788\n",
      "------------\n",
      "Fold 3\n",
      "Estimating biases using als...\n",
      "Computing the cosine similarity matrix...\n",
      "Done computing similarity matrix.\n",
      "RMSE: 1.3201\n",
      "MAE:  1.0743\n",
      "------------\n",
      "------------\n",
      "Mean RMSE: 1.3250\n",
      "Mean MAE : 1.0757\n",
      "------------\n",
      "------------\n",
      "        Fold 1  Fold 2  Fold 3  Mean    \n",
      "RMSE    1.3253  1.3295  1.3201  1.3250  \n",
      "MAE     1.0739  1.0788  1.0743  1.0757  \n"
     ]
    }
   ],
   "source": [
    "# KNNBaseline model with cosine similarity metric\n",
    "sim_options = {'name': 'cosine',\n",
    "               'user_based': True  # compute  similarities between users\n",
    "              }\n",
    "algo = KNNBaseline(k=40, verbose= True, sim_options = sim_options)\n",
    "\n",
    "# Performance\n",
    "perf_knn_baseline = evaluate(algo, data, measures=['RMSE', 'MAE'])\n",
    "print_perf(perf_knn_baseline)"
   ]
  },
  {
   "cell_type": "code",
   "execution_count": 0,
   "metadata": {
    "colab": {
     "base_uri": "https://localhost:8080/",
     "height": 54
    },
    "colab_type": "code",
    "id": "jxlpsGIygrWa",
    "outputId": "3b3a0150-5b07-42d7-96b3-c6d1fc0db9b2"
   },
   "outputs": [
    {
     "name": "stdout",
     "output_type": "stream",
     "text": [
      "user: AVVEFYHmFUa9oUhy2DIQFA item: Gu-xs3NIQTj3Mj2xYoN2aw r_ui = 3.00   est = 3.00   {'actual_k': 1, 'was_impossible': False}\n"
     ]
    }
   ],
   "source": [
    "# predict the user ratings for business id : Gu-xs3NIQTj3Mj2xYoN2aw\n",
    "knn_cosine_pred = algo.predict(str('AVVEFYHmFUa9oUhy2DIQFA'),str('Gu-xs3NIQTj3Mj2xYoN2aw'),r_ui=3,verbose=True)"
   ]
  },
  {
   "cell_type": "code",
   "execution_count": 0,
   "metadata": {
    "colab": {
     "base_uri": "https://localhost:8080/",
     "height": 54
    },
    "colab_type": "code",
    "id": "3gZl4LDEoA1d",
    "outputId": "e11b0df5-e1a5-498c-c54b-85ce79a61861"
   },
   "outputs": [
    {
     "name": "stdout",
     "output_type": "stream",
     "text": [
      "user: AVVEFYHmFUa9oUhy2DIQFA item: RwRNR4z3kY-4OsFqigY5sw r_ui = 4.00   est = 3.41   {'actual_k': 14, 'was_impossible': False}\n"
     ]
    }
   ],
   "source": [
    "# predict the user ratings for business id : RwRNR4z3kY-4OsFqigY5sw\n",
    "knn_cosine_pred2 = algo.predict(str('AVVEFYHmFUa9oUhy2DIQFA'),str('RwRNR4z3kY-4OsFqigY5sw'),r_ui=4,verbose=True)"
   ]
  },
  {
   "cell_type": "markdown",
   "metadata": {
    "colab_type": "text",
    "id": "WkH0igPNomab"
   },
   "source": [
    "Here, we have trained our model using KNNBaseline and computing the cosine similarities between the users in order to predict the user ratings. Predictions have been made again on both same users to evaluate its performance where we have got the mean RMSE =1.32 and mean MAE = 1.07. Let us now try to predict the ratings based on the items.\n",
    "\n",
    "**Observation :**\n",
    "\n",
    "KNNBaseline model worked better to predict the user ratings while computing the cosine similarity in contrast to that while computing the pearson_baseline metric as seen from the average RSME and MAE score"
   ]
  },
  {
   "cell_type": "code",
   "execution_count": 0,
   "metadata": {
    "colab": {
     "base_uri": "https://localhost:8080/",
     "height": 561
    },
    "colab_type": "code",
    "id": "qhB7vTL1odgo",
    "outputId": "6cc072a5-76e8-41d0-f2dd-fa0b5e02f363"
   },
   "outputs": [
    {
     "name": "stdout",
     "output_type": "stream",
     "text": [
      "Evaluating RMSE, MAE of algorithm KNNBaseline.\n",
      "\n",
      "------------\n",
      "Fold 1\n",
      "Estimating biases using als...\n",
      "Computing the cosine similarity matrix...\n",
      "Done computing similarity matrix.\n",
      "RMSE: 1.3199\n",
      "MAE:  1.0706\n",
      "------------\n",
      "Fold 2\n",
      "Estimating biases using als...\n",
      "Computing the cosine similarity matrix...\n",
      "Done computing similarity matrix.\n",
      "RMSE: 1.3265\n",
      "MAE:  1.0755\n",
      "------------\n",
      "Fold 3\n",
      "Estimating biases using als...\n",
      "Computing the cosine similarity matrix...\n",
      "Done computing similarity matrix.\n",
      "RMSE: 1.3100\n",
      "MAE:  1.0669\n",
      "------------\n",
      "------------\n",
      "Mean RMSE: 1.3188\n",
      "Mean MAE : 1.0710\n",
      "------------\n",
      "------------\n",
      "        Fold 1  Fold 2  Fold 3  Mean    \n",
      "RMSE    1.3199  1.3265  1.3100  1.3188  \n",
      "MAE     1.0706  1.0755  1.0669  1.0710  \n"
     ]
    }
   ],
   "source": [
    "# KNNBaseline model with cosine similarity metric\n",
    "sim_options = {'name': 'cosine',\n",
    "               'user_based': False  # compute  similarities between Items\n",
    "              }\n",
    "algo = KNNBaseline(k=40, verbose= True, sim_options = sim_options)\n",
    "\n",
    "# Performance\n",
    "perf_knn_baseline = evaluate(algo, data, measures=['RMSE', 'MAE'])\n",
    "print_perf(perf_knn_baseline)"
   ]
  },
  {
   "cell_type": "code",
   "execution_count": 0,
   "metadata": {
    "colab": {
     "base_uri": "https://localhost:8080/",
     "height": 54
    },
    "colab_type": "code",
    "id": "NJMvOwGfpgto",
    "outputId": "e22634a0-338a-4fb3-9b79-ade371bc381e"
   },
   "outputs": [
    {
     "name": "stdout",
     "output_type": "stream",
     "text": [
      "user: AVVEFYHmFUa9oUhy2DIQFA item: Gu-xs3NIQTj3Mj2xYoN2aw r_ui = 3.00   est = 3.63   {'actual_k': 28, 'was_impossible': False}\n"
     ]
    }
   ],
   "source": [
    "# predict the user ratings for business id : Gu-xs3NIQTj3Mj2xYoN2aw\n",
    "knn_cosine_pred3 = algo.predict(str('AVVEFYHmFUa9oUhy2DIQFA'),str('Gu-xs3NIQTj3Mj2xYoN2aw'),r_ui=3,verbose=True)"
   ]
  },
  {
   "cell_type": "code",
   "execution_count": 0,
   "metadata": {
    "colab": {
     "base_uri": "https://localhost:8080/",
     "height": 54
    },
    "colab_type": "code",
    "id": "AFSS11sVpppR",
    "outputId": "c3da326c-17de-4fb4-c7d0-d12c434938d5"
   },
   "outputs": [
    {
     "name": "stdout",
     "output_type": "stream",
     "text": [
      "user: AVVEFYHmFUa9oUhy2DIQFA item: RwRNR4z3kY-4OsFqigY5sw r_ui = 4.00   est = 3.52   {'actual_k': 28, 'was_impossible': False}\n"
     ]
    }
   ],
   "source": [
    "# predict the user ratings for business id : RwRNR4z3kY-4OsFqigY5sw\n",
    "knn_cosine_pred2 = algo.predict(str('AVVEFYHmFUa9oUhy2DIQFA'),str('RwRNR4z3kY-4OsFqigY5sw'),r_ui=4,verbose=True)"
   ]
  },
  {
   "cell_type": "markdown",
   "metadata": {
    "colab_type": "text",
    "id": "pmMf8EStpymC"
   },
   "source": [
    "As we can see from above, although the RMSE and MAE remains the same as done with user based modelling, but the predicted ratings differ slightly more than the actual rating. Hence, this modelling does not give much better predictions as compared to user based KNNBaseline modelling."
   ]
  },
  {
   "cell_type": "markdown",
   "metadata": {
    "colab_type": "text",
    "id": "qLVU5MwB1sjq"
   },
   "source": [
    "### 5.3 COLLABORATIVE FILTERING"
   ]
  },
  {
   "cell_type": "markdown",
   "metadata": {
    "colab_type": "text",
    "id": "nRCIch3I1wK7"
   },
   "source": [
    "In this section, we will use a technique called Collaborative Filtering to make recommendations to Yelp users. Collaborative Filtering is based on the idea that users similar to me can be used to predict how much I will like a particular restaurent those users have experienced but I have not.\n",
    "\n",
    "We are using the Surprise library that has extremely powerful algorithms like Singular Value Decomposition (SVD) and SVDpp to minimise RMSE (Root Mean Square Error) and give great recommendations."
   ]
  },
  {
   "cell_type": "markdown",
   "metadata": {
    "colab_type": "text",
    "id": "RIRb2GqhrXlt"
   },
   "source": [
    "### 5.3.1 SINGULAR-VALUE DECOMPOSITION (SVD)"
   ]
  },
  {
   "cell_type": "markdown",
   "metadata": {
    "colab_type": "text",
    "id": "8E3AYQ6nWZIk"
   },
   "source": [
    "The two primary areas of collaborative filtering are the neighborhood methods and latent factor models.\n",
    "\n",
    "Neighborhood methods are centered on computing the relationships between items or, alternatively, between users. The item oriented approach evaluates a user’s preference for an item based on ratings of “neighboring” items by the same user. A product’s neighbors are other products that tend to get similar ratings when rated by the same user."
   ]
  },
  {
   "cell_type": "code",
   "execution_count": 0,
   "metadata": {
    "colab": {
     "base_uri": "https://localhost:8080/",
     "height": 51
    },
    "colab_type": "code",
    "id": "2FskAS5vpuQ6",
    "outputId": "a4f6a6f8-8697-4fb5-9731-cb044ed458f0"
   },
   "outputs": [
    {
     "name": "stdout",
     "output_type": "stream",
     "text": [
      "Number of Unique Users:  5855\n",
      "Number of Restaurant:  5694\n"
     ]
    }
   ],
   "source": [
    "# Let us check the number of unique users and restaurants\n",
    "n_users = complete_df['user_id'].nunique()\n",
    "n_restaurants = complete_df['business_id'].nunique()\n",
    "\n",
    "print('Number of Unique Users: ', n_users)\n",
    "print('Number of Restaurant: ',n_restaurants)"
   ]
  },
  {
   "cell_type": "code",
   "execution_count": 0,
   "metadata": {
    "colab": {},
    "colab_type": "code",
    "id": "ggnM-UuCWmaG"
   },
   "outputs": [],
   "source": [
    "# Creating the nominal variable for  user_id\n",
    "unique_user_id = pd.DataFrame(complete_df['user_id'].unique(),columns =['user_id']).reset_index()\n",
    "unique_user_id['new_user_id'] = unique_user_id['index']\n",
    "del unique_user_id['index']\n",
    "\n",
    "# Creating the nominal variable for  restaurant_id\n",
    "unique_business_id = pd.DataFrame(complete_df['business_id'].unique(),columns =['business_id']).reset_index()\n",
    "unique_business_id['new_business_id'] = unique_business_id['index']\n",
    "del unique_business_id['index']"
   ]
  },
  {
   "cell_type": "code",
   "execution_count": 0,
   "metadata": {
    "colab": {},
    "colab_type": "code",
    "id": "8K4AgeY0XJVe"
   },
   "outputs": [],
   "source": [
    "# Let us now join the nominal user_id and restaurant_id main dataframe with all the data\n",
    "new_complete_df = complete_df.merge(unique_user_id,on='user_id',how ='left')\n",
    "new_complete_df = new_complete_df.merge(unique_business_id,on='business_id',how ='left')"
   ]
  },
  {
   "cell_type": "code",
   "execution_count": 0,
   "metadata": {
    "colab": {
     "base_uri": "https://localhost:8080/",
     "height": 170
    },
    "colab_type": "code",
    "id": "amfJedvVXJQ4",
    "outputId": "860d436b-f918-44b7-afca-0e3040790204"
   },
   "outputs": [
    {
     "data": {
      "text/plain": [
       "Index(['attributes.Ambience.divey', 'attributes.RestaurantsDelivery',\n",
       "       'attributes.DogsAllowed', 'postal_code', 'hours.Thursday',\n",
       "       'attributes.HairSpecializesIn.coloring', 'attributes.BestNights.sunday',\n",
       "       'attributes.BYOB', 'attributes.AgesAllowed', 'hours.Friday',\n",
       "       ...\n",
       "       'average_stars', 'compliment_more', 'friends', 'compliment_hot',\n",
       "       'cool_y', 'name_y', 'compliment_profile', 'compliment_cool',\n",
       "       'new_user_id', 'new_business_id'],\n",
       "      dtype='object', length=132)"
      ]
     },
     "execution_count": 44,
     "metadata": {
      "tags": []
     },
     "output_type": "execute_result"
    }
   ],
   "source": [
    "# Let us peek into the new_complete_df\n",
    "new_complete_df.columns"
   ]
  },
  {
   "cell_type": "code",
   "execution_count": 0,
   "metadata": {
    "colab": {},
    "colab_type": "code",
    "id": "gUeIkVDqfbZ7"
   },
   "outputs": [],
   "source": [
    "df = new_complete_df[['new_user_id','new_business_id','stars_y']]"
   ]
  },
  {
   "cell_type": "code",
   "execution_count": 0,
   "metadata": {
    "colab": {
     "base_uri": "https://localhost:8080/",
     "height": 359
    },
    "colab_type": "code",
    "id": "C2llbO1ogdlU",
    "outputId": "af5d4db9-22c6-4c4f-823b-e16d09190891"
   },
   "outputs": [
    {
     "data": {
      "text/html": [
       "<div>\n",
       "<style scoped>\n",
       "    .dataframe tbody tr th:only-of-type {\n",
       "        vertical-align: middle;\n",
       "    }\n",
       "\n",
       "    .dataframe tbody tr th {\n",
       "        vertical-align: top;\n",
       "    }\n",
       "\n",
       "    .dataframe thead th {\n",
       "        text-align: right;\n",
       "    }\n",
       "</style>\n",
       "<table border=\"1\" class=\"dataframe\">\n",
       "  <thead>\n",
       "    <tr style=\"text-align: right;\">\n",
       "      <th></th>\n",
       "      <th>new_user_id</th>\n",
       "      <th>new_business_id</th>\n",
       "      <th>stars_y</th>\n",
       "    </tr>\n",
       "  </thead>\n",
       "  <tbody>\n",
       "    <tr>\n",
       "      <th>0</th>\n",
       "      <td>0</td>\n",
       "      <td>0</td>\n",
       "      <td>3</td>\n",
       "    </tr>\n",
       "    <tr>\n",
       "      <th>1</th>\n",
       "      <td>0</td>\n",
       "      <td>1</td>\n",
       "      <td>3</td>\n",
       "    </tr>\n",
       "    <tr>\n",
       "      <th>2</th>\n",
       "      <td>1</td>\n",
       "      <td>0</td>\n",
       "      <td>3</td>\n",
       "    </tr>\n",
       "    <tr>\n",
       "      <th>3</th>\n",
       "      <td>1</td>\n",
       "      <td>2</td>\n",
       "      <td>4</td>\n",
       "    </tr>\n",
       "    <tr>\n",
       "      <th>4</th>\n",
       "      <td>1</td>\n",
       "      <td>3</td>\n",
       "      <td>4</td>\n",
       "    </tr>\n",
       "    <tr>\n",
       "      <th>5</th>\n",
       "      <td>1</td>\n",
       "      <td>4</td>\n",
       "      <td>4</td>\n",
       "    </tr>\n",
       "    <tr>\n",
       "      <th>6</th>\n",
       "      <td>1</td>\n",
       "      <td>5</td>\n",
       "      <td>4</td>\n",
       "    </tr>\n",
       "    <tr>\n",
       "      <th>7</th>\n",
       "      <td>1</td>\n",
       "      <td>6</td>\n",
       "      <td>4</td>\n",
       "    </tr>\n",
       "    <tr>\n",
       "      <th>8</th>\n",
       "      <td>1</td>\n",
       "      <td>7</td>\n",
       "      <td>3</td>\n",
       "    </tr>\n",
       "    <tr>\n",
       "      <th>9</th>\n",
       "      <td>1</td>\n",
       "      <td>8</td>\n",
       "      <td>2</td>\n",
       "    </tr>\n",
       "  </tbody>\n",
       "</table>\n",
       "</div>"
      ],
      "text/plain": [
       "   new_user_id  new_business_id  stars_y\n",
       "0            0                0        3\n",
       "1            0                1        3\n",
       "2            1                0        3\n",
       "3            1                2        4\n",
       "4            1                3        4\n",
       "5            1                4        4\n",
       "6            1                5        4\n",
       "7            1                6        4\n",
       "8            1                7        3\n",
       "9            1                8        2"
      ]
     },
     "execution_count": 56,
     "metadata": {
      "tags": []
     },
     "output_type": "execute_result"
    }
   ],
   "source": [
    "df.head(10)"
   ]
  },
  {
   "cell_type": "code",
   "execution_count": 0,
   "metadata": {
    "colab": {},
    "colab_type": "code",
    "id": "wuEs5T0JXJL1"
   },
   "outputs": [],
   "source": [
    "# creating a reader object to parse the dataframe which has rating_scale of 1-5\n",
    "reader = Reader(rating_scale=(1, 5))\n",
    "# Load the dataset and split it into 3 folds for cross-validation\n",
    "data = Dataset.load_from_df(df,reader)\n",
    "data.split(n_folds=5)"
   ]
  },
  {
   "cell_type": "code",
   "execution_count": 0,
   "metadata": {
    "colab": {
     "base_uri": "https://localhost:8080/",
     "height": 102
    },
    "colab_type": "code",
    "id": "avyM-_MZXJHF",
    "outputId": "fe8a42f1-f8af-406d-afa6-54e130760d82"
   },
   "outputs": [
    {
     "name": "stdout",
     "output_type": "stream",
     "text": [
      "        Fold 1  Fold 2  Fold 3  Fold 4  Fold 5  Mean    \n",
      "TEST_RMSE1.2990  1.3029  1.3124  1.2812  1.2995  1.2990  \n",
      "TEST_MAE1.0589  1.0476  1.0728  1.0381  1.0568  1.0548  \n",
      "FIT_TIME0.8414  0.7980  0.7806  0.8073  0.7867  0.8028  \n",
      "TEST_TIME0.0200  0.0204  0.0205  0.0206  0.0222  0.0207  \n"
     ]
    }
   ],
   "source": [
    "# SVD Modelling\n",
    "algo = SVD()\n",
    "# Performance evaluation on the basis of RMSE and MAE\n",
    "perf = cross_validate(algo, data, measures=['RMSE', 'MAE'])\n",
    "print_perf(perf)"
   ]
  },
  {
   "cell_type": "markdown",
   "metadata": {
    "colab_type": "text",
    "id": "EcCc_ba00GjP"
   },
   "source": [
    "We get a mean Root Mean Sqaure Error of 1.2990 which is more than good enough for our case. Let us now train on our dataset and arrive at predictions."
   ]
  },
  {
   "cell_type": "code",
   "execution_count": 0,
   "metadata": {
    "colab": {
     "base_uri": "https://localhost:8080/",
     "height": 34
    },
    "colab_type": "code",
    "id": "ylwZlWyww0S1",
    "outputId": "d67f2ac2-d117-47c4-96eb-7b3cf8d32aeb"
   },
   "outputs": [
    {
     "data": {
      "text/plain": [
       "<surprise.prediction_algorithms.matrix_factorization.SVD at 0x7f2e82427438>"
      ]
     },
     "execution_count": 85,
     "metadata": {
      "tags": []
     },
     "output_type": "execute_result"
    }
   ],
   "source": [
    "# train the dataset and find the predictions\n",
    "trainset = data.build_full_trainset()\n",
    "algo.train(trainset)"
   ]
  },
  {
   "cell_type": "code",
   "execution_count": 0,
   "metadata": {
    "colab": {
     "base_uri": "https://localhost:8080/",
     "height": 34
    },
    "colab_type": "code",
    "id": "yFe96CgtykAd",
    "outputId": "2b159a12-3e9d-4ba8-f2a3-76ffc0593b36"
   },
   "outputs": [
    {
     "name": "stdout",
     "output_type": "stream",
     "text": [
      "user: 1          item: 0          r_ui = 3.00   est = 3.77   {'was_impossible': False}\n"
     ]
    }
   ],
   "source": [
    "# predict the user ratings for business id : 0\n",
    "svd_pred = algo.predict(str('1'),str('0'),r_ui=3,verbose=True)"
   ]
  },
  {
   "cell_type": "code",
   "execution_count": 0,
   "metadata": {
    "colab": {
     "base_uri": "https://localhost:8080/",
     "height": 34
    },
    "colab_type": "code",
    "id": "kMo9K4obyj4-",
    "outputId": "558a8a8a-7ee3-4be8-e6a1-988a1598ee6d"
   },
   "outputs": [
    {
     "name": "stdout",
     "output_type": "stream",
     "text": [
      "user: 0          item: 1          r_ui = 3.00   est = 3.77   {'was_impossible': False}\n"
     ]
    }
   ],
   "source": [
    "# predict the user ratings for business id : 1\n",
    "svd_pred1 = algo.predict(str('0'),str('1'),r_ui=3,verbose=True)"
   ]
  },
  {
   "cell_type": "markdown",
   "metadata": {
    "colab_type": "text",
    "id": "hDwjUiCHzqCS"
   },
   "source": [
    "For business id  0 and 1, we get an estimated prediction of 3.77. One startling feature of this recommender system is that it doesn't care what the business is. It works purely on the basis of an assigned business ID and tries to predict ratings based on how the other users have predicted the business."
   ]
  },
  {
   "cell_type": "markdown",
   "metadata": {
    "colab_type": "text",
    "id": "Nktqo7Zdppvq"
   },
   "source": [
    "### 5.3.2 SINGULAR-VALUE DECOMPOSITION PLUS PLUS (SVDpp)"
   ]
  },
  {
   "cell_type": "markdown",
   "metadata": {
    "colab_type": "text",
    "id": "NDTDy7dShU1B"
   },
   "source": [
    "This also works purely on the basis of an assigned business ID and tries to predict ratings based on how the other users have predicted the business. The only difference between SVD and SVDpp is that SVDpp algorithm considers implicit user ratings into account."
   ]
  },
  {
   "cell_type": "code",
   "execution_count": 0,
   "metadata": {
    "colab": {
     "base_uri": "https://localhost:8080/",
     "height": 102
    },
    "colab_type": "code",
    "id": "boUDEj2mprE3",
    "outputId": "027b6970-c8f3-41b9-a015-5523b55e06d4"
   },
   "outputs": [
    {
     "name": "stdout",
     "output_type": "stream",
     "text": [
      "        Fold 1  Fold 2  Fold 3  Fold 4  Fold 5  Mean    \n",
      "TEST_RMSE1.3056  1.3133  1.2714  1.2887  1.3013  1.2961  \n",
      "TEST_MAE1.0553  1.0700  1.0334  1.0478  1.0502  1.0514  \n",
      "FIT_TIME2.3834  2.3229  2.2618  2.2538  2.2718  2.2988  \n",
      "TEST_TIME0.0476  0.0475  0.0480  0.0495  0.0487  0.0483  \n"
     ]
    }
   ],
   "source": [
    "# SVDpp Modelling\n",
    "algo = SVDpp()\n",
    "# Performance evaluation on the basis of RMSE and MAE\n",
    "perf = cross_validate(algo, data, measures=['RMSE', 'MAE'])\n",
    "print_perf(perf)"
   ]
  },
  {
   "cell_type": "markdown",
   "metadata": {
    "colab_type": "text",
    "id": "kn1Kwr0I0X2E"
   },
   "source": [
    "We get a mean Root Mean Sqaure Error of 1.2961 which is again a good value as the error is not very high. Let us now train on our dataset and arrive at predictions."
   ]
  },
  {
   "cell_type": "code",
   "execution_count": 0,
   "metadata": {
    "colab": {
     "base_uri": "https://localhost:8080/",
     "height": 34
    },
    "colab_type": "code",
    "id": "9R_PZ4TEptIP",
    "outputId": "cafbccdc-a7b6-48b3-bb03-b6bf85479627"
   },
   "outputs": [
    {
     "name": "stdout",
     "output_type": "stream",
     "text": [
      "user: 1          item: 0          r_ui = 3.00   est = 3.78   {'was_impossible': False}\n"
     ]
    }
   ],
   "source": [
    "# predict the user ratings for business id : 0\n",
    "svdpp_pred = algo.predict(str('1'),str('0'),r_ui=3,verbose=True)"
   ]
  },
  {
   "cell_type": "code",
   "execution_count": 0,
   "metadata": {
    "colab": {
     "base_uri": "https://localhost:8080/",
     "height": 34
    },
    "colab_type": "code",
    "id": "ezV6mpt5qCZl",
    "outputId": "c876bea4-ade7-40fb-c46d-901e592e0965"
   },
   "outputs": [
    {
     "name": "stdout",
     "output_type": "stream",
     "text": [
      "user: 0          item: 1          r_ui = 3.00   est = 3.78   {'was_impossible': False}\n"
     ]
    }
   ],
   "source": [
    "# predict the user ratings for business id : 1\n",
    "svdpp_pred1 = algo.predict(str('0'),str('1'),r_ui=3,verbose=True)"
   ]
  },
  {
   "cell_type": "markdown",
   "metadata": {
    "colab_type": "text",
    "id": "Xcmbl6R70xPe"
   },
   "source": [
    "For business id 0 and 1, we get an estimated prediction of 3.78. As we see the difference in the predicted rating for both SVD and SVDpp is not much."
   ]
  },
  {
   "cell_type": "markdown",
   "metadata": {
    "colab_type": "text",
    "id": "tnyT6fF05OUA"
   },
   "source": [
    "### 5.4 REVIEWS BASED RESTAURENT RECOMMENDER (CONTENT BASED RECOMMENDATION)"
   ]
  },
  {
   "cell_type": "code",
   "execution_count": 79,
   "metadata": {
    "colab": {
     "base_uri": "https://localhost:8080/",
     "height": 2057
    },
    "colab_type": "code",
    "id": "cGbTWukqt8x9",
    "outputId": "e2f16105-2397-4e60-f698-7f9433ed419f"
   },
   "outputs": [
    {
     "data": {
      "text/html": [
       "<div>\n",
       "<style scoped>\n",
       "    .dataframe tbody tr th:only-of-type {\n",
       "        vertical-align: middle;\n",
       "    }\n",
       "\n",
       "    .dataframe tbody tr th {\n",
       "        vertical-align: top;\n",
       "    }\n",
       "\n",
       "    .dataframe thead th {\n",
       "        text-align: right;\n",
       "    }\n",
       "</style>\n",
       "<table border=\"1\" class=\"dataframe\">\n",
       "  <thead>\n",
       "    <tr style=\"text-align: right;\">\n",
       "      <th></th>\n",
       "      <th>0</th>\n",
       "      <th>1</th>\n",
       "      <th>2</th>\n",
       "      <th>3</th>\n",
       "      <th>4</th>\n",
       "    </tr>\n",
       "  </thead>\n",
       "  <tbody>\n",
       "    <tr>\n",
       "      <th>attributes.Ambience.divey</th>\n",
       "      <td>NaN</td>\n",
       "      <td>NaN</td>\n",
       "      <td>NaN</td>\n",
       "      <td>NaN</td>\n",
       "      <td>NaN</td>\n",
       "    </tr>\n",
       "    <tr>\n",
       "      <th>attributes.RestaurantsDelivery</th>\n",
       "      <td>False</td>\n",
       "      <td>False</td>\n",
       "      <td>False</td>\n",
       "      <td>False</td>\n",
       "      <td>False</td>\n",
       "    </tr>\n",
       "    <tr>\n",
       "      <th>attributes.DogsAllowed</th>\n",
       "      <td>NaN</td>\n",
       "      <td>False</td>\n",
       "      <td>NaN</td>\n",
       "      <td>NaN</td>\n",
       "      <td>NaN</td>\n",
       "    </tr>\n",
       "    <tr>\n",
       "      <th>postal_code</th>\n",
       "      <td>L4C 9V4</td>\n",
       "      <td>L3T 0A2</td>\n",
       "      <td>L4C 9V4</td>\n",
       "      <td>L3T 7Y3</td>\n",
       "      <td>M5G 1M5</td>\n",
       "    </tr>\n",
       "    <tr>\n",
       "      <th>hours.Thursday</th>\n",
       "      <td>11:30-22:00</td>\n",
       "      <td>11:00-1:00</td>\n",
       "      <td>11:30-22:00</td>\n",
       "      <td>10:00-19:00</td>\n",
       "      <td>8:00-23:00</td>\n",
       "    </tr>\n",
       "    <tr>\n",
       "      <th>attributes.HairSpecializesIn.coloring</th>\n",
       "      <td>NaN</td>\n",
       "      <td>NaN</td>\n",
       "      <td>NaN</td>\n",
       "      <td>NaN</td>\n",
       "      <td>NaN</td>\n",
       "    </tr>\n",
       "    <tr>\n",
       "      <th>attributes.BestNights.sunday</th>\n",
       "      <td>NaN</td>\n",
       "      <td>NaN</td>\n",
       "      <td>NaN</td>\n",
       "      <td>NaN</td>\n",
       "      <td>NaN</td>\n",
       "    </tr>\n",
       "    <tr>\n",
       "      <th>attributes.BYOB</th>\n",
       "      <td>NaN</td>\n",
       "      <td>NaN</td>\n",
       "      <td>NaN</td>\n",
       "      <td>NaN</td>\n",
       "      <td>NaN</td>\n",
       "    </tr>\n",
       "    <tr>\n",
       "      <th>attributes.AgesAllowed</th>\n",
       "      <td>NaN</td>\n",
       "      <td>NaN</td>\n",
       "      <td>NaN</td>\n",
       "      <td>NaN</td>\n",
       "      <td>NaN</td>\n",
       "    </tr>\n",
       "    <tr>\n",
       "      <th>hours.Friday</th>\n",
       "      <td>11:30-23:00</td>\n",
       "      <td>11:00-3:00</td>\n",
       "      <td>11:30-23:00</td>\n",
       "      <td>10:00-19:00</td>\n",
       "      <td>8:00-23:00</td>\n",
       "    </tr>\n",
       "    <tr>\n",
       "      <th>latitude</th>\n",
       "      <td>43.8676</td>\n",
       "      <td>43.8415</td>\n",
       "      <td>43.8676</td>\n",
       "      <td>43.8437</td>\n",
       "      <td>43.656</td>\n",
       "    </tr>\n",
       "    <tr>\n",
       "      <th>attributes.Alcohol</th>\n",
       "      <td>full_bar</td>\n",
       "      <td>none</td>\n",
       "      <td>full_bar</td>\n",
       "      <td>none</td>\n",
       "      <td>none</td>\n",
       "    </tr>\n",
       "    <tr>\n",
       "      <th>attributes.Ambience.classy</th>\n",
       "      <td>False</td>\n",
       "      <td>False</td>\n",
       "      <td>False</td>\n",
       "      <td>NaN</td>\n",
       "      <td>NaN</td>\n",
       "    </tr>\n",
       "    <tr>\n",
       "      <th>attributes.RestaurantsTableService</th>\n",
       "      <td>True</td>\n",
       "      <td>True</td>\n",
       "      <td>True</td>\n",
       "      <td>NaN</td>\n",
       "      <td>NaN</td>\n",
       "    </tr>\n",
       "    <tr>\n",
       "      <th>business_id</th>\n",
       "      <td>Gu-xs3NIQTj3Mj2xYoN2aw</td>\n",
       "      <td>NF6di6YcQxN0rDAleE7SyQ</td>\n",
       "      <td>Gu-xs3NIQTj3Mj2xYoN2aw</td>\n",
       "      <td>2_8_ipfxCRtpXesLdBCqig</td>\n",
       "      <td>RwRNR4z3kY-4OsFqigY5sw</td>\n",
       "    </tr>\n",
       "    <tr>\n",
       "      <th>attributes.Ambience.touristy</th>\n",
       "      <td>False</td>\n",
       "      <td>False</td>\n",
       "      <td>False</td>\n",
       "      <td>NaN</td>\n",
       "      <td>NaN</td>\n",
       "    </tr>\n",
       "    <tr>\n",
       "      <th>attributes.RestaurantsCounterService</th>\n",
       "      <td>NaN</td>\n",
       "      <td>NaN</td>\n",
       "      <td>NaN</td>\n",
       "      <td>NaN</td>\n",
       "      <td>NaN</td>\n",
       "    </tr>\n",
       "    <tr>\n",
       "      <th>attributes.Corkage</th>\n",
       "      <td>NaN</td>\n",
       "      <td>NaN</td>\n",
       "      <td>NaN</td>\n",
       "      <td>NaN</td>\n",
       "      <td>NaN</td>\n",
       "    </tr>\n",
       "    <tr>\n",
       "      <th>attributes.RestaurantsGoodForGroups</th>\n",
       "      <td>True</td>\n",
       "      <td>True</td>\n",
       "      <td>True</td>\n",
       "      <td>NaN</td>\n",
       "      <td>NaN</td>\n",
       "    </tr>\n",
       "    <tr>\n",
       "      <th>categories</th>\n",
       "      <td>[u'French', u'Food', u'Bakeries', u'Restaurants']</td>\n",
       "      <td>[u'Taiwanese', u'Chinese', u'Restaurants', u'T...</td>\n",
       "      <td>[u'French', u'Food', u'Bakeries', u'Restaurants']</td>\n",
       "      <td>[u'Coffee &amp; Tea', u'Bakeries', u'Food', u'Dess...</td>\n",
       "      <td>[u'Food', u'Desserts', u'Bakeries', u'Japanese...</td>\n",
       "    </tr>\n",
       "    <tr>\n",
       "      <th>name_x</th>\n",
       "      <td>Maxim Bakery &amp; Restaurant</td>\n",
       "      <td>Ten Ren's Tea</td>\n",
       "      <td>Maxim Bakery &amp; Restaurant</td>\n",
       "      <td>Duo Patisserie &amp; Cafe</td>\n",
       "      <td>Uncle Tetsu's Japanese Cheesecake</td>\n",
       "    </tr>\n",
       "    <tr>\n",
       "      <th>attributes.BusinessAcceptsBitcoin</th>\n",
       "      <td>NaN</td>\n",
       "      <td>NaN</td>\n",
       "      <td>NaN</td>\n",
       "      <td>NaN</td>\n",
       "      <td>NaN</td>\n",
       "    </tr>\n",
       "    <tr>\n",
       "      <th>attributes.HappyHour</th>\n",
       "      <td>NaN</td>\n",
       "      <td>NaN</td>\n",
       "      <td>NaN</td>\n",
       "      <td>NaN</td>\n",
       "      <td>NaN</td>\n",
       "    </tr>\n",
       "    <tr>\n",
       "      <th>attributes.WheelchairAccessible</th>\n",
       "      <td>True</td>\n",
       "      <td>True</td>\n",
       "      <td>True</td>\n",
       "      <td>NaN</td>\n",
       "      <td>NaN</td>\n",
       "    </tr>\n",
       "    <tr>\n",
       "      <th>attributes.Ambience.hipster</th>\n",
       "      <td>False</td>\n",
       "      <td>False</td>\n",
       "      <td>False</td>\n",
       "      <td>NaN</td>\n",
       "      <td>NaN</td>\n",
       "    </tr>\n",
       "    <tr>\n",
       "      <th>attributes.BusinessAcceptsCreditCards</th>\n",
       "      <td>True</td>\n",
       "      <td>True</td>\n",
       "      <td>True</td>\n",
       "      <td>True</td>\n",
       "      <td>False</td>\n",
       "    </tr>\n",
       "    <tr>\n",
       "      <th>is_open</th>\n",
       "      <td>1</td>\n",
       "      <td>1</td>\n",
       "      <td>1</td>\n",
       "      <td>1</td>\n",
       "      <td>1</td>\n",
       "    </tr>\n",
       "    <tr>\n",
       "      <th>attributes.Music.video</th>\n",
       "      <td>NaN</td>\n",
       "      <td>NaN</td>\n",
       "      <td>NaN</td>\n",
       "      <td>NaN</td>\n",
       "      <td>NaN</td>\n",
       "    </tr>\n",
       "    <tr>\n",
       "      <th>attributes.Music.live</th>\n",
       "      <td>NaN</td>\n",
       "      <td>NaN</td>\n",
       "      <td>NaN</td>\n",
       "      <td>NaN</td>\n",
       "      <td>NaN</td>\n",
       "    </tr>\n",
       "    <tr>\n",
       "      <th>attributes.Music.background_music</th>\n",
       "      <td>NaN</td>\n",
       "      <td>NaN</td>\n",
       "      <td>NaN</td>\n",
       "      <td>NaN</td>\n",
       "      <td>NaN</td>\n",
       "    </tr>\n",
       "    <tr>\n",
       "      <th>...</th>\n",
       "      <td>...</td>\n",
       "      <td>...</td>\n",
       "      <td>...</td>\n",
       "      <td>...</td>\n",
       "      <td>...</td>\n",
       "    </tr>\n",
       "    <tr>\n",
       "      <th>attributes.OutdoorSeating</th>\n",
       "      <td>False</td>\n",
       "      <td>True</td>\n",
       "      <td>False</td>\n",
       "      <td>False</td>\n",
       "      <td>NaN</td>\n",
       "    </tr>\n",
       "    <tr>\n",
       "      <th>funny_x</th>\n",
       "      <td>0</td>\n",
       "      <td>0</td>\n",
       "      <td>0</td>\n",
       "      <td>0</td>\n",
       "      <td>0</td>\n",
       "    </tr>\n",
       "    <tr>\n",
       "      <th>user_id</th>\n",
       "      <td>xDRfjhGLulshRgsdzNpPXw</td>\n",
       "      <td>xDRfjhGLulshRgsdzNpPXw</td>\n",
       "      <td>AVVEFYHmFUa9oUhy2DIQFA</td>\n",
       "      <td>AVVEFYHmFUa9oUhy2DIQFA</td>\n",
       "      <td>AVVEFYHmFUa9oUhy2DIQFA</td>\n",
       "    </tr>\n",
       "    <tr>\n",
       "      <th>review_id</th>\n",
       "      <td>XUOmcs39VnKXGlYp3G_IIg</td>\n",
       "      <td>J9_TrwV3pprro6DZc7oZbA</td>\n",
       "      <td>HyjTPBiv2Cru13oy7phEvg</td>\n",
       "      <td>z7o6Pt9qNNooeXBymA7rNw</td>\n",
       "      <td>I6CQPkpl5NWdy6uYNEayKQ</td>\n",
       "    </tr>\n",
       "    <tr>\n",
       "      <th>text</th>\n",
       "      <td>Their signature fruit meringue cakes are good ...</td>\n",
       "      <td>This place has really degraded. I used to come...</td>\n",
       "      <td>I have only eaten here once, but visit several...</td>\n",
       "      <td>Finally got a chance to try this place as I he...</td>\n",
       "      <td>I came by to test my luck on a Thursday evenin...</td>\n",
       "    </tr>\n",
       "    <tr>\n",
       "      <th>stars_y</th>\n",
       "      <td>3</td>\n",
       "      <td>3</td>\n",
       "      <td>3</td>\n",
       "      <td>4</td>\n",
       "      <td>4</td>\n",
       "    </tr>\n",
       "    <tr>\n",
       "      <th>date</th>\n",
       "      <td>2017-12-05</td>\n",
       "      <td>2016-02-08</td>\n",
       "      <td>2016-04-05</td>\n",
       "      <td>2015-11-30</td>\n",
       "      <td>2015-12-11</td>\n",
       "    </tr>\n",
       "    <tr>\n",
       "      <th>useful_x</th>\n",
       "      <td>0</td>\n",
       "      <td>0</td>\n",
       "      <td>2</td>\n",
       "      <td>1</td>\n",
       "      <td>1</td>\n",
       "    </tr>\n",
       "    <tr>\n",
       "      <th>cool_x</th>\n",
       "      <td>0</td>\n",
       "      <td>0</td>\n",
       "      <td>1</td>\n",
       "      <td>3</td>\n",
       "      <td>0</td>\n",
       "    </tr>\n",
       "    <tr>\n",
       "      <th>yelping_since</th>\n",
       "      <td>2016-01-21</td>\n",
       "      <td>2016-01-21</td>\n",
       "      <td>2015-07-27</td>\n",
       "      <td>2015-07-27</td>\n",
       "      <td>2015-07-27</td>\n",
       "    </tr>\n",
       "    <tr>\n",
       "      <th>useful_y</th>\n",
       "      <td>3</td>\n",
       "      <td>3</td>\n",
       "      <td>316</td>\n",
       "      <td>316</td>\n",
       "      <td>316</td>\n",
       "    </tr>\n",
       "    <tr>\n",
       "      <th>compliment_photos</th>\n",
       "      <td>0</td>\n",
       "      <td>0</td>\n",
       "      <td>8</td>\n",
       "      <td>8</td>\n",
       "      <td>8</td>\n",
       "    </tr>\n",
       "    <tr>\n",
       "      <th>compliment_list</th>\n",
       "      <td>0</td>\n",
       "      <td>0</td>\n",
       "      <td>0</td>\n",
       "      <td>0</td>\n",
       "      <td>0</td>\n",
       "    </tr>\n",
       "    <tr>\n",
       "      <th>compliment_funny</th>\n",
       "      <td>1</td>\n",
       "      <td>1</td>\n",
       "      <td>7</td>\n",
       "      <td>7</td>\n",
       "      <td>7</td>\n",
       "    </tr>\n",
       "    <tr>\n",
       "      <th>compliment_plain</th>\n",
       "      <td>0</td>\n",
       "      <td>0</td>\n",
       "      <td>2</td>\n",
       "      <td>2</td>\n",
       "      <td>2</td>\n",
       "    </tr>\n",
       "    <tr>\n",
       "      <th>review_count_y</th>\n",
       "      <td>11</td>\n",
       "      <td>11</td>\n",
       "      <td>238</td>\n",
       "      <td>238</td>\n",
       "      <td>238</td>\n",
       "    </tr>\n",
       "    <tr>\n",
       "      <th>elite</th>\n",
       "      <td>[]</td>\n",
       "      <td>[]</td>\n",
       "      <td>[2016, 2015, 2017]</td>\n",
       "      <td>[2016, 2015, 2017]</td>\n",
       "      <td>[2016, 2015, 2017]</td>\n",
       "    </tr>\n",
       "    <tr>\n",
       "      <th>fans</th>\n",
       "      <td>0</td>\n",
       "      <td>0</td>\n",
       "      <td>17</td>\n",
       "      <td>17</td>\n",
       "      <td>17</td>\n",
       "    </tr>\n",
       "    <tr>\n",
       "      <th>compliment_note</th>\n",
       "      <td>0</td>\n",
       "      <td>0</td>\n",
       "      <td>2</td>\n",
       "      <td>2</td>\n",
       "      <td>2</td>\n",
       "    </tr>\n",
       "    <tr>\n",
       "      <th>funny_y</th>\n",
       "      <td>0</td>\n",
       "      <td>0</td>\n",
       "      <td>27</td>\n",
       "      <td>27</td>\n",
       "      <td>27</td>\n",
       "    </tr>\n",
       "    <tr>\n",
       "      <th>compliment_writer</th>\n",
       "      <td>0</td>\n",
       "      <td>0</td>\n",
       "      <td>9</td>\n",
       "      <td>9</td>\n",
       "      <td>9</td>\n",
       "    </tr>\n",
       "    <tr>\n",
       "      <th>compliment_cute</th>\n",
       "      <td>0</td>\n",
       "      <td>0</td>\n",
       "      <td>1</td>\n",
       "      <td>1</td>\n",
       "      <td>1</td>\n",
       "    </tr>\n",
       "    <tr>\n",
       "      <th>average_stars</th>\n",
       "      <td>3</td>\n",
       "      <td>3</td>\n",
       "      <td>3.76</td>\n",
       "      <td>3.76</td>\n",
       "      <td>3.76</td>\n",
       "    </tr>\n",
       "    <tr>\n",
       "      <th>compliment_more</th>\n",
       "      <td>0</td>\n",
       "      <td>0</td>\n",
       "      <td>2</td>\n",
       "      <td>2</td>\n",
       "      <td>2</td>\n",
       "    </tr>\n",
       "    <tr>\n",
       "      <th>friends</th>\n",
       "      <td>[u'P29oqHWxMa9qMT25z2hDig', u'QZOlthTiwV2SO79f...</td>\n",
       "      <td>[u'P29oqHWxMa9qMT25z2hDig', u'QZOlthTiwV2SO79f...</td>\n",
       "      <td>[u'JesJ-LaNfr3pKhL7gWhDrw', u'xttaWX-oTAK3fMoT...</td>\n",
       "      <td>[u'JesJ-LaNfr3pKhL7gWhDrw', u'xttaWX-oTAK3fMoT...</td>\n",
       "      <td>[u'JesJ-LaNfr3pKhL7gWhDrw', u'xttaWX-oTAK3fMoT...</td>\n",
       "    </tr>\n",
       "    <tr>\n",
       "      <th>compliment_hot</th>\n",
       "      <td>1</td>\n",
       "      <td>1</td>\n",
       "      <td>6</td>\n",
       "      <td>6</td>\n",
       "      <td>6</td>\n",
       "    </tr>\n",
       "    <tr>\n",
       "      <th>cool_y</th>\n",
       "      <td>0</td>\n",
       "      <td>0</td>\n",
       "      <td>11</td>\n",
       "      <td>11</td>\n",
       "      <td>11</td>\n",
       "    </tr>\n",
       "    <tr>\n",
       "      <th>name_y</th>\n",
       "      <td>Kay</td>\n",
       "      <td>Kay</td>\n",
       "      <td>Andrea</td>\n",
       "      <td>Andrea</td>\n",
       "      <td>Andrea</td>\n",
       "    </tr>\n",
       "    <tr>\n",
       "      <th>compliment_profile</th>\n",
       "      <td>0</td>\n",
       "      <td>0</td>\n",
       "      <td>0</td>\n",
       "      <td>0</td>\n",
       "      <td>0</td>\n",
       "    </tr>\n",
       "    <tr>\n",
       "      <th>compliment_cool</th>\n",
       "      <td>1</td>\n",
       "      <td>1</td>\n",
       "      <td>7</td>\n",
       "      <td>7</td>\n",
       "      <td>7</td>\n",
       "    </tr>\n",
       "  </tbody>\n",
       "</table>\n",
       "<p>130 rows × 5 columns</p>\n",
       "</div>"
      ],
      "text/plain": [
       "                                                                                       0  \\\n",
       "attributes.Ambience.divey                                                            NaN   \n",
       "attributes.RestaurantsDelivery                                                     False   \n",
       "attributes.DogsAllowed                                                               NaN   \n",
       "postal_code                                                                      L4C 9V4   \n",
       "hours.Thursday                                                               11:30-22:00   \n",
       "attributes.HairSpecializesIn.coloring                                                NaN   \n",
       "attributes.BestNights.sunday                                                         NaN   \n",
       "attributes.BYOB                                                                      NaN   \n",
       "attributes.AgesAllowed                                                               NaN   \n",
       "hours.Friday                                                                 11:30-23:00   \n",
       "latitude                                                                         43.8676   \n",
       "attributes.Alcohol                                                              full_bar   \n",
       "attributes.Ambience.classy                                                         False   \n",
       "attributes.RestaurantsTableService                                                  True   \n",
       "business_id                                                       Gu-xs3NIQTj3Mj2xYoN2aw   \n",
       "attributes.Ambience.touristy                                                       False   \n",
       "attributes.RestaurantsCounterService                                                 NaN   \n",
       "attributes.Corkage                                                                   NaN   \n",
       "attributes.RestaurantsGoodForGroups                                                 True   \n",
       "categories                             [u'French', u'Food', u'Bakeries', u'Restaurants']   \n",
       "name_x                                                         Maxim Bakery & Restaurant   \n",
       "attributes.BusinessAcceptsBitcoin                                                    NaN   \n",
       "attributes.HappyHour                                                                 NaN   \n",
       "attributes.WheelchairAccessible                                                     True   \n",
       "attributes.Ambience.hipster                                                        False   \n",
       "attributes.BusinessAcceptsCreditCards                                               True   \n",
       "is_open                                                                                1   \n",
       "attributes.Music.video                                                               NaN   \n",
       "attributes.Music.live                                                                NaN   \n",
       "attributes.Music.background_music                                                    NaN   \n",
       "...                                                                                  ...   \n",
       "attributes.OutdoorSeating                                                          False   \n",
       "funny_x                                                                                0   \n",
       "user_id                                                           xDRfjhGLulshRgsdzNpPXw   \n",
       "review_id                                                         XUOmcs39VnKXGlYp3G_IIg   \n",
       "text                                   Their signature fruit meringue cakes are good ...   \n",
       "stars_y                                                                                3   \n",
       "date                                                                          2017-12-05   \n",
       "useful_x                                                                               0   \n",
       "cool_x                                                                                 0   \n",
       "yelping_since                                                                 2016-01-21   \n",
       "useful_y                                                                               3   \n",
       "compliment_photos                                                                      0   \n",
       "compliment_list                                                                        0   \n",
       "compliment_funny                                                                       1   \n",
       "compliment_plain                                                                       0   \n",
       "review_count_y                                                                        11   \n",
       "elite                                                                                 []   \n",
       "fans                                                                                   0   \n",
       "compliment_note                                                                        0   \n",
       "funny_y                                                                                0   \n",
       "compliment_writer                                                                      0   \n",
       "compliment_cute                                                                        0   \n",
       "average_stars                                                                          3   \n",
       "compliment_more                                                                        0   \n",
       "friends                                [u'P29oqHWxMa9qMT25z2hDig', u'QZOlthTiwV2SO79f...   \n",
       "compliment_hot                                                                         1   \n",
       "cool_y                                                                                 0   \n",
       "name_y                                                                               Kay   \n",
       "compliment_profile                                                                     0   \n",
       "compliment_cool                                                                        1   \n",
       "\n",
       "                                                                                       1  \\\n",
       "attributes.Ambience.divey                                                            NaN   \n",
       "attributes.RestaurantsDelivery                                                     False   \n",
       "attributes.DogsAllowed                                                             False   \n",
       "postal_code                                                                      L3T 0A2   \n",
       "hours.Thursday                                                                11:00-1:00   \n",
       "attributes.HairSpecializesIn.coloring                                                NaN   \n",
       "attributes.BestNights.sunday                                                         NaN   \n",
       "attributes.BYOB                                                                      NaN   \n",
       "attributes.AgesAllowed                                                               NaN   \n",
       "hours.Friday                                                                  11:00-3:00   \n",
       "latitude                                                                         43.8415   \n",
       "attributes.Alcohol                                                                  none   \n",
       "attributes.Ambience.classy                                                         False   \n",
       "attributes.RestaurantsTableService                                                  True   \n",
       "business_id                                                       NF6di6YcQxN0rDAleE7SyQ   \n",
       "attributes.Ambience.touristy                                                       False   \n",
       "attributes.RestaurantsCounterService                                                 NaN   \n",
       "attributes.Corkage                                                                   NaN   \n",
       "attributes.RestaurantsGoodForGroups                                                 True   \n",
       "categories                             [u'Taiwanese', u'Chinese', u'Restaurants', u'T...   \n",
       "name_x                                                                     Ten Ren's Tea   \n",
       "attributes.BusinessAcceptsBitcoin                                                    NaN   \n",
       "attributes.HappyHour                                                                 NaN   \n",
       "attributes.WheelchairAccessible                                                     True   \n",
       "attributes.Ambience.hipster                                                        False   \n",
       "attributes.BusinessAcceptsCreditCards                                               True   \n",
       "is_open                                                                                1   \n",
       "attributes.Music.video                                                               NaN   \n",
       "attributes.Music.live                                                                NaN   \n",
       "attributes.Music.background_music                                                    NaN   \n",
       "...                                                                                  ...   \n",
       "attributes.OutdoorSeating                                                           True   \n",
       "funny_x                                                                                0   \n",
       "user_id                                                           xDRfjhGLulshRgsdzNpPXw   \n",
       "review_id                                                         J9_TrwV3pprro6DZc7oZbA   \n",
       "text                                   This place has really degraded. I used to come...   \n",
       "stars_y                                                                                3   \n",
       "date                                                                          2016-02-08   \n",
       "useful_x                                                                               0   \n",
       "cool_x                                                                                 0   \n",
       "yelping_since                                                                 2016-01-21   \n",
       "useful_y                                                                               3   \n",
       "compliment_photos                                                                      0   \n",
       "compliment_list                                                                        0   \n",
       "compliment_funny                                                                       1   \n",
       "compliment_plain                                                                       0   \n",
       "review_count_y                                                                        11   \n",
       "elite                                                                                 []   \n",
       "fans                                                                                   0   \n",
       "compliment_note                                                                        0   \n",
       "funny_y                                                                                0   \n",
       "compliment_writer                                                                      0   \n",
       "compliment_cute                                                                        0   \n",
       "average_stars                                                                          3   \n",
       "compliment_more                                                                        0   \n",
       "friends                                [u'P29oqHWxMa9qMT25z2hDig', u'QZOlthTiwV2SO79f...   \n",
       "compliment_hot                                                                         1   \n",
       "cool_y                                                                                 0   \n",
       "name_y                                                                               Kay   \n",
       "compliment_profile                                                                     0   \n",
       "compliment_cool                                                                        1   \n",
       "\n",
       "                                                                                       2  \\\n",
       "attributes.Ambience.divey                                                            NaN   \n",
       "attributes.RestaurantsDelivery                                                     False   \n",
       "attributes.DogsAllowed                                                               NaN   \n",
       "postal_code                                                                      L4C 9V4   \n",
       "hours.Thursday                                                               11:30-22:00   \n",
       "attributes.HairSpecializesIn.coloring                                                NaN   \n",
       "attributes.BestNights.sunday                                                         NaN   \n",
       "attributes.BYOB                                                                      NaN   \n",
       "attributes.AgesAllowed                                                               NaN   \n",
       "hours.Friday                                                                 11:30-23:00   \n",
       "latitude                                                                         43.8676   \n",
       "attributes.Alcohol                                                              full_bar   \n",
       "attributes.Ambience.classy                                                         False   \n",
       "attributes.RestaurantsTableService                                                  True   \n",
       "business_id                                                       Gu-xs3NIQTj3Mj2xYoN2aw   \n",
       "attributes.Ambience.touristy                                                       False   \n",
       "attributes.RestaurantsCounterService                                                 NaN   \n",
       "attributes.Corkage                                                                   NaN   \n",
       "attributes.RestaurantsGoodForGroups                                                 True   \n",
       "categories                             [u'French', u'Food', u'Bakeries', u'Restaurants']   \n",
       "name_x                                                         Maxim Bakery & Restaurant   \n",
       "attributes.BusinessAcceptsBitcoin                                                    NaN   \n",
       "attributes.HappyHour                                                                 NaN   \n",
       "attributes.WheelchairAccessible                                                     True   \n",
       "attributes.Ambience.hipster                                                        False   \n",
       "attributes.BusinessAcceptsCreditCards                                               True   \n",
       "is_open                                                                                1   \n",
       "attributes.Music.video                                                               NaN   \n",
       "attributes.Music.live                                                                NaN   \n",
       "attributes.Music.background_music                                                    NaN   \n",
       "...                                                                                  ...   \n",
       "attributes.OutdoorSeating                                                          False   \n",
       "funny_x                                                                                0   \n",
       "user_id                                                           AVVEFYHmFUa9oUhy2DIQFA   \n",
       "review_id                                                         HyjTPBiv2Cru13oy7phEvg   \n",
       "text                                   I have only eaten here once, but visit several...   \n",
       "stars_y                                                                                3   \n",
       "date                                                                          2016-04-05   \n",
       "useful_x                                                                               2   \n",
       "cool_x                                                                                 1   \n",
       "yelping_since                                                                 2015-07-27   \n",
       "useful_y                                                                             316   \n",
       "compliment_photos                                                                      8   \n",
       "compliment_list                                                                        0   \n",
       "compliment_funny                                                                       7   \n",
       "compliment_plain                                                                       2   \n",
       "review_count_y                                                                       238   \n",
       "elite                                                                 [2016, 2015, 2017]   \n",
       "fans                                                                                  17   \n",
       "compliment_note                                                                        2   \n",
       "funny_y                                                                               27   \n",
       "compliment_writer                                                                      9   \n",
       "compliment_cute                                                                        1   \n",
       "average_stars                                                                       3.76   \n",
       "compliment_more                                                                        2   \n",
       "friends                                [u'JesJ-LaNfr3pKhL7gWhDrw', u'xttaWX-oTAK3fMoT...   \n",
       "compliment_hot                                                                         6   \n",
       "cool_y                                                                                11   \n",
       "name_y                                                                            Andrea   \n",
       "compliment_profile                                                                     0   \n",
       "compliment_cool                                                                        7   \n",
       "\n",
       "                                                                                       3  \\\n",
       "attributes.Ambience.divey                                                            NaN   \n",
       "attributes.RestaurantsDelivery                                                     False   \n",
       "attributes.DogsAllowed                                                               NaN   \n",
       "postal_code                                                                      L3T 7Y3   \n",
       "hours.Thursday                                                               10:00-19:00   \n",
       "attributes.HairSpecializesIn.coloring                                                NaN   \n",
       "attributes.BestNights.sunday                                                         NaN   \n",
       "attributes.BYOB                                                                      NaN   \n",
       "attributes.AgesAllowed                                                               NaN   \n",
       "hours.Friday                                                                 10:00-19:00   \n",
       "latitude                                                                         43.8437   \n",
       "attributes.Alcohol                                                                  none   \n",
       "attributes.Ambience.classy                                                           NaN   \n",
       "attributes.RestaurantsTableService                                                   NaN   \n",
       "business_id                                                       2_8_ipfxCRtpXesLdBCqig   \n",
       "attributes.Ambience.touristy                                                         NaN   \n",
       "attributes.RestaurantsCounterService                                                 NaN   \n",
       "attributes.Corkage                                                                   NaN   \n",
       "attributes.RestaurantsGoodForGroups                                                  NaN   \n",
       "categories                             [u'Coffee & Tea', u'Bakeries', u'Food', u'Dess...   \n",
       "name_x                                                             Duo Patisserie & Cafe   \n",
       "attributes.BusinessAcceptsBitcoin                                                    NaN   \n",
       "attributes.HappyHour                                                                 NaN   \n",
       "attributes.WheelchairAccessible                                                      NaN   \n",
       "attributes.Ambience.hipster                                                          NaN   \n",
       "attributes.BusinessAcceptsCreditCards                                               True   \n",
       "is_open                                                                                1   \n",
       "attributes.Music.video                                                               NaN   \n",
       "attributes.Music.live                                                                NaN   \n",
       "attributes.Music.background_music                                                    NaN   \n",
       "...                                                                                  ...   \n",
       "attributes.OutdoorSeating                                                          False   \n",
       "funny_x                                                                                0   \n",
       "user_id                                                           AVVEFYHmFUa9oUhy2DIQFA   \n",
       "review_id                                                         z7o6Pt9qNNooeXBymA7rNw   \n",
       "text                                   Finally got a chance to try this place as I he...   \n",
       "stars_y                                                                                4   \n",
       "date                                                                          2015-11-30   \n",
       "useful_x                                                                               1   \n",
       "cool_x                                                                                 3   \n",
       "yelping_since                                                                 2015-07-27   \n",
       "useful_y                                                                             316   \n",
       "compliment_photos                                                                      8   \n",
       "compliment_list                                                                        0   \n",
       "compliment_funny                                                                       7   \n",
       "compliment_plain                                                                       2   \n",
       "review_count_y                                                                       238   \n",
       "elite                                                                 [2016, 2015, 2017]   \n",
       "fans                                                                                  17   \n",
       "compliment_note                                                                        2   \n",
       "funny_y                                                                               27   \n",
       "compliment_writer                                                                      9   \n",
       "compliment_cute                                                                        1   \n",
       "average_stars                                                                       3.76   \n",
       "compliment_more                                                                        2   \n",
       "friends                                [u'JesJ-LaNfr3pKhL7gWhDrw', u'xttaWX-oTAK3fMoT...   \n",
       "compliment_hot                                                                         6   \n",
       "cool_y                                                                                11   \n",
       "name_y                                                                            Andrea   \n",
       "compliment_profile                                                                     0   \n",
       "compliment_cool                                                                        7   \n",
       "\n",
       "                                                                                       4  \n",
       "attributes.Ambience.divey                                                            NaN  \n",
       "attributes.RestaurantsDelivery                                                     False  \n",
       "attributes.DogsAllowed                                                               NaN  \n",
       "postal_code                                                                      M5G 1M5  \n",
       "hours.Thursday                                                                8:00-23:00  \n",
       "attributes.HairSpecializesIn.coloring                                                NaN  \n",
       "attributes.BestNights.sunday                                                         NaN  \n",
       "attributes.BYOB                                                                      NaN  \n",
       "attributes.AgesAllowed                                                               NaN  \n",
       "hours.Friday                                                                  8:00-23:00  \n",
       "latitude                                                                          43.656  \n",
       "attributes.Alcohol                                                                  none  \n",
       "attributes.Ambience.classy                                                           NaN  \n",
       "attributes.RestaurantsTableService                                                   NaN  \n",
       "business_id                                                       RwRNR4z3kY-4OsFqigY5sw  \n",
       "attributes.Ambience.touristy                                                         NaN  \n",
       "attributes.RestaurantsCounterService                                                 NaN  \n",
       "attributes.Corkage                                                                   NaN  \n",
       "attributes.RestaurantsGoodForGroups                                                  NaN  \n",
       "categories                             [u'Food', u'Desserts', u'Bakeries', u'Japanese...  \n",
       "name_x                                                 Uncle Tetsu's Japanese Cheesecake  \n",
       "attributes.BusinessAcceptsBitcoin                                                    NaN  \n",
       "attributes.HappyHour                                                                 NaN  \n",
       "attributes.WheelchairAccessible                                                      NaN  \n",
       "attributes.Ambience.hipster                                                          NaN  \n",
       "attributes.BusinessAcceptsCreditCards                                              False  \n",
       "is_open                                                                                1  \n",
       "attributes.Music.video                                                               NaN  \n",
       "attributes.Music.live                                                                NaN  \n",
       "attributes.Music.background_music                                                    NaN  \n",
       "...                                                                                  ...  \n",
       "attributes.OutdoorSeating                                                            NaN  \n",
       "funny_x                                                                                0  \n",
       "user_id                                                           AVVEFYHmFUa9oUhy2DIQFA  \n",
       "review_id                                                         I6CQPkpl5NWdy6uYNEayKQ  \n",
       "text                                   I came by to test my luck on a Thursday evenin...  \n",
       "stars_y                                                                                4  \n",
       "date                                                                          2015-12-11  \n",
       "useful_x                                                                               1  \n",
       "cool_x                                                                                 0  \n",
       "yelping_since                                                                 2015-07-27  \n",
       "useful_y                                                                             316  \n",
       "compliment_photos                                                                      8  \n",
       "compliment_list                                                                        0  \n",
       "compliment_funny                                                                       7  \n",
       "compliment_plain                                                                       2  \n",
       "review_count_y                                                                       238  \n",
       "elite                                                                 [2016, 2015, 2017]  \n",
       "fans                                                                                  17  \n",
       "compliment_note                                                                        2  \n",
       "funny_y                                                                               27  \n",
       "compliment_writer                                                                      9  \n",
       "compliment_cute                                                                        1  \n",
       "average_stars                                                                       3.76  \n",
       "compliment_more                                                                        2  \n",
       "friends                                [u'JesJ-LaNfr3pKhL7gWhDrw', u'xttaWX-oTAK3fMoT...  \n",
       "compliment_hot                                                                         6  \n",
       "cool_y                                                                                11  \n",
       "name_y                                                                            Andrea  \n",
       "compliment_profile                                                                     0  \n",
       "compliment_cool                                                                        7  \n",
       "\n",
       "[130 rows x 5 columns]"
      ]
     },
     "execution_count": 79,
     "metadata": {},
     "output_type": "execute_result"
    }
   ],
   "source": [
    "complete_df.head().T"
   ]
  },
  {
   "cell_type": "code",
   "execution_count": 80,
   "metadata": {
    "colab": {
     "base_uri": "https://localhost:8080/",
     "height": 204
    },
    "colab_type": "code",
    "id": "DrkkrebW5uJa",
    "outputId": "14451359-8688-4094-943f-f5f87e231254"
   },
   "outputs": [
    {
     "data": {
      "text/html": [
       "<div>\n",
       "<style scoped>\n",
       "    .dataframe tbody tr th:only-of-type {\n",
       "        vertical-align: middle;\n",
       "    }\n",
       "\n",
       "    .dataframe tbody tr th {\n",
       "        vertical-align: top;\n",
       "    }\n",
       "\n",
       "    .dataframe thead th {\n",
       "        text-align: right;\n",
       "    }\n",
       "</style>\n",
       "<table border=\"1\" class=\"dataframe\">\n",
       "  <thead>\n",
       "    <tr style=\"text-align: right;\">\n",
       "      <th></th>\n",
       "      <th>name_x</th>\n",
       "      <th>business_id</th>\n",
       "      <th>categories</th>\n",
       "      <th>text</th>\n",
       "    </tr>\n",
       "  </thead>\n",
       "  <tbody>\n",
       "    <tr>\n",
       "      <th>0</th>\n",
       "      <td>Maxim Bakery &amp; Restaurant</td>\n",
       "      <td>Gu-xs3NIQTj3Mj2xYoN2aw</td>\n",
       "      <td>[u'French', u'Food', u'Bakeries', u'Restaurants']</td>\n",
       "      <td>Their signature fruit meringue cakes are good ...</td>\n",
       "    </tr>\n",
       "    <tr>\n",
       "      <th>1</th>\n",
       "      <td>Ten Ren's Tea</td>\n",
       "      <td>NF6di6YcQxN0rDAleE7SyQ</td>\n",
       "      <td>[u'Taiwanese', u'Chinese', u'Restaurants', u'T...</td>\n",
       "      <td>This place has really degraded. I used to come...</td>\n",
       "    </tr>\n",
       "    <tr>\n",
       "      <th>2</th>\n",
       "      <td>Maxim Bakery &amp; Restaurant</td>\n",
       "      <td>Gu-xs3NIQTj3Mj2xYoN2aw</td>\n",
       "      <td>[u'French', u'Food', u'Bakeries', u'Restaurants']</td>\n",
       "      <td>I have only eaten here once, but visit several...</td>\n",
       "    </tr>\n",
       "    <tr>\n",
       "      <th>3</th>\n",
       "      <td>Duo Patisserie &amp; Cafe</td>\n",
       "      <td>2_8_ipfxCRtpXesLdBCqig</td>\n",
       "      <td>[u'Coffee &amp; Tea', u'Bakeries', u'Food', u'Dess...</td>\n",
       "      <td>Finally got a chance to try this place as I he...</td>\n",
       "    </tr>\n",
       "    <tr>\n",
       "      <th>4</th>\n",
       "      <td>Uncle Tetsu's Japanese Cheesecake</td>\n",
       "      <td>RwRNR4z3kY-4OsFqigY5sw</td>\n",
       "      <td>[u'Food', u'Desserts', u'Bakeries', u'Japanese...</td>\n",
       "      <td>I came by to test my luck on a Thursday evenin...</td>\n",
       "    </tr>\n",
       "  </tbody>\n",
       "</table>\n",
       "</div>"
      ],
      "text/plain": [
       "                              name_x             business_id  \\\n",
       "0          Maxim Bakery & Restaurant  Gu-xs3NIQTj3Mj2xYoN2aw   \n",
       "1                      Ten Ren's Tea  NF6di6YcQxN0rDAleE7SyQ   \n",
       "2          Maxim Bakery & Restaurant  Gu-xs3NIQTj3Mj2xYoN2aw   \n",
       "3              Duo Patisserie & Cafe  2_8_ipfxCRtpXesLdBCqig   \n",
       "4  Uncle Tetsu's Japanese Cheesecake  RwRNR4z3kY-4OsFqigY5sw   \n",
       "\n",
       "                                          categories  \\\n",
       "0  [u'French', u'Food', u'Bakeries', u'Restaurants']   \n",
       "1  [u'Taiwanese', u'Chinese', u'Restaurants', u'T...   \n",
       "2  [u'French', u'Food', u'Bakeries', u'Restaurants']   \n",
       "3  [u'Coffee & Tea', u'Bakeries', u'Food', u'Dess...   \n",
       "4  [u'Food', u'Desserts', u'Bakeries', u'Japanese...   \n",
       "\n",
       "                                                text  \n",
       "0  Their signature fruit meringue cakes are good ...  \n",
       "1  This place has really degraded. I used to come...  \n",
       "2  I have only eaten here once, but visit several...  \n",
       "3  Finally got a chance to try this place as I he...  \n",
       "4  I came by to test my luck on a Thursday evenin...  "
      ]
     },
     "execution_count": 80,
     "metadata": {},
     "output_type": "execute_result"
    }
   ],
   "source": [
    "# taking only required columns\n",
    "new_df = complete_df[['name_x', 'business_id', 'categories', 'text']]\n",
    "new_df.head(5)"
   ]
  },
  {
   "cell_type": "code",
   "execution_count": 81,
   "metadata": {
    "colab": {
     "base_uri": "https://localhost:8080/",
     "height": 204
    },
    "colab_type": "code",
    "id": "0pRqgtGAUe08",
    "outputId": "d02b8276-04b4-4f50-dcdf-4cdae2b8c41c"
   },
   "outputs": [
    {
     "data": {
      "text/plain": [
       "12918    Aioli Gourmet Burgers and Catering Food Truck\n",
       "12919    Aioli Gourmet Burgers and Catering Food Truck\n",
       "12920                     Don Pedro Mexican Restaurant\n",
       "12921                                   Affogato Truck\n",
       "12922                                      Burma-Tokyo\n",
       "12923                              Roberto's Taco Shop\n",
       "12924                                           Barrio\n",
       "12925                                           Barrio\n",
       "12926                                  Pittsburgh Poke\n",
       "12927                                  Pittsburgh Poke\n",
       "Name: name_x, dtype: object"
      ]
     },
     "execution_count": 81,
     "metadata": {},
     "output_type": "execute_result"
    }
   ],
   "source": [
    "new_df['name_x'].tail(10)"
   ]
  },
  {
   "cell_type": "code",
   "execution_count": 82,
   "metadata": {
    "colab": {},
    "colab_type": "code",
    "id": "N9_2HUSe6Q_k"
   },
   "outputs": [],
   "source": [
    "# Computing the vectorisation of review text by fitting and transforming it\n",
    "tf = TfidfVectorizer(analyzer='word',ngram_range=(1, 2),min_df=0, stop_words='english')\n",
    "tfidf_matrix = tf.fit_transform(new_df['text'])"
   ]
  },
  {
   "cell_type": "code",
   "execution_count": 83,
   "metadata": {
    "colab": {
     "base_uri": "https://localhost:8080/",
     "height": 34
    },
    "colab_type": "code",
    "id": "iMHGazwm6e18",
    "outputId": "0ed121e9-791f-48a6-d681-052944371eee"
   },
   "outputs": [
    {
     "data": {
      "text/plain": [
       "(12928, 425309)"
      ]
     },
     "execution_count": 83,
     "metadata": {},
     "output_type": "execute_result"
    }
   ],
   "source": [
    "# Let us look at the shape of the matrix\n",
    "tfidf_matrix.shape"
   ]
  },
  {
   "cell_type": "code",
   "execution_count": 84,
   "metadata": {
    "colab": {},
    "colab_type": "code",
    "id": "ohjDI0q77IXM"
   },
   "outputs": [],
   "source": [
    "# Let us now compute the cosine similarity for the computed matrix consisting of businesses\n",
    "cosine_sim = linear_kernel(tfidf_matrix, tfidf_matrix)"
   ]
  },
  {
   "cell_type": "code",
   "execution_count": 85,
   "metadata": {
    "colab": {
     "base_uri": "https://localhost:8080/",
     "height": 51
    },
    "colab_type": "code",
    "id": "-f6NLIFB7PST",
    "outputId": "36fe6a25-666f-4914-83b5-ca701a2c9f32"
   },
   "outputs": [
    {
     "data": {
      "text/plain": [
       "array([1.        , 0.00787413, 0.08170891, ..., 0.0047723 , 0.00368598,\n",
       "       0.        ])"
      ]
     },
     "execution_count": 85,
     "metadata": {},
     "output_type": "execute_result"
    }
   ],
   "source": [
    "# Let us look for the similarity score for first business\n",
    "cosine_sim[0]"
   ]
  },
  {
   "cell_type": "markdown",
   "metadata": {
    "colab_type": "text",
    "id": "vHrw6DnO8S36"
   },
   "source": [
    "We now have a pairwise cosine similarity matrix for all the businesses in our dataset. The next step is to write a function that returns the 10 most similar businesses based on the cosine similarity score."
   ]
  },
  {
   "cell_type": "code",
   "execution_count": 114,
   "metadata": {
    "colab": {},
    "colab_type": "code",
    "id": "eOGLO9H_8vFF"
   },
   "outputs": [],
   "source": [
    "# function that returns top 10 most similar businesses based on cosine similarity scores\n",
    "new_df = new_df.reset_index()\n",
    "name_x = new_df['name_x']\n",
    "indices = pd.Series(new_df.index, index=new_df['name_x'])\n"
   ]
  },
  {
   "cell_type": "code",
   "execution_count": 115,
   "metadata": {},
   "outputs": [],
   "source": [
    "def get_recommendations(name_x):\n",
    "    idx = indices[name_x]\n",
    "    sim_scores = list(enumerate(cosine_sim[idx]))\n",
    "    print(idx)\n",
    "    sim_scores = sorted(sim_scores, key=lambda x: x[1], reverse=True)\n",
    "    sim_scores = sim_scores[1:11]\n",
    "    restaurent_indices = [i[0] for i in sim_scores]\n",
    "    return new_df['name_x'].iloc[restaurent_indices]"
   ]
  },
  {
   "cell_type": "code",
   "execution_count": 119,
   "metadata": {
    "colab": {
     "base_uri": "https://localhost:8080/",
     "height": 221
    },
    "colab_type": "code",
    "id": "N7L9nt-e9BZU",
    "outputId": "61b2e67c-0462-4ad4-b639-e24c5f002bfe"
   },
   "outputs": [
    {
     "name": "stdout",
     "output_type": "stream",
     "text": [
      "2275\n"
     ]
    },
    {
     "data": {
      "text/plain": [
       "7843                     Sugar Hut\n",
       "6828                       Teavana\n",
       "552              Ming's Bubble Tea\n",
       "2377                  Brew Tea Bar\n",
       "341      Second Cup Coffee Company\n",
       "2259                The Second Cup\n",
       "7051              Nekter Juice Bar\n",
       "1998                     Tuck Shop\n",
       "1510              Fresh on Spadina\n",
       "12737    Hot Pot Caribbean Cuisine\n",
       "Name: name_x, dtype: object"
      ]
     },
     "execution_count": 119,
     "metadata": {},
     "output_type": "execute_result"
    }
   ],
   "source": [
    "get_recommendations('Aries Cafe').head(10)"
   ]
  },
  {
   "cell_type": "markdown",
   "metadata": {
    "colab_type": "text",
    "id": "Dh2hzYcBjn6D"
   },
   "source": [
    "## 6. CONCLUSION"
   ]
  },
  {
   "cell_type": "markdown",
   "metadata": {
    "colab_type": "text",
    "id": "UCMux0IbkfJW"
   },
   "source": [
    "Thus in the above notebook, we have researched about the user rating prediction using Natural Language Processing on the review text by training our model using both Naive Bias Algorithm and Logistic Regression algorithm and comparing it with the baseline model. We have also implemented recommendation system using user rating prediction on various models and recommendation techniques by computing both pearson_baseline and cosine similarity metrics."
   ]
  },
  {
   "cell_type": "markdown",
   "metadata": {},
   "source": [
    "## The MIT License "
   ]
  },
  {
   "cell_type": "markdown",
   "metadata": {},
   "source": [
    "Copyright 2019 Ami Gandhi, Shreyansh Singh, Pranav Swaminathan\n",
    "\n",
    "Permission is hereby granted, free of charge, to any person obtaining a copy of this software and associated documentation files (the \"Software\"), to deal in the Software without restriction, including without limitation the rights to use, copy, modify, merge, publish, distribute, sublicense, and/or sell copies of the Software, and to permit persons to whom the Software is furnished to do so, subject to the following conditions:\n",
    "\n",
    "The above copyright notice and this permission notice shall be included in all copies or substantial portions of the Software.\n",
    "\n",
    "THE SOFTWARE IS PROVIDED \"AS IS\", WITHOUT WARRANTY OF ANY KIND, EXPRESS OR IMPLIED, INCLUDING BUT NOT LIMITED TO THE WARRANTIES OF MERCHANTABILITY, FITNESS FOR A PARTICULAR PURPOSE AND NONINFRINGEMENT. IN NO EVENT SHALL THE AUTHORS OR COPYRIGHT HOLDERS BE LIABLE FOR ANY CLAIM, DAMAGES OR OTHER LIABILITY, WHETHER IN AN ACTION OF CONTRACT, TORT OR OTHERWISE, ARISING FROM, OUT OF OR IN CONNECTION WITH THE SOFTWARE OR THE USE OR OTHER DEALINGS IN THE SOFTWARE."
   ]
  }
 ],
 "metadata": {
  "accelerator": "GPU",
  "colab": {
   "collapsed_sections": [],
   "name": "User Rating Prediction using NLP and Restaurant Recommendation.ipynb",
   "provenance": [],
   "version": "0.3.2"
  },
  "kernelspec": {
   "display_name": "Python 3",
   "language": "python",
   "name": "python3"
  },
  "language_info": {
   "codemirror_mode": {
    "name": "ipython",
    "version": 3
   },
   "file_extension": ".py",
   "mimetype": "text/x-python",
   "name": "python",
   "nbconvert_exporter": "python",
   "pygments_lexer": "ipython3",
   "version": "3.6.5"
  }
 },
 "nbformat": 4,
 "nbformat_minor": 1
}
